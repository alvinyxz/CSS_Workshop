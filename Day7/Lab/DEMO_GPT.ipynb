{
 "cells": [
  {
   "cell_type": "code",
   "execution_count": null,
   "id": "filled-sterling",
   "metadata": {
    "id": "16de8cc8-fe8c-4dec-a58a-68fa050b7d3a",
    "outputId": "ac71a964-ee35-4310-e960-fac87d81d30c"
   },
   "outputs": [],
   "source": [
    "# Import the functions\n",
    "from labelgenius import classification_GPT, generate_GPT_finetune_jsonl, finetune_GPT,price_estimation, auto_verification\n",
    "\n",
    "api_key = \"XXX\""
   ]
  },
  {
   "cell_type": "markdown",
   "id": "ignored-apache",
   "metadata": {
    "id": "ecdea590-13db-4d21-b105-9948c1ff3b95"
   },
   "source": [
    "Demo 1: Single-Category Classification using N24News Dataset\n",
    "-------------------------------------------------------------\n",
    "\n",
    "This demo shows how to classify a single news article into one of 24 category\n",
    "using the N24News dataset. Each article in the dataset includes both textual\n",
    "and visual information.\n",
    "\n",
    "Source: https://aclanthology.org/2022.lrec-1.729/\n",
    "\n",
    "\n",
    "Each article contains the following fields:\n",
    "- 'section': Ground truth label (one of 24 category)\n",
    "- 'headline': Title of the article\n",
    "- 'abstract': Short summary of the article\n",
    "- 'article': Full text content\n",
    "- 'article_url': Link to the original article\n",
    "- 'image': Encoded image or metadata (optional)\n",
    "- 'caption': Image caption\n",
    "- 'image_id': Unique image identifier\n",
    "- 'img_dir': Path to the associated image (e.g., 'N24News/imgs_200_sample1/12345.jpg')\n",
    "- 'article_id': Unique article identifier\n",
    "\n",
    "Image file: Multimodal_image\n",
    "\n",
    "Example category (See prompt_D1 for the complete category):\n",
    "------------------------\n",
    "1. Health\n",
    "2. Science\n",
    "3. Television\n",
    "...\n",
    "24. Global Business\n",
    "\n",
    "Reference:\n",
    "----------\n",
    "Wang, Z., Shan, X., Zhang, X., & Yang, J. (2022).\n",
    "N24News: A New Dataset for Multimodal News Classification.\n",
    "In *Proceedings of the Thirteenth Language Resources and Evaluation Conference* (pp. 6768–6775). LREC.\n"
   ]
  },
  {
   "cell_type": "markdown",
   "id": "pressing-commander",
   "metadata": {
    "id": "708f68b3-8d41-4647-8d86-eb282e65a53f"
   },
   "source": [
    "### Demo 1a: Single-Category Text Classification\n",
    "\n",
    "**Datasets:**\n",
    "- `D1_1.csv`: Used for initial labeling and fine-tuning.\n",
    "- `D1_1.csv`: Used for testing the fine-tuned model's performance.\n"
   ]
  },
  {
   "cell_type": "markdown",
   "id": "excessive-assembly",
   "metadata": {},
   "source": [
    "## GPT: third-party API labeling\n"
   ]
  },
  {
   "cell_type": "code",
   "execution_count": null,
   "id": "embedded-filing",
   "metadata": {
    "id": "39982206-0d31-4746-ae6d-a76699c9b711",
    "outputId": "4df3d15f-8862-4421-93f5-6e7259ef6c29"
   },
   "outputs": [],
   "source": [
    "# Define the list of 24 category labels\n",
    "category_D1_GPT = [\n",
    "    \"1\", \"2\", \"3\", \"4\", \"5\", \"6\",\n",
    "    \"7\", \"8\", \"9\", \"10\", \"11\", \"12\",\n",
    "    \"13\", \"14\", \"15\", \"16\", \"17\", \"18\",\n",
    "    \"19\", \"20\", \"21\", \"22\", \"23\", \"24\"\n",
    "]\n",
    "\n",
    "\n",
    "# Define the descriptive prompts for each category\n",
    "prompt_D1_GPT = [\"\"\"You are given a short news article. Based on its content, return the most appropriate category label from the list below. Respond with only a number from 1 to 24, corresponding to the best-matching category:\n",
    "\n",
    "1. Health – medical news, public health, fitness, mental health, wellness\n",
    "2. Science – scientific discoveries, research studies, space, innovations\n",
    "3. Television – TV shows, reviews, industry news, streaming\n",
    "4. Travel – tourism, destinations, travel guides, airlines, vacation trends\n",
    "5. Movies – film news, reviews, box office, upcoming releases\n",
    "6. Dance – ballet, contemporary styles, street dance, performances\n",
    "7. Real Estate – housing trends, property sales, architecture, urban planning\n",
    "8. Economy – macroeconomics, inflation, markets, GDP, financial policies\n",
    "9. Sports – competitions, athletes, Demo_results, professional sports\n",
    "10. Theater – plays, Broadway, live performances, stage reviews\n",
    "11. Opinion – editorials, commentary, analysis\n",
    "12. Music – albums, artists, concerts, festivals, music trends\n",
    "13. Books – literature, bestsellers, author interviews, book reviews\n",
    "14. Art & Design – fine arts, museums, exhibitions, visual/design trends\n",
    "15. Style – fashion trends, beauty, personal style, aesthetics\n",
    "16. Media – journalism, publishing, digital media, mass communication\n",
    "17. Food – restaurants, recipes, cooking, culinary culture\n",
    "18. Well – lifestyle, self-care, mental well-being, personal development\n",
    "19. Fashion – clothing, designers, fashion weeks, industry insights\n",
    "20. Technology – AI, gadgets, software, cybersecurity, tech innovations\n",
    "21. Your Money – personal finance, investing, budgeting, financial planning\n",
    "22. Education – schools, universities, learning methods, education policies\n",
    "23. Automobiles – car news, EVs, reviews, industry trends\n",
    "24. Global Business – international trade, corporations, mergers, global markets\n",
    "\n",
    "Return the categorty label only (e.g., 5), no extra words.\"\"\"]\n",
    "\n",
    "\n",
    "\n"
   ]
  },
  {
   "cell_type": "markdown",
   "id": "9788aef6-37c9-444f-b76c-1c208d2cfae3",
   "metadata": {},
   "source": [
    "## Price estimation"
   ]
  },
  {
   "cell_type": "raw",
   "id": "15b60eea-48ce-437a-95e7-c6bc4e156dea",
   "metadata": {},
   "source": [
    "## Step 1: Test the Prompt at OpenAI Playground (https://platform.openai.com/playground/)\n",
    "\n",
    "Choose the Model: Select the model you want to use (e.g., gpt-4.1, o4-mini, etc.).\n",
    "\n",
    "Familiarize with Parameters: Understand the adjustable parameters such as temperature, effort.\n",
    "\n",
    "Test the Prompts: Experiment with different prompt structures to optimize performance and clarity. Ensure you have a well-structured and effective prompt before moving to implementation.\n",
    "\n",
    "##Step 2: Test the Prompt in Python\n",
    "\n",
    "In the playground, remove the GPT-generated responses; only keep the system settings and your chat instructions.\n",
    "\n",
    "Click \"Code\" in the Playground and select \"Copy Code\" for the Python template.\n",
    "\n",
    "Understand the Example Output: Analyze the output format and structure. You may need to handle parsing, error catching, or post-processing depending on your application."
   ]
  },
  {
   "cell_type": "code",
   "execution_count": null,
   "id": "00e96274-a6b1-45b3-830f-38a942c13211",
   "metadata": {},
   "outputs": [],
   "source": [
    "import os\n",
    "import time\n",
    "import pandas as pd\n",
    "from openai import OpenAI\n",
    "from tqdm.auto import tqdm\n",
    "\n",
    "\n",
    "# ── CONFIG ────────────────────────────────────────────────────────────────\n",
    "os.environ[\"OPENAI_API_KEY\"] = api_key\n",
    "client = OpenAI()\n",
    "\n",
    "# ── Testing (copied from OpenAI playground) ───────────────────────────────\n",
    "response = client.responses.create(\n",
    "  model=\"o4-mini\",\n",
    "  input=[\n",
    "    {\n",
    "      \"role\": \"developer\",\n",
    "      \"content\": [\n",
    "        {\n",
    "          \"type\": \"input_text\",\n",
    "          \"text\": \"\"\"You are given a short news article. Based on its content, return the most appropriate category label from the list below. Respond with only a number from 1 to 24, corresponding to the best-matching category:\n",
    "\n",
    "1. Health – medical news, public health, fitness, mental health, wellness\n",
    "2. Science – scientific discoveries, research studies, space, innovations\n",
    "3. Television – TV shows, reviews, industry news, streaming\n",
    "4. Travel – tourism, destinations, travel guides, airlines, vacation trends\n",
    "5. Movies – film news, reviews, box office, upcoming releases\n",
    "6. Dance – ballet, contemporary styles, street dance, performances\n",
    "7. Real Estate – housing trends, property sales, architecture, urban planning\n",
    "8. Economy – macroeconomics, inflation, markets, GDP, financial policies\n",
    "9. Sports – competitions, athletes, Demo_results, professional sports\n",
    "10. Theater – plays, Broadway, live performances, stage reviews\n",
    "11. Opinion – editorials, commentary, analysis\n",
    "12. Music – albums, artists, concerts, festivals, music trends\n",
    "13. Books – literature, bestsellers, author interviews, book reviews\n",
    "14. Art & Design – fine arts, museums, exhibitions, visual/design trends\n",
    "15. Style – fashion trends, beauty, personal style, aesthetics\n",
    "16. Media – journalism, publishing, digital media, mass communication\n",
    "17. Food – restaurants, recipes, cooking, culinary culture\n",
    "18. Well – lifestyle, self-care, mental well-being, personal development\n",
    "19. Fashion – clothing, designers, fashion weeks, industry insights\n",
    "20. Technology – AI, gadgets, software, cybersecurity, tech innovations\n",
    "21. Your Money – personal finance, investing, budgeting, financial planning\n",
    "22. Education – schools, universities, learning methods, education policies\n",
    "23. Automobiles – car news, EVs, reviews, industry trends\n",
    "24. Global Business – international trade, corporations, mergers, global markets\n",
    "\n",
    "Return the complete label only (e.g., 1), no extra words.\"\"\"\n",
    "            }\n",
    "      ]\n",
    "    },\n",
    "    {\n",
    "      \"role\": \"user\",\n",
    "      \"content\": [\n",
    "        {\n",
    "          \"type\": \"input_text\",\n",
    "          \"text\": \"\\\"\\\"\\\" Our guide to the city's best classical music and opera.\\\"\\\"\\\"\\n      \"\n",
    "        }\n",
    "      ]\n",
    "    }\n",
    "  ],\n",
    "  text={\n",
    "    \"format\": {\n",
    "      \"type\": \"text\"\n",
    "    }\n",
    "  },\n",
    "  reasoning={\n",
    "    \"effort\": \"medium\"\n",
    "  },\n",
    "  tools=[],\n",
    "  store=True\n",
    ")"
   ]
  },
  {
   "cell_type": "code",
   "execution_count": null,
   "id": "95ad2c25-e6e8-41eb-a61e-79068717a8c9",
   "metadata": {},
   "outputs": [],
   "source": [
    "response"
   ]
  },
  {
   "cell_type": "code",
   "execution_count": null,
   "id": "51e706c3-ede6-4cbd-9340-a0d6022bbb99",
   "metadata": {},
   "outputs": [],
   "source": [
    "price_estimation (response,\n",
    "                  num_rows = 20,\n",
    "                  input_cost_per_million = 1.10,\n",
    "                  output_cost_per_million = 4.44,\n",
    "                  num_votes = 3)\n",
    "\n",
    "# https://openai.com/api/pricing/"
   ]
  },
  {
   "cell_type": "markdown",
   "id": "d7cdebad-75e8-438c-b5cf-33272d425cbb",
   "metadata": {},
   "source": [
    "## GPT-4o"
   ]
  },
  {
   "cell_type": "code",
   "execution_count": null,
   "id": "vital-alcohol",
   "metadata": {},
   "outputs": [],
   "source": [
    "D1a_GPT_4o_inital_lableing = classification_GPT(\n",
    "    text_path=\"Demo_data/D1_1.csv\",\n",
    "    category = category_D1_GPT,\n",
    "    prompt = prompt_D1_GPT,\n",
    "    column_4_labeling=[\"headline\", \"article\", \"abstract\"],\n",
    "    model = \"gpt-4o-mini\",\n",
    "    api_key = api_key,\n",
    "    temperature= 1, #a value range from 0 to 2\n",
    "    mode = \"text\",\n",
    "    output_column_name=\"D1a_GPT_4o_inital_lableing\",\n",
    "    num_themes = 1,\n",
    "    num_votes = 3)\n",
    "\n",
    "D1a_GPT_4o_inital_lableing.to_csv(\"Demo_result/D1a_GPT_4o_inital_lableing.csv\", index=False)"
   ]
  },
  {
   "cell_type": "code",
   "execution_count": null,
   "id": "864b1c2a-3eeb-4361-a9d9-a4ba38e4c082",
   "metadata": {},
   "outputs": [],
   "source": [
    "D1a_GPT_4o_inital_lableing"
   ]
  },
  {
   "cell_type": "code",
   "execution_count": null,
   "id": "systematic-former",
   "metadata": {},
   "outputs": [],
   "source": [
    "## Check the accuracy: GPT 4o inital labeling\n",
    "D1a_GPT_4o_inital_lableing['D1a_GPT_4o_inital_lableing'] = pd.to_numeric(D1a_GPT_4o_inital_lableing['D1a_GPT_4o_inital_lableing'], errors='coerce')\n",
    "D1a_GPT_4o_inital_lableing['section_numeric'] = pd.to_numeric(D1a_GPT_4o_inital_lableing['section_numeric'], errors='coerce')\n",
    "\n",
    "auto_verification(\n",
    "    D1a_GPT_4o_inital_lableing,\n",
    "    predicted_cols=\"D1a_GPT_4o_inital_lableing\",\n",
    "    true_cols=\"section_numeric\",\n",
    "    category=category_D1_GPT\n",
    ")"
   ]
  },
  {
   "cell_type": "markdown",
   "id": "other-sugar",
   "metadata": {},
   "source": [
    "### Note: Fine-Tune GPT models:\n",
    "\n",
    "Ensure that fine-tuning is performed on snapshot models, meaning the model's state is preserved with the training data up to that point. This approach allows the model to learn from incremental updates effectively.\n",
    "\n",
    "\n",
    "GPT reasoning models (i.e., o-series) can not be fine-tuned for now\n",
    "\n",
    "#### Minimum Data Requirement:\n",
    "Fine-tuning for GPT-4o starts to show effective learning with around ~20 examples each category. Insufficient data may not capture nuanced learning effectively.\n",
    "\n",
    "#### Bad Perormance Tiny Datasets:\n",
    "\n",
    "When fine-tuning with very small datasets, the optimizer may converge to simply output the majority token as this is the easiest way to minimize loss.\n",
    "\n",
    "This behavior is not representative of true learning—it reflects a bias towards frequent labels instead of understanding contextual differences.\n"
   ]
  },
  {
   "cell_type": "code",
   "execution_count": null,
   "id": "6b18ae17-4ab1-4509-a712-8f6cd255b220",
   "metadata": {},
   "outputs": [],
   "source": [
    "# Prepare the data for GPT-4o \n",
    "# The JSONL should have three parts: \n",
    "# 1. system_prompt: coding instruction\n",
    "# 2. input_col: The information needed to be labeled\n",
    "# 3. label_col: the label\n",
    "\n",
    "\n",
    "generate_GPT_finetune_jsonl(\n",
    "    D1a_GPT_4o_inital_lableing,\n",
    "    output_path=\"Demo_result/D1a_GPT_4o_inital_lableing.jsonl\",\n",
    "    system_prompt=prompt_D1_GPT,\n",
    "    input_col=[\"headline\", \"article\", \"abstract\"],\n",
    "    label_col=[\"section_numeric\"]\n",
    ")\n"
   ]
  },
  {
   "cell_type": "markdown",
   "id": "14a84eaf-6efd-4f57-b7a7-22065568fe27",
   "metadata": {},
   "source": [
    "# GPT-4o Fine-Tune Hyperparameters\n",
    "\n",
    "---\n",
    "\n",
    "##  **1️⃣ Batch Size Considerations**\n",
    "The batch size determines how many samples are processed at once. Larger batch sizes may speed up training but can lead to instability, especially with limited data.\n",
    "\n",
    "###  **Recommendations:**\n",
    "| Dataset Size         | Recommended Batch Size |\n",
    "|-----------------------|------------------------|\n",
    "| **< 1,000 samples**  | `batch_size: 4`       |\n",
    "| **1,000 - 10,000**   | `batch_size: 8` or `16` |\n",
    "| **> 10,000**         | `batch_size: 32`      |\n",
    "| **> 100,000**        | `batch_size: 64`      |\n",
    "\n",
    "###  **Caution:**\n",
    "- Increasing batch size can lead to overfitting if the data is not diverse.\n",
    "- If training loss is unstable, consider lowering the batch size.\n",
    "\n",
    "---\n",
    "\n",
    "##  **2️⃣ Learning Rate Multiplier**\n",
    "The learning rate multiplier scales the base learning rate of the model. A value of **0.1** means the effective learning rate is **10%** of the model's default.\n",
    "\n",
    "###  **Recommendations:**\n",
    "| Data Type                         | Learning Rate Multiplier |\n",
    "|-----------------------------------|--------------------------|\n",
    "| **High variance text** (e.g., news articles, social media posts) | `0.02` to `0.05` |\n",
    "| **Domain-specific text** (e.g., scientific abstracts, legal documents) | `0.02` to `0.1`  |\n",
    "| **Noisy or mixed-domain data** (e.g., user-generated content) | `0.01` to `0.02` |\n",
    "| **Highly structured data** (e.g., technical manuals) | `0.05` to `0.1` |\n",
    "\n",
    "###  **Caution:**\n",
    "- If loss suddenly spikes, reduce the learning rate multiplier.\n",
    "- If the model underfits (low accuracy and low loss), slightly increase the multiplier.\n",
    "- Avoid setting too high a learning rate (`> 0.1`) unless you have very clean and structured data.\n",
    "\n",
    "---"
   ]
  },
  {
   "cell_type": "code",
   "execution_count": null,
   "id": "c62d9a0e-3856-4bd8-aec2-9d4ea1746017",
   "metadata": {},
   "outputs": [],
   "source": [
    "# Fine-tune GPT-4o\n",
    "D1a_GPT_4o_model_finetune = finetune_GPT(\n",
    "    training_file_path=\"Demo_result/D1a_GPT_4o_inital_lableing.jsonl\",\n",
    "    model=\"gpt-4o-mini-2024-07-18\",  \n",
    "    hyperparameters={\"batch_size\":8, \"learning_rate_multiplier\":0.01},\n",
    "    api_key= api_key  \n",
    ")"
   ]
  },
  {
   "cell_type": "code",
   "execution_count": null,
   "id": "7aeac107-9976-411d-a47d-6853e55df725",
   "metadata": {},
   "outputs": [],
   "source": [
    "D1a_GPT_4o_model_finetune"
   ]
  },
  {
   "cell_type": "markdown",
   "id": "f58e1e96-3401-4ab2-a0d7-d94cd31ae056",
   "metadata": {},
   "source": [
    "#### Note. You can wait in the code untill status = finish \n",
    "##### Or you will receive an email from OpenAI when the fine tune is done \n",
    "\n",
    "#### Example email\n",
    "Hi JCs‘ research,\n",
    "Your fine-tuning job ftjob-xxxx has successfully completed, and a new model **ft:gpt-4o-mini-2024-07-18:xxx::xxxx** has been created for your use.\n",
    "\n",
    "Copy the identifier to the classification_GPT()'s model."
   ]
  },
  {
   "cell_type": "code",
   "execution_count": null,
   "id": "2578f035-2d44-4ede-867d-515e381ebee8",
   "metadata": {},
   "outputs": [],
   "source": [
    "# Classify with fine‑tuned 4o model\n",
    "D1_GPT_4o_finetune = classification_GPT(\n",
    "    text_path=\"Demo_data/D1_2.csv\",\n",
    "    category = category_D1_GPT,\n",
    "    prompt = prompt_D1_GPT,\n",
    "    column_4_labeling=[\"headline\", \"article\", \"abstract\"],\n",
    "    model = D1a_GPT_4o_model_finetune,\n",
    "    api_key = api_key,\n",
    "    temperature = 1,\n",
    "    mode = \"text\",\n",
    "    output_column_name=\"D1_GPT_4o_finetune\",\n",
    "    num_themes = 1,\n",
    "    num_votes = 1)\n",
    "\n",
    "\n",
    "\n",
    "D1_GPT_4o_finetune.to_csv(\"Demo_result/D1_GPT_4o_finetune.csv\", index=False)"
   ]
  },
  {
   "cell_type": "code",
   "execution_count": null,
   "id": "34862553-afe3-4d68-9aca-7b91527f18f7",
   "metadata": {},
   "outputs": [],
   "source": [
    "## Check the accuracy: GPT o4 initial labeling\n",
    "auto_verification(\n",
    "    D1_GPT_4o_finetune,\n",
    "    predicted_cols=\"D1_GPT_4o_finetune\",\n",
    "    true_cols=\"section_numeric\",\n",
    "    category=category_D1_GPT\n",
    ");"
   ]
  },
  {
   "cell_type": "markdown",
   "id": "0433b150-d9da-47d7-8780-179b99da70e7",
   "metadata": {},
   "source": [
    "#### Note:\n",
    "The error observed here is expected and occurs because OpenAI did not return a result from the anticipated category. The code is designed to handle this automatically by sending another request (Default = 3). However, if you consistently encounter this issue throughout the output, please verify the prompt settings in the Playground."
   ]
  },
  {
   "cell_type": "markdown",
   "id": "actual-watershed",
   "metadata": {},
   "source": [
    "## GPT-o4 (reasoning model)\n"
   ]
  },
  {
   "cell_type": "code",
   "execution_count": null,
   "id": "filled-multiple",
   "metadata": {
    "id": "475e3d48-fee8-43a8-8727-7aa5c06c9269",
    "outputId": "61cb5a3d-1f36-4776-9a9a-b1623522bb43"
   },
   "outputs": [],
   "source": [
    "D1a_GPT_o4_inital_lableing = classification_GPT(\n",
    "    text_path=\"Demo_data/D1_1.csv\",\n",
    "    category = category_D1_GPT,\n",
    "    prompt = prompt_D1_GPT,\n",
    "    column_4_labeling=[\"headline\", \"article\", \"abstract\"],\n",
    "    model = \"o4-mini\",\n",
    "    api_key = api_key,\n",
    "    effort = \"medium\",\n",
    "    mode = \"text\",\n",
    "    output_column_name=\"D1a_GPT_o4_inital_lableing\",\n",
    "    num_themes = 1,\n",
    "    num_votes = 1)\n",
    "\n",
    "\n",
    "D1a_GPT_o4_inital_lableing.to_csv(\"Demo_result/D1a_GPT_o4_inital_lableing.csv\", index=False)"
   ]
  },
  {
   "cell_type": "code",
   "execution_count": null,
   "id": "efficient-bulgarian",
   "metadata": {
    "id": "b6bd8ac6-59bf-4cb5-9190-aa926aa6ea0e"
   },
   "outputs": [],
   "source": [
    "## Check the accuracy: GPT o4 initial labeling\n",
    "auto_verification(\n",
    "    D1a_GPT_o4_inital_lableing,\n",
    "    predicted_cols=\"D1a_GPT_o4_inital_lableing\",\n",
    "    true_cols=\"section_numeric\",\n",
    "    category=category_D1_GPT\n",
    ");"
   ]
  },
  {
   "cell_type": "markdown",
   "id": "interpreted-appendix",
   "metadata": {},
   "source": [
    "#### Note: GPT reasnong models (i.e., o-series) can not be finetuned for now"
   ]
  },
  {
   "cell_type": "markdown",
   "id": "global-motel",
   "metadata": {
    "id": "d6e7cf88-f625-4bdf-adb3-9c2a0d3d0532"
   },
   "source": [
    "# Demo 1b: Classify single-category image data\n",
    "\n",
    "**Datasets:**\n",
    "- `imgs_40`: Used for initial labeling and fine-tuning.\n",
    "- `imgs_40_2`: Used for testing the fine-tuned model's performance.\n"
   ]
  },
  {
   "cell_type": "code",
   "execution_count": null,
   "id": "18d575bb-0cf0-4091-b2ff-01a0470abf13",
   "metadata": {},
   "outputs": [],
   "source": [
    "# Define the list of 24 category labels\n",
    "category_D1_GPT = [\n",
    "    \"1\", \"2\", \"3\", \"4\", \"5\", \"6\",\n",
    "    \"7\", \"8\", \"9\", \"10\", \"11\", \"12\",\n",
    "    \"13\", \"14\", \"15\", \"16\", \"17\", \"18\",\n",
    "    \"19\", \"20\", \"21\", \"22\", \"23\", \"24\"\n",
    "]\n",
    "\n",
    "\n",
    "# Define the descriptive prompts for each category\n",
    "prompt_D1_GPT = [\"\"\"You are given an image. Based on its content, return the most appropriate category label from the list below. Respond with only a number from 1 to 24, corresponding to the best-matching category:\n",
    "\n",
    "1. Health – medical news, public health, fitness, mental health, wellness\n",
    "2. Science – scientific discoveries, research studies, space, innovations\n",
    "3. Television – TV shows, reviews, industry news, streaming\n",
    "4. Travel – tourism, destinations, travel guides, airlines, vacation trends\n",
    "5. Movies – film news, reviews, box office, upcoming releases\n",
    "6. Dance – ballet, contemporary styles, street dance, performances\n",
    "7. Real Estate – housing trends, property sales, architecture, urban planning\n",
    "8. Economy – macroeconomics, inflation, markets, GDP, financial policies\n",
    "9. Sports – competitions, athletes, Demo_results, professional sports\n",
    "10. Theater – plays, Broadway, live performances, stage reviews\n",
    "11. Opinion – editorials, commentary, analysis\n",
    "12. Music – albums, artists, concerts, festivals, music trends\n",
    "13. Books – literature, bestsellers, author interviews, book reviews\n",
    "14. Art & Design – fine arts, museums, exhibitions, visual/design trends\n",
    "15. Style – fashion trends, beauty, personal style, aesthetics\n",
    "16. Media – journalism, publishing, digital media, mass communication\n",
    "17. Food – restaurants, recipes, cooking, culinary culture\n",
    "18. Well – lifestyle, self-care, mental well-being, personal development\n",
    "19. Fashion – clothing, designers, fashion weeks, industry insights\n",
    "20. Technology – AI, gadgets, software, cybersecurity, tech innovations\n",
    "21. Your Money – personal finance, investing, budgeting, financial planning\n",
    "22. Education – schools, universities, learning methods, education policies\n",
    "23. Automobiles – car news, EVs, reviews, industry trends\n",
    "24. Global Business – international trade, corporations, mergers, global markets\n",
    "\n",
    "Return the categorty label only (e.g., 5), no extra words.\"\"\"]\n",
    "\n",
    "\n",
    "\n"
   ]
  },
  {
   "cell_type": "markdown",
   "id": "certain-insert",
   "metadata": {},
   "source": [
    "## GPT-4o\n"
   ]
  },
  {
   "cell_type": "code",
   "execution_count": null,
   "id": "forbidden-mexico",
   "metadata": {},
   "outputs": [],
   "source": [
    "D1b_GPT_4o_inital_lableing = classification_GPT(\n",
    "    image_dir=\"Demo_data/D1_imgs_1\",\n",
    "    text_path=\"Demo_data/D1_1.csv\",\n",
    "    category = category_D1_GPT,\n",
    "    prompt = prompt_D1_GPT,\n",
    "    model = \"gpt-4o-mini\",\n",
    "    api_key = api_key,\n",
    "    temperature = 0.8,\n",
    "    mode = \"image\",\n",
    "    output_column_name=\"D1b_GPT_4o_inital_lableing\",\n",
    "    num_themes = 1,\n",
    "    num_votes = 3)\n",
    "\n",
    "\n",
    "D1b_GPT_4o_inital_lableing.to_csv(\"Demo_result/D1b_GPT_4o_inital_lableing.csv\", index=False)"
   ]
  },
  {
   "cell_type": "code",
   "execution_count": null,
   "id": "c5348fd5-e69b-4e6b-9ccc-56c6180d72bf",
   "metadata": {},
   "outputs": [],
   "source": [
    "D1b_GPT_4o_inital_lableing"
   ]
  },
  {
   "cell_type": "code",
   "execution_count": null,
   "id": "apart-amazon",
   "metadata": {},
   "outputs": [],
   "source": [
    "## Check the accuracy: GPT 4o inital labeling\n",
    "# Merge the Demo_result of the image with the human label\n",
    "D1b_CLIP_human = pd.read_csv(\"Demo_data/D1_1.csv\")\n",
    "D1b_GPT_4o_inital_lableing = pd.merge(D1b_GPT_4o_inital_lableing, D1b_CLIP_human, on=\"image_id\", how=\"inner\")\n",
    "D1b_GPT_4o_inital_lableing.to_csv(\"Demo_result/D1b_GPT_4o_inital_lableing.csv\", index=False)\n",
    "\n",
    "\n",
    "auto_verification(\n",
    "    D1b_GPT_4o_inital_lableing,\n",
    "    predicted_cols=\"D1b_GPT_4o_inital_lableing\",\n",
    "    true_cols=\"section_numeric\",\n",
    "    category=category_D1_GPT\n",
    ");"
   ]
  },
  {
   "cell_type": "markdown",
   "id": "wireless-hierarchy",
   "metadata": {},
   "source": [
    "## GPT-o4 (reasoning model)\n"
   ]
  },
  {
   "cell_type": "code",
   "execution_count": null,
   "id": "cultural-prevention",
   "metadata": {},
   "outputs": [],
   "source": [
    "D1b_GPT_o4_inital_lableing = classification_GPT(\n",
    "    image_dir=\"Demo_data/D1_imgs_1\",\n",
    "    text_path=\"Demo_data/D1_1.csv\",\n",
    "    category = category_D1_GPT,\n",
    "    prompt = prompt_D1_GPT,\n",
    "    model = \"o4-mini\",\n",
    "    api_key = api_key,\n",
    "    effort = \"medium\",\n",
    "    mode = \"image\",\n",
    "    output_column_name=\"D1b_GPT_o4_inital_lableing\",\n",
    "    num_themes = 1,\n",
    "    num_votes = 1)\n",
    "\n",
    "\n",
    "D1b_GPT_o4_inital_lableing.to_csv(\"Demo_result/D1b_GPT_o4_inital_lableing.csv\", index=False)"
   ]
  },
  {
   "cell_type": "code",
   "execution_count": null,
   "id": "4bfbf256-f0a6-454d-bede-8390f3d1d1a2",
   "metadata": {},
   "outputs": [],
   "source": [
    "D1b_GPT_o4_inital_lableing"
   ]
  },
  {
   "cell_type": "code",
   "execution_count": null,
   "id": "sonic-shift",
   "metadata": {},
   "outputs": [],
   "source": [
    "## Check the accuracy: GPT o4 initial labeling\n",
    "D1b_CLIP_human = pd.read_csv(\"Demo_data/D1_1.csv\")\n",
    "D1b_GPT_o4_inital_lableing = pd.merge(D1b_GPT_o4_inital_lableing, D1b_CLIP_human, on=\"image_id\", how=\"inner\")\n",
    "D1b_GPT_o4_inital_lableing.to_csv(\"Demo_result/D1b_GPT_4o_inital_lableing.csv\", index=False)\n",
    "\n",
    "\n",
    "auto_verification(\n",
    "    D1b_GPT_o4_inital_lableing,\n",
    "    predicted_cols=\"D1b_GPT_o4_inital_lableing\",\n",
    "    true_cols=\"section_numeric\",\n",
    "    category=category_D1_GPT\n",
    ");"
   ]
  },
  {
   "cell_type": "markdown",
   "id": "interesting-identification",
   "metadata": {},
   "source": [
    "#### Note: the current GPT models have strict restrictions on fine-tuning images. So it is not used here."
   ]
  },
  {
   "cell_type": "markdown",
   "id": "square-fisher",
   "metadata": {},
   "source": [
    "# Demo 1c: Classify single-category text + image data\n",
    "\n",
    "**Datasets:**\n",
    "- `nytimes_40.csv`: Used for initial labeling and fine-tuning.\n",
    "- `imgs_40`: Used for initial labeling and fine-tuning.\n",
    "\n",
    "- `nytimes_40_2.csv`: Used for testing the fine-tuned model's performance.\n",
    "- `imgs_40_2`: Used for testing the fine-tuned model's performance.\n",
    "\n",
    "\n",
    "The text dataset should contain a column `img_dir` to map the images for each row."
   ]
  },
  {
   "cell_type": "markdown",
   "id": "seeing-sender",
   "metadata": {},
   "source": [
    "## CLIP: local labeling"
   ]
  },
  {
   "cell_type": "code",
   "execution_count": null,
   "id": "a91eef86-95b6-4bf2-adbd-6cc92c3a586d",
   "metadata": {},
   "outputs": [],
   "source": [
    "# Define the list of 24 category labels\n",
    "category_D1_GPT = [\n",
    "    \"1\", \"2\", \"3\", \"4\", \"5\", \"6\",\n",
    "    \"7\", \"8\", \"9\", \"10\", \"11\", \"12\",\n",
    "    \"13\", \"14\", \"15\", \"16\", \"17\", \"18\",\n",
    "    \"19\", \"20\", \"21\", \"22\", \"23\", \"24\"\n",
    "]\n",
    "\n",
    "\n",
    "# Define the descriptive prompts for each category\n",
    "prompt_D1_GPT = [\"\"\"You are given an article and image. Based on its content, return the most appropriate category label from the list below. Respond with only a number from 1 to 24, corresponding to the best-matching category:\n",
    "\n",
    "1. Health – medical news, public health, fitness, mental health, wellness\n",
    "2. Science – scientific discoveries, research studies, space, innovations\n",
    "3. Television – TV shows, reviews, industry news, streaming\n",
    "4. Travel – tourism, destinations, travel guides, airlines, vacation trends\n",
    "5. Movies – film news, reviews, box office, upcoming releases\n",
    "6. Dance – ballet, contemporary styles, street dance, performances\n",
    "7. Real Estate – housing trends, property sales, architecture, urban planning\n",
    "8. Economy – macroeconomics, inflation, markets, GDP, financial policies\n",
    "9. Sports – competitions, athletes, Demo_results, professional sports\n",
    "10. Theater – plays, Broadway, live performances, stage reviews\n",
    "11. Opinion – editorials, commentary, analysis\n",
    "12. Music – albums, artists, concerts, festivals, music trends\n",
    "13. Books – literature, bestsellers, author interviews, book reviews\n",
    "14. Art & Design – fine arts, museums, exhibitions, visual/design trends\n",
    "15. Style – fashion trends, beauty, personal style, aesthetics\n",
    "16. Media – journalism, publishing, digital media, mass communication\n",
    "17. Food – restaurants, recipes, cooking, culinary culture\n",
    "18. Well – lifestyle, self-care, mental well-being, personal development\n",
    "19. Fashion – clothing, designers, fashion weeks, industry insights\n",
    "20. Technology – AI, gadgets, software, cybersecurity, tech innovations\n",
    "21. Your Money – personal finance, investing, budgeting, financial planning\n",
    "22. Education – schools, universities, learning methods, education policies\n",
    "23. Automobiles – car news, EVs, reviews, industry trends\n",
    "24. Global Business – international trade, corporations, mergers, global markets\n",
    "\n",
    "Return the categorty label only (e.g., 5), no extra words.\"\"\"]\n",
    "\n",
    "\n",
    "\n"
   ]
  },
  {
   "cell_type": "markdown",
   "id": "11cd4a74-2625-49b2-8434-d7bc0b827eb3",
   "metadata": {},
   "source": [
    "## GPT: third-party API labeling\n"
   ]
  },
  {
   "cell_type": "markdown",
   "id": "signed-basin",
   "metadata": {},
   "source": [
    "## GPT-4o\n"
   ]
  },
  {
   "cell_type": "code",
   "execution_count": null,
   "id": "sharing-verification",
   "metadata": {},
   "outputs": [],
   "source": [
    "D1c_GPT_4o_inital_lableing = classification_GPT(\n",
    "    text_path=\"Demo_data/D1_1.csv\",\n",
    "    image_dir=\"Demo_data/D1_imgs_1\",\n",
    "    category=category_D1_GPT,\n",
    "    prompt=prompt_D1_GPT,\n",
    "    column_4_labeling=[\"headline\", \"article\", \"abstract\"],\n",
    "    model = \"gpt-4o-mini\",\n",
    "    api_key = api_key,\n",
    "    temperature = 1,\n",
    "    mode = \"both\",\n",
    "    output_column_name=\"D1c_GPT_4o_inital_lableing\",\n",
    "    num_themes = 1,\n",
    "    num_votes = 1)\n",
    "\n",
    "\n",
    "D1c_GPT_4o_inital_lableing.to_csv(\"Demo_result/D1c_GPT_4o_inital_lableing.csv\", index=False)"
   ]
  },
  {
   "cell_type": "code",
   "execution_count": null,
   "id": "7bb4f1e8-ebc9-4532-91fd-3d3bcf45db73",
   "metadata": {},
   "outputs": [],
   "source": [
    "D1c_GPT_4o_inital_lableing"
   ]
  },
  {
   "cell_type": "code",
   "execution_count": null,
   "id": "overall-numbers",
   "metadata": {},
   "outputs": [],
   "source": [
    "## Check the accuracy: GPT 4o inital labeling\n",
    "auto_verification(\n",
    "    D1c_GPT_4o_inital_lableing,\n",
    "    predicted_cols=\"D1c_GPT_4o_inital_lableing\",\n",
    "    true_cols=\"section_numeric\",\n",
    "    category=category_D1_GPT\n",
    ");"
   ]
  },
  {
   "cell_type": "markdown",
   "id": "af51b267-4d1d-4901-b034-1386b2b2d8c9",
   "metadata": {},
   "source": [
    "## GPT-o4 (reasoning model)\n",
    "\n",
    "##### The structure and usage are identical to the previous example. However, instead of adjusting the temperature parameter to control randomness, the effort parameter is used to influence the model's reasoning depth and complexity.\n"
   ]
  },
  {
   "cell_type": "code",
   "execution_count": null,
   "id": "explicit-tunnel",
   "metadata": {},
   "outputs": [],
   "source": [
    "D1c_GPT_o4_inital_lableing = classification_GPT(\n",
    "    text_path=\"Demo_data/D1_1.csv\",\n",
    "    image_dir=\"Demo_data/D1_imgs_1\",\n",
    "    category=category_D1_GPT,\n",
    "    prompt=prompt_D1_GPT,\n",
    "    column_4_labeling=[\"headline\", \"article\", \"abstract\"],\n",
    "    model = \"o4-mini\",\n",
    "    api_key = api_key,\n",
    "    effort = \"medium\",\n",
    "    mode = \"both\",\n",
    "    output_column_name=\"D1c_GPT_o4_inital_lableing\",\n",
    "    num_themes = 1,\n",
    "    num_votes = 1)\n",
    "\n",
    "\n",
    "D1c_GPT_o4_inital_lableing.to_csv(\"Demo_result/D1c_GPT_o4_inital_lableing.csv\", index=False)\n"
   ]
  },
  {
   "cell_type": "code",
   "execution_count": null,
   "id": "julian-problem",
   "metadata": {},
   "outputs": [],
   "source": [
    "## Check the accuracy: GPT o4 initial labeling\n",
    "auto_verification(\n",
    "    D1c_GPT_o4_inital_lableing,\n",
    "    predicted_cols=\"D1c_GPT_o4_inital_lableing\",\n",
    "    true_cols=\"section_numeric\",\n",
    "    category=category_D1_GPT\n",
    ");"
   ]
  },
  {
   "cell_type": "markdown",
   "id": "christian-identifier",
   "metadata": {
    "id": "66ce8185-465a-4cff-94cc-8952626aafa0"
   },
   "source": [
    "Demo 2: Multi-Label Theme Classification using News Headlines\n",
    "--------------------------------------------------------------------\n",
    "\n",
    "This demo shows how to classify U.S. immigration-related news headlines into\n",
    "one or two dominant thematic category using a multi-label text-only classification task.\n",
    "The coding scheme is adapted from Guo et al. (2023).\n",
    "\n",
    "Dataset: Guo et al. (2023) Immigration News Dataset\n",
    "Source: https://doi.org/10.1177/19401612231204535\n",
    "\n",
    "\n",
    "**Datasets:**\n",
    "- `Text_multiple_category_40.xlsx`: Used for initial labeling and fine-tuning.\n",
    "- `Text_multiple category_40_2.xlsx`: Used for testing the fine-tuned model's performance.\n",
    "\n",
    "\n",
    "Each sample in the dataset includes:\n",
    "- A single new **Post_Title**\n",
    "\n",
    "\n",
    "Themes:\n",
    "-------\n",
    "1) Economic consequences  \n",
    "2) Crime/safety  \n",
    "3) Family  \n",
    "4) Immigrant wellbeing  \n",
    "5) Culture/society  \n",
    "6) Politics  \n",
    "7) Legislation/regulation  \n",
    "8) Public opinion  \n",
    "99) None of the above\n",
    "\n",
    "\n",
    "Reference:\n",
    "----------\n",
    "Guo, L., Su, C. C., & Chen, H.-T. (2023).\n",
    "Do News Frames Really Have Some Influence in the Real World?\n",
    "A Computational Analysis of Cumulative Framing Effects on Emotions and Opinions About Immigration.\n",
    "The International Journal of Press/Politics. https://doi.org/10.1177/19401612231204535\n"
   ]
  },
  {
   "cell_type": "markdown",
   "id": "muslim-better",
   "metadata": {},
   "source": [
    "#### Note: Based on our tests, CLIP did not perform well for multi-category classification. Its embedding-based matching struggles with distinguishing the order of categories and handling missing categories effectively. Therefore, we recommend using GPT models for multi-category classification tasks for improved accuracy and reliability."
   ]
  },
  {
   "cell_type": "markdown",
   "id": "9e17c012-3169-4208-b186-b74972b08092",
   "metadata": {},
   "source": [
    "## GPT: third-party API labeling\n"
   ]
  },
  {
   "cell_type": "markdown",
   "id": "921d6f2b-c31a-4a38-ae10-09a07f8ee27c",
   "metadata": {},
   "source": [
    "## GPT 4o-mini"
   ]
  },
  {
   "cell_type": "code",
   "execution_count": null,
   "id": "adjusted-emission",
   "metadata": {},
   "outputs": [],
   "source": [
    "category_D2_GPT = [\n",
    "    \"0\", \"1\"\n",
    "]\n",
    "\n",
    "prompt_D2_GPT = '''Here's a news article headline. Please label if it belongs to the following theme.\n",
    "            Return <1> if this headline belongs to these themes and return <0> if it does not belong to the themes.\n",
    "            Please code for each of the following 8 topics.\n",
    "            Please identify up to two dominant themes from the headline, which means you can have a max of 2 <1> in the answer you generated.\n",
    "            You don't have to label two topic if you don't fint it apply. Just enter 0s.\n",
    "            - Economic consequences: The story is about economic benefits or costs, or the costs involving immigration-related issues, including: Cost of mass deportation; Economic benefits of immigration (more tax revenue, cheap labor; Economic costs of immigration (taking jobs from Americans, immigrants using healthcare and educational services, overcrowding, housing concerns)\n",
    "            - Crime/safety: The story is about threats to American's safety, including: Immigration described as a major cause of increased rates of crime, gangs, drug trafficking, etc; Immigrants described as law-breakers who deserve punishment; Immigration described as a threat to national security via terrorism\n",
    "            - Family: The story is about the impact of immigration on families, including: Separating children from parents; Breaking up multi-generational families; Interfering with children's continued schooling\n",
    "            - Immigrant wellbeing: This story is about the negative impact of the immigration process on immigrants, including: Prejudice and bias toward immigrants; Physical and/or mental health or safety of immigrants; Immigration policies described as violations of immigrants' civil rights and liberties; Immigration policies regarding illegal immigrants described as unfair to immigrants who have waited to become citizens the legal way\n",
    "            - Culture/society: This story is about societal-wide factors or consequences related to immigration, including:; Immigration as a threat to American cultural identity, way of living, the predominance of English and Christianity, etc.; Immigrants as isolated from the rest of America, unable to assimilate into communities; Immigration as part of the celebrated history of immigration in America / America-as-melting-pot; Immigration policies as exemplars of society's immorality; Impact of immigration on a specific subculture/community in the US\n",
    "            - Politics:The story is mainly about the political issues around immigration, including: Political campaigns and upcoming elections (e.g., using immigration as a wedge issue or motivating force to get people to the polls); Fighting between the Democratic and Republican parties, or politicians; One political party or one politician’s stance on immigration. Therefore, when the news headline mentions a politician’s name, it often indicates the theme of politics\n",
    "            - Legislation/regulation: The story is about issues related to regulating immigration through legislation and other institutional measures: New immigration legislation being introduced/argued over; Flaws in current/old legislation; Enforcement of current legislation\n",
    "            - Public opinion: The study is about the public’s, including a specific community’s, reactions to immigration-related issues, including: Public opinion polls; Protests; Social media backlash; Community outrage; Celebrity responses/protests\n",
    "            Answer using the following format [0, 0, 0, 0, 0, 0, 0, 0]. Do not provide any other information'''\n",
    "\n",
    "\n"
   ]
  },
  {
   "cell_type": "code",
   "execution_count": null,
   "id": "equal-yield",
   "metadata": {},
   "outputs": [],
   "source": [
    "D2_GPT_4o_inital_lableing = classification_GPT(\n",
    "    text_path=\"Demo_data/D2_1.xlsx\",\n",
    "    category=[\"0\", \"1\"],\n",
    "    prompt=prompt_D2_GPT,          \n",
    "    column_4_labeling=[\"Post_Title\"],\n",
    "    model=\"gpt-4o-mini\",\n",
    "    api_key=api_key,\n",
    "    temperature=0.8,\n",
    "    mode=\"text\",\n",
    "    output_column_name=\"D2_GPT_4o_initial_labeling\",\n",
    "    num_themes=8,\n",
    "    num_votes=3,\n",
    ")\n",
    "\n",
    "\n",
    "\n",
    "D2_GPT_4o_inital_lableing.to_csv(\"Demo_result/D2_GPT_4o_inital_lableing.csv\", index=False)"
   ]
  },
  {
   "cell_type": "code",
   "execution_count": null,
   "id": "f07bf30f-f524-4c41-9354-f1a20b174cd5",
   "metadata": {},
   "outputs": [],
   "source": [
    "D2_GPT_4o_inital_lableing"
   ]
  },
  {
   "cell_type": "code",
   "execution_count": null,
   "id": "afraid-spanking",
   "metadata": {},
   "outputs": [],
   "source": [
    "auto_verification(\n",
    "    D2_GPT_4o_inital_lableing,\n",
    "    predicted_cols=[\n",
    "        \"D2_GPT_4o_initial_labeling_1\",\n",
    "        \"D2_GPT_4o_initial_labeling_2\",\n",
    "        \"D2_GPT_4o_initial_labeling_3\",\n",
    "        \"D2_GPT_4o_initial_labeling_4\",\n",
    "        \"D2_GPT_4o_initial_labeling_5\",\n",
    "        \"D2_GPT_4o_initial_labeling_6\",\n",
    "        \"D2_GPT_4o_initial_labeling_7\",\n",
    "        \"D2_GPT_4o_initial_labeling_8\"\n",
    "    ],\n",
    "    true_cols=[\n",
    "        \"Q3_1\", \"Q3_2\", \"Q3_3\", \"Q3_4\",\n",
    "        \"Q3_5\", \"Q3_6\", \"Q3_7\", \"Q3_8\"\n",
    "    ],\n",
    "    category=category_D2_GPT\n",
    ")\n"
   ]
  },
  {
   "cell_type": "markdown",
   "id": "legal-fields",
   "metadata": {},
   "source": [
    "### finetune: GPT 4o"
   ]
  },
  {
   "cell_type": "code",
   "execution_count": null,
   "id": "ecological-absorption",
   "metadata": {},
   "outputs": [],
   "source": [
    "# Prepare the data for GPT-4o \n",
    "# The JSONL should have three parts: \n",
    "# 1. system_prompt: coding instruction\n",
    "# 2. input_col: The information needed to be labeled\n",
    "# 3. label_col: the label\n",
    "\n",
    "generate_GPT_finetune_jsonl(D2_GPT_4o_inital_lableing, \n",
    "                        output_path=\"Demo_result/D2_GPT_4o_inital_lableing.jsonl\", \n",
    "                        system_prompt = prompt_D2_GPT,\n",
    "                        input_col = [\"Post_Title\"],\n",
    "                        label_col=[\"Q3_clean\"])\n"
   ]
  },
  {
   "cell_type": "code",
   "execution_count": null,
   "id": "buried-princess",
   "metadata": {},
   "outputs": [],
   "source": [
    "# Fine-tune GPT-4o\n",
    "D2_GPT_4o_model_finetune = finetune_GPT(\n",
    "    training_file_path=\"Demo_result/D2_GPT_4o_inital_lableing.jsonl\",\n",
    "    model=\"gpt-4o-mini-2024-07-18\",  \n",
    "    hyperparameters={\"batch_size\":8, \"learning_rate_multiplier\":0.01},\n",
    "    api_key= api_key \n",
    ")"
   ]
  },
  {
   "cell_type": "code",
   "execution_count": null,
   "id": "4032a44d-513f-4e74-b28d-8498b18908a8",
   "metadata": {},
   "outputs": [],
   "source": [
    "D2_GPT_4o_model_finetune"
   ]
  },
  {
   "cell_type": "code",
   "execution_count": null,
   "id": "5f4c21f5-9357-4965-87c7-a8b1abd2e970",
   "metadata": {},
   "outputs": [],
   "source": [
    "# test the fineune model to see the example result\n",
    "\n",
    "\n",
    "response = client.responses.create(\n",
    "  model=D2_GPT_4o_model_finetune,\n",
    "  input=[\n",
    "    {\n",
    "      \"role\": \"developer\",\n",
    "      \"content\": [\n",
    "        {\n",
    "          \"type\": \"input_text\",\n",
    "          \"text\": prompt_D2_GPT,\n",
    "\n",
    "            }\n",
    "      ]\n",
    "    },\n",
    "    {\n",
    "      \"role\": \"user\",\n",
    "      \"content\": [\n",
    "        {\n",
    "          \"type\": \"input_text\",\n",
    "          \"text\": \"\\\"\\\"\\\" Our guide to the city's best classical music and opera.\\\"\\\"\\\"\\n      \"\n",
    "        }\n",
    "      ]\n",
    "    }\n",
    "  ],\n",
    "  text={\n",
    "    \"format\": {\n",
    "      \"type\": \"text\"\n",
    "    }\n",
    "  },\n",
    "\n",
    "  tools=[],\n",
    "  store=True\n",
    ")"
   ]
  },
  {
   "cell_type": "code",
   "execution_count": null,
   "id": "aaa5431d-9e26-4c75-8b48-cd6109ee8310",
   "metadata": {},
   "outputs": [],
   "source": [
    "response"
   ]
  },
  {
   "cell_type": "code",
   "execution_count": null,
   "id": "czech-romantic",
   "metadata": {},
   "outputs": [],
   "source": [
    "# Classify with fine‑tuned 4o model\n",
    "D2_GPT_4o_finetune = classification_GPT(\n",
    "    text_path=\"Demo_data/D2_2.xlsx\",\n",
    "    category = category_D2_GPT,\n",
    "    prompt = prompt_D2_GPT,\n",
    "    column_4_labeling=[\"Post_Title\"],\n",
    "    model = D2_GPT_4o_model_finetune,\n",
    "    api_key = api_key,\n",
    "    temperature = 0.8,\n",
    "    mode = \"text\",\n",
    "    output_column_name=\"D2_GPT_4o_finetune\",\n",
    "    num_themes = 8,\n",
    "    num_votes = 1)\n",
    "\n",
    "\n",
    "\n",
    "D2_GPT_4o_finetune.to_csv(\"Demo_result/D2_GPT_4o_finetune.csv\", index=False)"
   ]
  },
  {
   "cell_type": "code",
   "execution_count": null,
   "id": "7dbbb3bd-19d4-4703-acf2-c555ad0cd6a4",
   "metadata": {},
   "outputs": [],
   "source": [
    "D2_GPT_4o_finetune"
   ]
  },
  {
   "cell_type": "code",
   "execution_count": null,
   "id": "unique-spyware",
   "metadata": {},
   "outputs": [],
   "source": [
    "auto_verification(\n",
    "    D2_GPT_4o_finetune,\n",
    "    predicted_cols=[\n",
    "        \"D2_GPT_4o_finetune_1\",\n",
    "        \"D2_GPT_4o_finetune_2\",\n",
    "        \"D2_GPT_4o_finetune_3\",\n",
    "        \"D2_GPT_4o_finetune_4\",\n",
    "        \"D2_GPT_4o_finetune_5\",\n",
    "        \"D2_GPT_4o_finetune_6\",\n",
    "        \"D2_GPT_4o_finetune_7\",\n",
    "        \"D2_GPT_4o_finetune_8\"\n",
    "    ],\n",
    "    true_cols=[\n",
    "        \"Q3_1\", \"Q3_2\", \"Q3_3\", \"Q3_4\",\n",
    "        \"Q3_5\", \"Q3_6\", \"Q3_7\", \"Q3_8\"\n",
    "    ],\n",
    "    category=category_D2_GPT\n",
    ")\n"
   ]
  },
  {
   "cell_type": "markdown",
   "id": "b7d51b54-6abf-40d2-a697-bb06365b63f6",
   "metadata": {},
   "source": [
    "## o4-mini (reasning model)\n",
    "\n",
    "##### The structure and usage are identical to the previous example. However, instead of adjusting the temperature parameter to control randomness, the effort parameter is used to influence the model's reasoning depth and complexity.\n"
   ]
  },
  {
   "cell_type": "raw",
   "id": "942a39c5-d0a3-4f6b-9ba8-dd74f2db407c",
   "metadata": {},
   "source": [
    "D2_GPT_o4_initial_labeling = classification_GPT(\n",
    "    text_path=\"Text_multiple_category_1.xlsx\",\n",
    "    category=[\"0\", \"1\"],\n",
    "    prompt=prompt_D2_GPT,          \n",
    "    column_4_labeling=[\"Post_Title\"],\n",
    "    model=\"gpt-4o-mini\",\n",
    "    api_key=api_key,\n",
    "    effort=\"medium\",\n",
    "    mode=\"text\",\n",
    "    output_column_name=\"D2_GPT_o4_initial_labeling\",\n",
    "    num_themes=8,\n",
    "    num_votes=3,\n",
    ")\n",
    "\n",
    "\n",
    "\n",
    "D2_GPT_o4_initial_labeling.to_csv(\"Demo_result/D2_GPT_o4_initial_labeling.csv\", index=False)"
   ]
  },
  {
   "cell_type": "raw",
   "id": "ae1c9422-630b-4d36-b3c7-00aff0c24c1e",
   "metadata": {},
   "source": [
    "auto_verification(\n",
    "    D2_GPT_4o_inital_lableing,\n",
    "    predicted_cols=[\n",
    "        \"D2_GPT_o4_initial_labeling_1\",\n",
    "        \"D2_GPT_o4_initial_labeling_2\",\n",
    "        \"D2_GPT_o4_initial_labeling_3\",\n",
    "        \"D2_GPT_o4_initial_labeling_4\",\n",
    "        \"D2_GPT_o4_initial_labeling_5\",\n",
    "        \"D2_GPT_o4_initial_labeling_6\",\n",
    "        \"D2_GPT_o4_initial_labeling_7\",\n",
    "        \"D2_GPT_o4_initial_labeling_8\"\n",
    "    ],\n",
    "    true_cols=[\n",
    "        \"Q3_1\", \"Q3_2\", \"Q3_3\", \"Q3_4\",\n",
    "        \"Q3_5\", \"Q3_6\", \"Q3_7\", \"Q3_8\"\n",
    "    ],\n",
    "    category=category_D2_GPT\n",
    ")\n"
   ]
  },
  {
   "cell_type": "markdown",
   "id": "710100cf-b9c8-4ad3-8e41-10b420b20070",
   "metadata": {},
   "source": [
    "#### Note: GPT reasnong models (i.e., o-series) can not be finetuned for now"
   ]
  }
 ],
 "metadata": {
  "colab": {
   "provenance": []
  },
  "kernelspec": {
   "display_name": "Python 3 (ipykernel)",
   "language": "python",
   "name": "python3"
  },
  "language_info": {
   "codemirror_mode": {
    "name": "ipython",
    "version": 3
   },
   "file_extension": ".py",
   "mimetype": "text/x-python",
   "name": "python",
   "nbconvert_exporter": "python",
   "pygments_lexer": "ipython3",
   "version": "3.11.8"
  }
 },
 "nbformat": 4,
 "nbformat_minor": 5
}
