{
 "cells": [
  {
   "cell_type": "markdown",
   "id": "c883c92f-fcb1-4e75-b22f-7ff9f5fa2128",
   "metadata": {
    "id": "16de8cc8-fe8c-4dec-a58a-68fa050b7d3a",
    "outputId": "ac71a964-ee35-4310-e960-fac87d81d30c"
   },
   "source": [
    "# DEMO CLIP\n",
    "\n",
    "#### Author Jiacheng Huang\n",
    "\n",
    "In this tutorial, we will cover the following basics for labeling and fine-tuning multimodal data using the CLIP module from LabelGenius (https://github.com/mediaccs/LabelGenius):\n",
    "\n",
    "1. Labeling image data with CLIP\n",
    "2. Labeling text data with CLIP\n",
    "3. Combining text and image inputs for multimodal classification\n",
    "4. Fine-tuning CLIP for improved task-specific performance\n",
    "\n",
    "\n",
    "#### Cite LabelGenius\n",
    "Huang, J., Zhang, Z., & Su, C. C. (2025). LabelGenius: A Tool for Dynamic and Flexible Labeling for LLM-based Multimodal Content Labeling [Computer software]. GitHub. https://github.com/mediaccs/LabelGenius"
   ]
  },
  {
   "cell_type": "code",
   "execution_count": 1,
   "id": "6fe1770b-4fdb-4577-9a83-ee71fc0f2d48",
   "metadata": {},
   "outputs": [
    {
     "name": "stdout",
     "output_type": "stream",
     "text": [
      "Requirement already satisfied: labelgenius in /opt/anaconda3/lib/python3.11/site-packages (0.1.0)\n",
      "Requirement already satisfied: torch in /opt/anaconda3/lib/python3.11/site-packages (from labelgenius) (2.5.0)\n",
      "Requirement already satisfied: transformers in /opt/anaconda3/lib/python3.11/site-packages (from labelgenius) (4.45.2)\n",
      "Requirement already satisfied: tqdm in /opt/anaconda3/lib/python3.11/site-packages (from labelgenius) (4.66.5)\n",
      "Requirement already satisfied: scikit-learn in /opt/anaconda3/lib/python3.11/site-packages (from labelgenius) (1.5.1)\n",
      "Requirement already satisfied: pandas in /opt/anaconda3/lib/python3.11/site-packages (from labelgenius) (2.2.3)\n",
      "Requirement already satisfied: numpy in /opt/anaconda3/lib/python3.11/site-packages (from labelgenius) (1.26.4)\n",
      "Requirement already satisfied: Pillow in /opt/anaconda3/lib/python3.11/site-packages (from labelgenius) (9.4.0)\n",
      "Requirement already satisfied: sqlitedict in /opt/anaconda3/lib/python3.11/site-packages (from labelgenius) (2.1.0)\n",
      "Requirement already satisfied: openai in /opt/anaconda3/lib/python3.11/site-packages (from labelgenius) (1.70.0)\n",
      "Requirement already satisfied: loguru in /opt/anaconda3/lib/python3.11/site-packages (from labelgenius) (0.7.2)\n",
      "Requirement already satisfied: anyio<5,>=3.5.0 in /opt/anaconda3/lib/python3.11/site-packages (from openai->labelgenius) (4.6.0)\n",
      "Requirement already satisfied: distro<2,>=1.7.0 in /opt/anaconda3/lib/python3.11/site-packages (from openai->labelgenius) (1.9.0)\n",
      "Requirement already satisfied: httpx<1,>=0.23.0 in /opt/anaconda3/lib/python3.11/site-packages (from openai->labelgenius) (0.26.0)\n",
      "Requirement already satisfied: jiter<1,>=0.4.0 in /opt/anaconda3/lib/python3.11/site-packages (from openai->labelgenius) (0.5.0)\n",
      "Requirement already satisfied: pydantic<3,>=1.9.0 in /opt/anaconda3/lib/python3.11/site-packages (from openai->labelgenius) (2.10.1)\n",
      "Requirement already satisfied: sniffio in /opt/anaconda3/lib/python3.11/site-packages (from openai->labelgenius) (1.3.1)\n",
      "Requirement already satisfied: typing-extensions<5,>=4.11 in /opt/anaconda3/lib/python3.11/site-packages (from openai->labelgenius) (4.12.2)\n",
      "Requirement already satisfied: idna>=2.8 in /opt/anaconda3/lib/python3.11/site-packages (from anyio<5,>=3.5.0->openai->labelgenius) (3.10)\n",
      "Requirement already satisfied: certifi in /opt/anaconda3/lib/python3.11/site-packages (from httpx<1,>=0.23.0->openai->labelgenius) (2024.8.30)\n",
      "Requirement already satisfied: httpcore==1.* in /opt/anaconda3/lib/python3.11/site-packages (from httpx<1,>=0.23.0->openai->labelgenius) (1.0.6)\n",
      "Requirement already satisfied: h11<0.15,>=0.13 in /opt/anaconda3/lib/python3.11/site-packages (from httpcore==1.*->httpx<1,>=0.23.0->openai->labelgenius) (0.14.0)\n",
      "Requirement already satisfied: annotated-types>=0.6.0 in /opt/anaconda3/lib/python3.11/site-packages (from pydantic<3,>=1.9.0->openai->labelgenius) (0.7.0)\n",
      "Requirement already satisfied: pydantic-core==2.27.1 in /opt/anaconda3/lib/python3.11/site-packages (from pydantic<3,>=1.9.0->openai->labelgenius) (2.27.1)\n",
      "Requirement already satisfied: python-dateutil>=2.8.2 in /opt/anaconda3/lib/python3.11/site-packages (from pandas->labelgenius) (2.9.0.post0)\n",
      "Requirement already satisfied: pytz>=2020.1 in /opt/anaconda3/lib/python3.11/site-packages (from pandas->labelgenius) (2024.2)\n",
      "Requirement already satisfied: tzdata>=2022.7 in /opt/anaconda3/lib/python3.11/site-packages (from pandas->labelgenius) (2024.2)\n",
      "Requirement already satisfied: six>=1.5 in /opt/anaconda3/lib/python3.11/site-packages (from python-dateutil>=2.8.2->pandas->labelgenius) (1.16.0)\n",
      "Requirement already satisfied: scipy>=1.6.0 in /opt/anaconda3/lib/python3.11/site-packages (from scikit-learn->labelgenius) (1.13.1)\n",
      "Requirement already satisfied: joblib>=1.2.0 in /opt/anaconda3/lib/python3.11/site-packages (from scikit-learn->labelgenius) (1.4.2)\n",
      "Requirement already satisfied: threadpoolctl>=3.1.0 in /opt/anaconda3/lib/python3.11/site-packages (from scikit-learn->labelgenius) (3.5.0)\n",
      "Requirement already satisfied: filelock in /opt/anaconda3/lib/python3.11/site-packages (from torch->labelgenius) (3.16.1)\n",
      "Requirement already satisfied: networkx in /opt/anaconda3/lib/python3.11/site-packages (from torch->labelgenius) (3.3)\n",
      "Requirement already satisfied: jinja2 in /opt/anaconda3/lib/python3.11/site-packages (from torch->labelgenius) (3.1.4)\n",
      "Requirement already satisfied: fsspec in /opt/anaconda3/lib/python3.11/site-packages (from torch->labelgenius) (2024.3.1)\n",
      "Requirement already satisfied: sympy==1.13.1 in /opt/anaconda3/lib/python3.11/site-packages (from torch->labelgenius) (1.13.1)\n",
      "Requirement already satisfied: mpmath<1.4,>=1.1.0 in /opt/anaconda3/lib/python3.11/site-packages (from sympy==1.13.1->torch->labelgenius) (1.3.0)\n",
      "Requirement already satisfied: MarkupSafe>=2.0 in /opt/anaconda3/lib/python3.11/site-packages (from jinja2->torch->labelgenius) (2.1.5)\n",
      "Requirement already satisfied: huggingface-hub<1.0,>=0.23.2 in /opt/anaconda3/lib/python3.11/site-packages (from transformers->labelgenius) (0.25.2)\n",
      "Requirement already satisfied: packaging>=20.0 in /opt/anaconda3/lib/python3.11/site-packages (from transformers->labelgenius) (25.0)\n",
      "Requirement already satisfied: pyyaml>=5.1 in /opt/anaconda3/lib/python3.11/site-packages (from transformers->labelgenius) (6.0.2)\n",
      "Requirement already satisfied: regex!=2019.12.17 in /opt/anaconda3/lib/python3.11/site-packages (from transformers->labelgenius) (2024.7.24)\n",
      "Requirement already satisfied: requests in /opt/anaconda3/lib/python3.11/site-packages (from transformers->labelgenius) (2.32.3)\n",
      "Requirement already satisfied: safetensors>=0.4.1 in /opt/anaconda3/lib/python3.11/site-packages (from transformers->labelgenius) (0.4.3)\n",
      "Requirement already satisfied: tokenizers<0.21,>=0.20 in /opt/anaconda3/lib/python3.11/site-packages (from transformers->labelgenius) (0.20.1)\n",
      "Requirement already satisfied: charset-normalizer<4,>=2 in /opt/anaconda3/lib/python3.11/site-packages (from requests->transformers->labelgenius) (3.4.0)\n",
      "Requirement already satisfied: urllib3<3,>=1.21.1 in /opt/anaconda3/lib/python3.11/site-packages (from requests->transformers->labelgenius) (2.2.3)\n"
     ]
    }
   ],
   "source": [
    "! pip install labelgenius"
   ]
  },
  {
   "cell_type": "code",
   "execution_count": 2,
   "id": "5e2200e6-2a4a-4eed-b0d8-32b7377f8a25",
   "metadata": {},
   "outputs": [
    {
     "name": "stdout",
     "output_type": "stream",
     "text": [
      "Using device: cpu\n"
     ]
    }
   ],
   "source": [
    "# Import the functions\n",
    "import pandas as pd\n",
    "from labelgenius import classification_CLIP_0_shot, finetune_CLIP, classification_CLIP_finetuned, auto_verification"
   ]
  },
  {
   "cell_type": "code",
   "execution_count": 3,
   "id": "925e482d-b8af-47f1-94ce-5d3820dbdf2a",
   "metadata": {},
   "outputs": [],
   "source": [
    "# change directory to the folder contain the data\n",
    "# import os\n",
    "# os.chdir('/Users/jiacheng/Desktop/LLM/DEMO')"
   ]
  },
  {
   "cell_type": "markdown",
   "id": "ignored-apache",
   "metadata": {
    "id": "ecdea590-13db-4d21-b105-9948c1ff3b95"
   },
   "source": [
    "Demo 1: Single-Category Classification using N24News Dataset\n",
    "-------------------------------------------------------------\n",
    "\n",
    "This demo shows how to classify a single news article into one of 24 category\n",
    "using the N24News dataset. Each article in the dataset includes both textual\n",
    "and visual information.\n",
    "\n",
    "Source: https://aclanthology.org/2022.lrec-1.729/\n",
    "\n",
    "\n",
    "Each article contains the following fields:\n",
    "- 'section': Ground truth label (one of 24 category)\n",
    "- 'headline': Title of the article\n",
    "- 'abstract': Short summary of the article\n",
    "- 'article': Full text content\n",
    "- 'article_url': Link to the original article\n",
    "- 'image': Encoded image or metadata (optional)\n",
    "- 'caption': Image caption\n",
    "- 'image_id': Unique image identifier\n",
    "- 'image_path': Path to the associated image (e.g., 'N24News/imgs_200_sample1/12345.jpg')\n",
    "- 'article_id': Unique article identifier\n",
    "\n",
    "Image file: Multimodal_image\n",
    "\n",
    "Example category (See prompt_D1 for the complete category):\n",
    "------------------------\n",
    "1. Health\n",
    "2. Science\n",
    "3. Television\n",
    "...\n",
    "24. Global Business\n",
    "\n",
    "Reference:\n",
    "----------\n",
    "Wang, Z., Shan, X., Zhang, X., & Yang, J. (2022).\n",
    "N24News: A New Dataset for Multimodal News Classification.\n",
    "In *Proceedings of the Thirteenth Language Resources and Evaluation Conference* (pp. 6768–6775). LREC.\n"
   ]
  },
  {
   "cell_type": "markdown",
   "id": "pressing-commander",
   "metadata": {
    "id": "708f68b3-8d41-4647-8d86-eb282e65a53f"
   },
   "source": [
    "### Demo 1a: Single-Category Text Classification\n",
    "\n",
    "**Datasets:**\n",
    "- `D1_1.csv`: Used for initial labeling and fine-tuning.\n",
    "- `D1_2.csv`: Used for testing the fine-tuned model's performance.\n"
   ]
  },
  {
   "cell_type": "code",
   "execution_count": 4,
   "id": "32ffb6c5-73dc-45ee-bb67-e620f23daa7e",
   "metadata": {},
   "outputs": [],
   "source": [
    "# Define the descriptive prompt for each category\n",
    "prompt_D1_CLIP = [\n",
    "    \"a news article about health, including medical news, public health issues, fitness, mental health, and wellness.\",\n",
    "    \"a news article about science, covering scientific discoveries, research studies, space exploration, and innovations.\",\n",
    "    \"a news article about television, featuring TV shows, series reviews, industry news, and streaming platforms.\",\n",
    "    \"a news article about travel, focusing on tourism, destinations, travel guides, airlines, and vacation trends.\",\n",
    "    \"a news article about movies, including film industry news, reviews, box office reports, and upcoming releases.\",\n",
    "    \"a news article about dance, covering ballet, contemporary styles, street dance, performances, and dance competitions.\",\n",
    "    \"a news article about real estate, highlighting housing market trends, property sales, architecture, and urban planning.\",\n",
    "    \"a news article about the economy, featuring macroeconomics, inflation, stock markets, GDP growth, and financial policies.\",\n",
    "    \"a news article about sports, covering professional sports, competitions, athlete news, and game Demo_results.\",\n",
    "    \"a news article about theater, featuring plays, Broadway shows, live performances, and stage production reviews.\",\n",
    "    \"a news article about opinion pieces, including editorials, analysis, and expert commentaries.\",\n",
    "    \"a news article about music, covering albums, artists, concerts, festivals, and industry trends.\",\n",
    "    \"a news article about books, featuring literature, bestsellers, author interviews, and book reviews.\",\n",
    "    \"a news article about art and design, showcasing fine arts, visual arts, museums, exhibitions, and design trends.\",\n",
    "    \"a news article about style, including fashion trends, beauty, personal style, and cultural aesthetics.\",\n",
    "    \"a news article about media, covering journalism, publishing, digital media, and mass communication.\",\n",
    "    \"a news article about food, featuring restaurants, cooking, recipes, culinary trends, and food culture.\",\n",
    "    \"a news article about well-being, focusing on lifestyle, personal development, mental well-being, and self-care.\",\n",
    "    \"a news article about fashion, covering clothing, designers, fashion weeks, and industry insights.\",\n",
    "    \"a news article about technology, featuring AI, gadgets, software, cybersecurity, and tech innovations.\",\n",
    "    \"a news article about personal finance, including investing, budgeting, and financial planning.\",\n",
    "    \"a news article about education, featuring schools, universities, learning methods, and education policies.\",\n",
    "    \"a news article about automobiles, covering car industry news, electric vehicles, reviews, and trends.\",\n",
    "    \"a news article about global business, featuring international trade, corporations, mergers, and global markets.\"\n",
    "]\n",
    "\n",
    "# Define the list of 24 category labels\n",
    "category_D1_CLIP = [\n",
    "    \"1\", \"2\", \"3\", \"4\", \"5\", \"6\",\n",
    "    \"7\", \"8\", \"9\", \"10\", \"11\", \"12\",\n",
    "    \"13\", \"14\", \"15\", \"16\", \"17\", \"18\",\n",
    "    \"19\", \"20\", \"21\", \"22\", \"23\", \"24\"\n",
    "]"
   ]
  },
  {
   "cell_type": "markdown",
   "id": "utility-voltage",
   "metadata": {},
   "source": [
    "## CLIP: local labeling"
   ]
  },
  {
   "cell_type": "code",
   "execution_count": 5,
   "id": "opponent-corruption",
   "metadata": {
    "id": "fc615e82-c25c-43d4-893e-e246d254ab21",
    "outputId": "b7f49318-538a-4f27-88f2-efe8d1a67d78"
   },
   "outputs": [
    {
     "name": "stdout",
     "output_type": "stream",
     "text": [
      "Loaded 20 records\n"
     ]
    },
    {
     "name": "stderr",
     "output_type": "stream",
     "text": [
      "Predicting: 100%|██████████| 20/20 [00:00<00:00, 58.90it/s]\n"
     ]
    }
   ],
   "source": [
    "D1a_CLIP_inital_labeling = classification_CLIP_0_shot(\n",
    "    text_path=\"Demo_data/D1_1.csv\",\n",
    "    mode=\"text\",\n",
    "    prompt=prompt_D1_CLIP,\n",
    "    text_column=[\"headline\", \"abstract\"],\n",
    "    predict_column=\"D1a_CLIP_inital_labeling\",\n",
    ")\n",
    "\n",
    "\n",
    "D1a_CLIP_inital_labeling.to_csv(\"Demo_result/D1a_CLIP_inital_labeling.csv\", index=False)"
   ]
  },
  {
   "cell_type": "markdown",
   "id": "d6445d79-27d1-4327-b7ce-6e0e0e98bb55",
   "metadata": {},
   "source": [
    "### Let's compare the CLIP label with the ground-truth human label (\"section_numeric\")"
   ]
  },
  {
   "cell_type": "code",
   "execution_count": 6,
   "id": "cathedral-control",
   "metadata": {
    "id": "a37c5284-3059-4aeb-80df-435bda86b510",
    "outputId": "6645fe3c-dcfd-40fc-cda9-3db9337a358e"
   },
   "outputs": [
    {
     "name": "stdout",
     "output_type": "stream",
     "text": [
      "\n",
      "== Verification of 'D1a_CLIP_inital_labeling' vs. 'section_numeric' ==\n",
      "Accuracy:   55.00%\n",
      "Macro F1:   53.33%\n",
      "Micro  F1:  55.00%\n",
      "\n",
      "Full classification report:\n",
      "              precision    recall  f1-score   support\n",
      "\n",
      "           3       1.00      0.67      0.80         3\n",
      "           4       1.00      1.00      1.00         1\n",
      "           5       0.00      0.00      0.00         2\n",
      "           8       0.00      0.00      0.00         1\n",
      "          10       1.00      1.00      1.00         1\n",
      "          11       0.50      0.33      0.40         3\n",
      "          13       1.00      0.67      0.80         3\n",
      "          16       0.00      0.00      0.00         1\n",
      "          19       1.00      0.50      0.67         2\n",
      "          20       0.11      1.00      0.20         1\n",
      "          23       1.00      1.00      1.00         2\n",
      "\n",
      "    accuracy                           0.55        20\n",
      "   macro avg       0.60      0.56      0.53        20\n",
      "weighted avg       0.68      0.55      0.58        20\n",
      "\n",
      "\n",
      "Confusion matrix:\n",
      "[[2 0 0 0 0 0 0 0 0 1 0]\n",
      " [0 1 0 0 0 0 0 0 0 0 0]\n",
      " [0 0 0 0 0 0 0 0 0 2 0]\n",
      " [0 0 0 0 0 0 0 0 0 1 0]\n",
      " [0 0 0 0 1 0 0 0 0 0 0]\n",
      " [0 0 0 0 0 1 0 0 0 2 0]\n",
      " [0 0 0 0 0 0 2 0 0 1 0]\n",
      " [0 0 0 0 0 1 0 0 0 0 0]\n",
      " [0 0 0 0 0 0 0 0 1 1 0]\n",
      " [0 0 0 0 0 0 0 0 0 1 0]\n",
      " [0 0 0 0 0 0 0 0 0 0 2]]\n",
      "\n",
      ">> Overall accuracy: 55.00%\n"
     ]
    }
   ],
   "source": [
    "## Check the accuracy: CLIP initial labeling\n",
    "auto_verification(\n",
    "    D1a_CLIP_inital_labeling,\n",
    "    predicted_cols=\"D1a_CLIP_inital_labeling\",\n",
    "    true_cols=\"section_numeric\",\n",
    "    category=category_D1_CLIP\n",
    ")"
   ]
  },
  {
   "cell_type": "markdown",
   "id": "2633a28f-2b83-4cde-8775-041d9f380a20",
   "metadata": {},
   "source": [
    "### Okay, the accuracy of the text-only data is 55%. Let's try to fine-tune it based on the true column \"section_numeric\".\n",
    "\n",
    "#### Note. This demo only fine-tunes the first 20 records, so the result after fine-tuning could be worse. Usually, finetuning for CLIP works for 1000+ records."
   ]
  },
  {
   "cell_type": "markdown",
   "id": "aggressive-brighton",
   "metadata": {},
   "source": [
    "### finetune: CLIP"
   ]
  },
  {
   "cell_type": "code",
   "execution_count": 7,
   "id": "streaming-adelaide",
   "metadata": {
    "scrolled": true
   },
   "outputs": [
    {
     "name": "stdout",
     "output_type": "stream",
     "text": [
      "Loaded 20 records\n",
      "Number of classes: 24\n",
      "Use text: True, Use image: False\n",
      "Text columns: ['headline']\n",
      "Label column: section_numeric\n",
      "Training set class distribution: section_numeric\n",
      "11    3\n",
      "13    3\n",
      "3     2\n",
      "23    2\n",
      "19    1\n",
      "10    1\n",
      "8     1\n",
      "16    1\n",
      "20    1\n",
      "5     1\n",
      "Name: count, dtype: int64\n",
      "Validation set class distribution: section_numeric\n",
      "4     1\n",
      "5     1\n",
      "3     1\n",
      "19    1\n",
      "Name: count, dtype: int64\n"
     ]
    },
    {
     "name": "stderr",
     "output_type": "stream",
     "text": [
      "Epoch 1/20 [Train]: 100%|██████████| 2/2 [00:00<00:00,  2.74it/s]\n",
      "Epoch 1/20 [Val]: 100%|██████████| 1/1 [00:00<00:00, 28.04it/s]\n"
     ]
    },
    {
     "name": "stdout",
     "output_type": "stream",
     "text": [
      "Epoch 1/20: Train Loss: 3.2003 | Train Acc: 0.00% | Val Loss: 3.1886 | Val Acc: 0.00%\n"
     ]
    },
    {
     "name": "stderr",
     "output_type": "stream",
     "text": [
      "Epoch 2/20 [Train]: 100%|██████████| 2/2 [00:00<00:00,  4.80it/s]\n",
      "Epoch 2/20 [Val]: 100%|██████████| 1/1 [00:00<00:00, 26.31it/s]\n"
     ]
    },
    {
     "name": "stdout",
     "output_type": "stream",
     "text": [
      "Epoch 2/20: Train Loss: 3.1605 | Train Acc: 6.25% | Val Loss: 3.1754 | Val Acc: 0.00%\n"
     ]
    },
    {
     "name": "stderr",
     "output_type": "stream",
     "text": [
      "Epoch 3/20 [Train]: 100%|██████████| 2/2 [00:00<00:00,  4.48it/s]\n",
      "Epoch 3/20 [Val]: 100%|██████████| 1/1 [00:00<00:00, 24.09it/s]\n"
     ]
    },
    {
     "name": "stdout",
     "output_type": "stream",
     "text": [
      "Epoch 3/20: Train Loss: 3.1154 | Train Acc: 56.25% | Val Loss: 3.1691 | Val Acc: 25.00%\n",
      "Model saved! Best validation accuracy: 25.00%\n"
     ]
    },
    {
     "name": "stderr",
     "output_type": "stream",
     "text": [
      "Epoch 4/20 [Train]: 100%|██████████| 2/2 [00:00<00:00,  4.45it/s]\n",
      "Epoch 4/20 [Val]: 100%|██████████| 1/1 [00:00<00:00, 22.21it/s]\n"
     ]
    },
    {
     "name": "stdout",
     "output_type": "stream",
     "text": [
      "Epoch 4/20: Train Loss: 3.0736 | Train Acc: 75.00% | Val Loss: 3.1650 | Val Acc: 25.00%\n"
     ]
    },
    {
     "name": "stderr",
     "output_type": "stream",
     "text": [
      "Epoch 5/20 [Train]: 100%|██████████| 2/2 [00:00<00:00,  3.80it/s]\n",
      "Epoch 5/20 [Val]: 100%|██████████| 1/1 [00:00<00:00, 19.68it/s]\n"
     ]
    },
    {
     "name": "stdout",
     "output_type": "stream",
     "text": [
      "Epoch 5/20: Train Loss: 3.0451 | Train Acc: 75.00% | Val Loss: 3.1619 | Val Acc: 25.00%\n"
     ]
    },
    {
     "name": "stderr",
     "output_type": "stream",
     "text": [
      "Epoch 6/20 [Train]: 100%|██████████| 2/2 [00:00<00:00,  4.05it/s]\n",
      "Epoch 6/20 [Val]: 100%|██████████| 1/1 [00:00<00:00, 20.62it/s]\n"
     ]
    },
    {
     "name": "stdout",
     "output_type": "stream",
     "text": [
      "Epoch 6/20: Train Loss: 3.0029 | Train Acc: 87.50% | Val Loss: 3.1569 | Val Acc: 25.00%\n"
     ]
    },
    {
     "name": "stderr",
     "output_type": "stream",
     "text": [
      "Epoch 7/20 [Train]: 100%|██████████| 2/2 [00:00<00:00,  4.11it/s]\n",
      "Epoch 7/20 [Val]: 100%|██████████| 1/1 [00:00<00:00, 19.15it/s]\n"
     ]
    },
    {
     "name": "stdout",
     "output_type": "stream",
     "text": [
      "Epoch 7/20: Train Loss: 2.9690 | Train Acc: 93.75% | Val Loss: 3.1540 | Val Acc: 25.00%\n"
     ]
    },
    {
     "name": "stderr",
     "output_type": "stream",
     "text": [
      "Epoch 8/20 [Train]: 100%|██████████| 2/2 [00:00<00:00,  4.58it/s]\n",
      "Epoch 8/20 [Val]: 100%|██████████| 1/1 [00:00<00:00, 23.56it/s]\n"
     ]
    },
    {
     "name": "stdout",
     "output_type": "stream",
     "text": [
      "Epoch 8/20: Train Loss: 2.9506 | Train Acc: 93.75% | Val Loss: 3.1546 | Val Acc: 25.00%\n"
     ]
    },
    {
     "name": "stderr",
     "output_type": "stream",
     "text": [
      "Epoch 9/20 [Train]: 100%|██████████| 2/2 [00:00<00:00,  4.44it/s]\n",
      "Epoch 9/20 [Val]: 100%|██████████| 1/1 [00:00<00:00, 20.66it/s]\n"
     ]
    },
    {
     "name": "stdout",
     "output_type": "stream",
     "text": [
      "Epoch 9/20: Train Loss: 2.9250 | Train Acc: 100.00% | Val Loss: 3.1571 | Val Acc: 25.00%\n"
     ]
    },
    {
     "name": "stderr",
     "output_type": "stream",
     "text": [
      "Epoch 10/20 [Train]: 100%|██████████| 2/2 [00:00<00:00,  4.14it/s]\n",
      "Epoch 10/20 [Val]: 100%|██████████| 1/1 [00:00<00:00, 24.44it/s]\n"
     ]
    },
    {
     "name": "stdout",
     "output_type": "stream",
     "text": [
      "Epoch 10/20: Train Loss: 2.8972 | Train Acc: 100.00% | Val Loss: 3.1559 | Val Acc: 25.00%\n"
     ]
    },
    {
     "name": "stderr",
     "output_type": "stream",
     "text": [
      "Epoch 11/20 [Train]: 100%|██████████| 2/2 [00:00<00:00,  4.68it/s]\n",
      "Epoch 11/20 [Val]: 100%|██████████| 1/1 [00:00<00:00, 24.05it/s]\n"
     ]
    },
    {
     "name": "stdout",
     "output_type": "stream",
     "text": [
      "Epoch 11/20: Train Loss: 2.8805 | Train Acc: 100.00% | Val Loss: 3.1543 | Val Acc: 25.00%\n"
     ]
    },
    {
     "name": "stderr",
     "output_type": "stream",
     "text": [
      "Epoch 12/20 [Train]: 100%|██████████| 2/2 [00:00<00:00,  4.57it/s]\n",
      "Epoch 12/20 [Val]: 100%|██████████| 1/1 [00:00<00:00, 23.57it/s]\n"
     ]
    },
    {
     "name": "stdout",
     "output_type": "stream",
     "text": [
      "Epoch 12/20: Train Loss: 2.8678 | Train Acc: 100.00% | Val Loss: 3.1515 | Val Acc: 25.00%\n"
     ]
    },
    {
     "name": "stderr",
     "output_type": "stream",
     "text": [
      "Epoch 13/20 [Train]: 100%|██████████| 2/2 [00:00<00:00,  3.67it/s]\n",
      "Epoch 13/20 [Val]: 100%|██████████| 1/1 [00:00<00:00, 14.56it/s]\n"
     ]
    },
    {
     "name": "stdout",
     "output_type": "stream",
     "text": [
      "Epoch 13/20: Train Loss: 2.8464 | Train Acc: 100.00% | Val Loss: 3.1495 | Val Acc: 25.00%\n"
     ]
    },
    {
     "name": "stderr",
     "output_type": "stream",
     "text": [
      "Epoch 14/20 [Train]: 100%|██████████| 2/2 [00:00<00:00,  3.27it/s]\n",
      "Epoch 14/20 [Val]: 100%|██████████| 1/1 [00:00<00:00, 20.08it/s]\n"
     ]
    },
    {
     "name": "stdout",
     "output_type": "stream",
     "text": [
      "Epoch 14/20: Train Loss: 2.8242 | Train Acc: 100.00% | Val Loss: 3.1481 | Val Acc: 25.00%\n"
     ]
    },
    {
     "name": "stderr",
     "output_type": "stream",
     "text": [
      "Epoch 15/20 [Train]: 100%|██████████| 2/2 [00:00<00:00,  4.19it/s]\n",
      "Epoch 15/20 [Val]: 100%|██████████| 1/1 [00:00<00:00, 26.58it/s]\n"
     ]
    },
    {
     "name": "stdout",
     "output_type": "stream",
     "text": [
      "Epoch 15/20: Train Loss: 2.8225 | Train Acc: 100.00% | Val Loss: 3.1464 | Val Acc: 25.00%\n"
     ]
    },
    {
     "name": "stderr",
     "output_type": "stream",
     "text": [
      "Epoch 16/20 [Train]: 100%|██████████| 2/2 [00:00<00:00,  4.34it/s]\n",
      "Epoch 16/20 [Val]: 100%|██████████| 1/1 [00:00<00:00, 25.22it/s]\n"
     ]
    },
    {
     "name": "stdout",
     "output_type": "stream",
     "text": [
      "Epoch 16/20: Train Loss: 2.8049 | Train Acc: 100.00% | Val Loss: 3.1446 | Val Acc: 25.00%\n"
     ]
    },
    {
     "name": "stderr",
     "output_type": "stream",
     "text": [
      "Epoch 17/20 [Train]: 100%|██████████| 2/2 [00:00<00:00,  4.25it/s]\n",
      "Epoch 17/20 [Val]: 100%|██████████| 1/1 [00:00<00:00, 24.44it/s]\n"
     ]
    },
    {
     "name": "stdout",
     "output_type": "stream",
     "text": [
      "Epoch 17/20: Train Loss: 2.7815 | Train Acc: 100.00% | Val Loss: 3.1417 | Val Acc: 25.00%\n"
     ]
    },
    {
     "name": "stderr",
     "output_type": "stream",
     "text": [
      "Epoch 18/20 [Train]: 100%|██████████| 2/2 [00:00<00:00,  4.35it/s]\n",
      "Epoch 18/20 [Val]: 100%|██████████| 1/1 [00:00<00:00, 24.19it/s]\n"
     ]
    },
    {
     "name": "stdout",
     "output_type": "stream",
     "text": [
      "Epoch 18/20: Train Loss: 2.7671 | Train Acc: 100.00% | Val Loss: 3.1394 | Val Acc: 25.00%\n"
     ]
    },
    {
     "name": "stderr",
     "output_type": "stream",
     "text": [
      "Epoch 19/20 [Train]: 100%|██████████| 2/2 [00:00<00:00,  4.30it/s]\n",
      "Epoch 19/20 [Val]: 100%|██████████| 1/1 [00:00<00:00, 24.89it/s]\n"
     ]
    },
    {
     "name": "stdout",
     "output_type": "stream",
     "text": [
      "Epoch 19/20: Train Loss: 2.7613 | Train Acc: 100.00% | Val Loss: 3.1375 | Val Acc: 25.00%\n"
     ]
    },
    {
     "name": "stderr",
     "output_type": "stream",
     "text": [
      "Epoch 20/20 [Train]: 100%|██████████| 2/2 [00:00<00:00,  4.41it/s]\n",
      "Epoch 20/20 [Val]: 100%|██████████| 1/1 [00:00<00:00, 23.72it/s]"
     ]
    },
    {
     "name": "stdout",
     "output_type": "stream",
     "text": [
      "Epoch 20/20: Train Loss: 2.7550 | Train Acc: 100.00% | Val Loss: 3.1366 | Val Acc: 25.00%\n",
      "Fine-tuning complete! Best validation accuracy: 25.00%\n"
     ]
    },
    {
     "name": "stderr",
     "output_type": "stream",
     "text": [
      "\n"
     ]
    },
    {
     "data": {
      "text/plain": [
       "25.0"
      ]
     },
     "execution_count": 7,
     "metadata": {},
     "output_type": "execute_result"
    }
   ],
   "source": [
    "# finetune CLIP\n",
    "finetune_CLIP(\n",
    "    mode=\"text\",\n",
    "    text_path=\"Demo_data/D1_1.csv\",\n",
    "    true_label=\"section_numeric\",\n",
    "    model_name=\"Demo_finetuned_CLIP/D1a_CLIP_model_finetuned.pth\",\n",
    "    num_epochs=20,\n",
    "    batch_size=8,\n",
    "    learning_rate=1e-5,\n",
    ")\n"
   ]
  },
  {
   "cell_type": "code",
   "execution_count": 8,
   "id": "attended-services",
   "metadata": {},
   "outputs": [
    {
     "name": "stdout",
     "output_type": "stream",
     "text": [
      "20 pieces of data loaded\n"
     ]
    },
    {
     "name": "stderr",
     "output_type": "stream",
     "text": [
      "predicting: 100%|██████████| 3/3 [00:00<00:00, 12.22it/s]"
     ]
    },
    {
     "name": "stdout",
     "output_type": "stream",
     "text": [
      "Labeling completed!\n"
     ]
    },
    {
     "name": "stderr",
     "output_type": "stream",
     "text": [
      "\n"
     ]
    }
   ],
   "source": [
    "# Classify with a fine‑tuned model\n",
    "D1a_CLIP_finetuned = classification_CLIP_finetuned(\n",
    "    mode=\"text\",\n",
    "    text_path=\"Demo_data/D1_2.csv\",\n",
    "    text_column=[\"headline\", \"abstract\"],\n",
    "    model_name=\"Demo_finetuned_CLIP/D1a_CLIP_model_finetuned.pth\",\n",
    "    predict_column=\"D1a_CLIP_finetuned\",\n",
    ")\n",
    "\n",
    "\n",
    "D1a_CLIP_finetuned.to_csv(\"Demo_result/D1a_CLIP_finetuned.csv\", index=False)"
   ]
  },
  {
   "cell_type": "code",
   "execution_count": 9,
   "id": "diverse-thomson",
   "metadata": {},
   "outputs": [
    {
     "name": "stdout",
     "output_type": "stream",
     "text": [
      "\n",
      "== Verification of 'D1a_CLIP_finetuned' vs. 'section_numeric' ==\n",
      "Accuracy:   0.00%\n",
      "Macro F1:   0.00%\n",
      "Micro  F1:  0.00%\n",
      "\n",
      "Full classification report:\n",
      "              precision    recall  f1-score   support\n",
      "\n",
      "           2       0.00      0.00      0.00       1.0\n",
      "           3       0.00      0.00      0.00       1.0\n",
      "           4       0.00      0.00      0.00       0.0\n",
      "           7       0.00      0.00      0.00       1.0\n",
      "           8       0.00      0.00      0.00       0.0\n",
      "           9       0.00      0.00      0.00       1.0\n",
      "          10       0.00      0.00      0.00       2.0\n",
      "          11       0.00      0.00      0.00       0.0\n",
      "          13       0.00      0.00      0.00       2.0\n",
      "          14       0.00      0.00      0.00       1.0\n",
      "          16       0.00      0.00      0.00       3.0\n",
      "          17       0.00      0.00      0.00       2.0\n",
      "          18       0.00      0.00      0.00       0.0\n",
      "          19       0.00      0.00      0.00       1.0\n",
      "          20       0.00      0.00      0.00       2.0\n",
      "          21       0.00      0.00      0.00       1.0\n",
      "          23       0.00      0.00      0.00       2.0\n",
      "\n",
      "    accuracy                           0.00      20.0\n",
      "   macro avg       0.00      0.00      0.00      20.0\n",
      "weighted avg       0.00      0.00      0.00      20.0\n",
      "\n",
      "\n",
      "Confusion matrix:\n",
      "[[0 0 0 0 0 0 0 0 0 0 1 0 0 0 0 0 0]\n",
      " [0 0 0 0 0 0 0 1 0 0 0 0 0 0 0 0 0]\n",
      " [0 0 0 0 0 0 0 0 0 0 0 0 0 0 0 0 0]\n",
      " [0 0 0 0 0 0 0 0 0 0 1 0 0 0 0 0 0]\n",
      " [0 0 0 0 0 0 0 0 0 0 0 0 0 0 0 0 0]\n",
      " [0 0 0 0 0 0 0 0 0 0 1 0 0 0 0 0 0]\n",
      " [0 0 0 0 0 0 0 1 0 0 1 0 0 0 0 0 0]\n",
      " [0 0 0 0 0 0 0 0 0 0 0 0 0 0 0 0 0]\n",
      " [0 0 2 0 0 0 0 0 0 0 0 0 0 0 0 0 0]\n",
      " [0 0 1 0 0 0 0 0 0 0 0 0 0 0 0 0 0]\n",
      " [0 0 1 0 1 0 0 1 0 0 0 0 0 0 0 0 0]\n",
      " [0 0 0 0 1 0 0 0 0 0 0 0 1 0 0 0 0]\n",
      " [0 0 0 0 0 0 0 0 0 0 0 0 0 0 0 0 0]\n",
      " [0 0 0 0 0 0 0 0 0 0 1 0 0 0 0 0 0]\n",
      " [0 0 1 0 0 0 0 1 0 0 0 0 0 0 0 0 0]\n",
      " [0 0 0 0 0 0 0 0 0 0 1 0 0 0 0 0 0]\n",
      " [0 0 0 0 0 0 0 0 1 0 1 0 0 0 0 0 0]]\n",
      "\n",
      ">> Overall accuracy: 0.00%\n"
     ]
    }
   ],
   "source": [
    "## Check the accuracy: CLIP after finetune\n",
    "auto_verification(\n",
    "    D1a_CLIP_finetuned,\n",
    "    predicted_cols=\"D1a_CLIP_finetuned\",\n",
    "    true_cols=\"section_numeric\",\n",
    "    category=category_D1_CLIP\n",
    ")"
   ]
  },
  {
   "cell_type": "markdown",
   "id": "46b8ef5b-6cd5-44b5-8057-67bcbf915214",
   "metadata": {},
   "source": [
    "### Not surprisingly, the accuracy after fine-tuning is worse. \n",
    "### If you want to see how finetune improve performance with larger dataset, please look at the demo provided on our GitHub, which was fine-tuned on a large dataset."
   ]
  },
  {
   "cell_type": "markdown",
   "id": "global-motel",
   "metadata": {
    "id": "d6e7cf88-f625-4bdf-adb3-9c2a0d3d0532"
   },
   "source": [
    "# Demo 1b: Classify single-category image data\n",
    "\n",
    "**Datasets:**\n",
    "\n",
    "- `D1_1.csv`: Used for initial labeling and fine-tuning.\n",
    "- `imgs_40_1`: Used for initial labeling and fine-tuning.\n",
    "\n",
    "- `D1_2.csv`: Used for testing the fine-tuned model's performance.\n",
    "- `imgs_40_2`: Used for testing the fine-tuned model's performance.\n",
    "\n",
    "\n",
    "### CSV File Requirements\n",
    "\n",
    "Each CSV file must include at minimum:\n",
    "\n",
    "- `image_id`  \n",
    "  – The base filename (without extension) of each image in the corresponding folder."
   ]
  },
  {
   "cell_type": "markdown",
   "id": "prerequisite-policy",
   "metadata": {},
   "source": [
    "## CLIP: local labeling"
   ]
  },
  {
   "cell_type": "code",
   "execution_count": 10,
   "id": "nearby-neighborhood",
   "metadata": {},
   "outputs": [
    {
     "name": "stdout",
     "output_type": "stream",
     "text": [
      "Loaded 20 records\n"
     ]
    },
    {
     "name": "stderr",
     "output_type": "stream",
     "text": [
      "Predicting: 100%|██████████| 20/20 [00:01<00:00, 17.11it/s]\n"
     ]
    }
   ],
   "source": [
    "D1b_CLIP_inital_labeling = classification_CLIP_0_shot(\n",
    "    text_path=\"Demo_data/D1_1.csv\",\n",
    "    img_dir=\"Demo_data/D1_imgs_1\",\n",
    "    mode=\"image\",\n",
    "    prompt=prompt_D1_CLIP,\n",
    "    predict_column=\"D1b_CLIP_inital_labeling\",\n",
    ")\n",
    "\n",
    "\n",
    "D1b_CLIP_inital_labeling.to_csv(\"Demo_result/D1b_CLIP_inital_labeling.csv\", index=False)"
   ]
  },
  {
   "cell_type": "code",
   "execution_count": 11,
   "id": "8dc49f70-5798-4c9f-9dbe-a9ea6191939c",
   "metadata": {},
   "outputs": [
    {
     "data": {
      "text/html": [
       "<div>\n",
       "<style scoped>\n",
       "    .dataframe tbody tr th:only-of-type {\n",
       "        vertical-align: middle;\n",
       "    }\n",
       "\n",
       "    .dataframe tbody tr th {\n",
       "        vertical-align: top;\n",
       "    }\n",
       "\n",
       "    .dataframe thead th {\n",
       "        text-align: right;\n",
       "    }\n",
       "</style>\n",
       "<table border=\"1\" class=\"dataframe\">\n",
       "  <thead>\n",
       "    <tr style=\"text-align: right;\">\n",
       "      <th></th>\n",
       "      <th>section</th>\n",
       "      <th>headline</th>\n",
       "      <th>article_url</th>\n",
       "      <th>article</th>\n",
       "      <th>abstract</th>\n",
       "      <th>article_id</th>\n",
       "      <th>image</th>\n",
       "      <th>caption</th>\n",
       "      <th>image_id</th>\n",
       "      <th>image_path</th>\n",
       "      <th>section_numeric</th>\n",
       "      <th>D1b_CLIP_inital_labeling</th>\n",
       "    </tr>\n",
       "  </thead>\n",
       "  <tbody>\n",
       "    <tr>\n",
       "      <th>0</th>\n",
       "      <td>Fashion &amp; Style</td>\n",
       "      <td>On This Runway, Non-Models and Cool Kids</td>\n",
       "      <td>https://www.nytimes.com/2016/09/10/fashion/eck...</td>\n",
       "      <td>Over Labor Day weekend, a steady stream of hop...</td>\n",
       "      <td>How the Eckhaus Latta designers select fashion...</td>\n",
       "      <td>e9cd6477-5eb6-58b2-8e33-fd2d881bf656</td>\n",
       "      <td>https://static01.nyt.com/images/2016/09/10/fas...</td>\n",
       "      <td>Mike Eckhaus, center right, and Zoe Latta, cen...</td>\n",
       "      <td>e9cd6477-5eb6-58b2-8e33-fd2d881bf656</td>\n",
       "      <td>/Demo_data/D1_imgs_1/e9cd6477-5eb6-58b2-8e33-f...</td>\n",
       "      <td>19</td>\n",
       "      <td>11</td>\n",
       "    </tr>\n",
       "    <tr>\n",
       "      <th>1</th>\n",
       "      <td>Theater</td>\n",
       "      <td>The New 42nd Street, a Theater Nonprofit, Name...</td>\n",
       "      <td>https://www.nytimes.com/2019/06/11/theater/new...</td>\n",
       "      <td>The New 42nd Street -- the nonprofit organizat...</td>\n",
       "      <td>Russell Granet will be the new president and c...</td>\n",
       "      <td>acdcd1ef-71a9-55f2-9993-7a231d57396f</td>\n",
       "      <td>https://static01.nyt.com/images/2019/06/11/art...</td>\n",
       "      <td>The New 42nd Street board chairwoman, Fiona Ru...</td>\n",
       "      <td>acdcd1ef-71a9-55f2-9993-7a231d57396f</td>\n",
       "      <td>/Demo_data/D1_imgs_1/acdcd1ef-71a9-55f2-9993-7...</td>\n",
       "      <td>10</td>\n",
       "      <td>21</td>\n",
       "    </tr>\n",
       "    <tr>\n",
       "      <th>2</th>\n",
       "      <td>Economy</td>\n",
       "      <td>Tax Tactics Threaten Public Funds</td>\n",
       "      <td>https://www.nytimes.com/2014/10/02/business/ec...</td>\n",
       "      <td>When the European Commission charged this week...</td>\n",
       "      <td>If global corporations can continue to evade t...</td>\n",
       "      <td>1de5c156-9cea-5971-9fdf-b6a4ce9bf35c</td>\n",
       "      <td>https://static01.nyt.com/images/2012/02/29/bus...</td>\n",
       "      <td>Eduardo Porter</td>\n",
       "      <td>1de5c156-9cea-5971-9fdf-b6a4ce9bf35c</td>\n",
       "      <td>/Demo_data/D1_imgs_1/1de5c156-9cea-5971-9fdf-b...</td>\n",
       "      <td>8</td>\n",
       "      <td>13</td>\n",
       "    </tr>\n",
       "    <tr>\n",
       "      <th>3</th>\n",
       "      <td>Television</td>\n",
       "      <td>Review: 'The Chi' Returns to the South Side of...</td>\n",
       "      <td>https://www.nytimes.com/2019/04/05/arts/televi...</td>\n",
       "      <td>\"The Chi\" was built around a series of shootin...</td>\n",
       "      <td>Lena Waithe's neighborhood drama on Showtime d...</td>\n",
       "      <td>7bb11a9c-2f6d-57f9-bb36-db7f00f59589</td>\n",
       "      <td>https://static01.nyt.com/images/2019/04/05/art...</td>\n",
       "      <td>Alex Hibbert as Kevin in \"The Chi,\" a sprawlin...</td>\n",
       "      <td>7bb11a9c-2f6d-57f9-bb36-db7f00f59589</td>\n",
       "      <td>/Demo_data/D1_imgs_1/7bb11a9c-2f6d-57f9-bb36-d...</td>\n",
       "      <td>3</td>\n",
       "      <td>3</td>\n",
       "    </tr>\n",
       "    <tr>\n",
       "      <th>4</th>\n",
       "      <td>Opinion</td>\n",
       "      <td>Banks Should Face History and Pay Reparations</td>\n",
       "      <td>https://www.nytimes.com/2020/06/26/opinion/sun...</td>\n",
       "      <td>Ms. Blackwell is founder in residence at Polic...</td>\n",
       "      <td>The financial industry can close the wealth ga...</td>\n",
       "      <td>165426ae-1e7c-5193-8596-ef96357645a8</td>\n",
       "      <td>https://static01.nyt.com/images/2020/06/25/opi...</td>\n",
       "      <td>A Wells Fargo bank in Minneapolis was set on f...</td>\n",
       "      <td>165426ae-1e7c-5193-8596-ef96357645a8</td>\n",
       "      <td>/Demo_data/D1_imgs_1/165426ae-1e7c-5193-8596-e...</td>\n",
       "      <td>11</td>\n",
       "      <td>12</td>\n",
       "    </tr>\n",
       "    <tr>\n",
       "      <th>5</th>\n",
       "      <td>Books</td>\n",
       "      <td>Mercedes Barcha, Gabriel García Márquez's Wife...</td>\n",
       "      <td>https://www.nytimes.com/2020/08/23/books/merce...</td>\n",
       "      <td>Mercedes Barcha and her husband, the Colombian...</td>\n",
       "      <td>For nearly 60 years, she was the Nobel Prize-w...</td>\n",
       "      <td>23348aa1-6fa8-5ca8-a875-71fe704e6dd2</td>\n",
       "      <td>https://static01.nyt.com/images/2020/08/24/obi...</td>\n",
       "      <td>Mercedes Barcha and her husband, the Colombian...</td>\n",
       "      <td>23348aa1-6fa8-5ca8-a875-71fe704e6dd2</td>\n",
       "      <td>/Demo_data/D1_imgs_1/23348aa1-6fa8-5ca8-a875-7...</td>\n",
       "      <td>13</td>\n",
       "      <td>10</td>\n",
       "    </tr>\n",
       "    <tr>\n",
       "      <th>6</th>\n",
       "      <td>Opinion</td>\n",
       "      <td>The George Floyd Election</td>\n",
       "      <td>https://www.nytimes.com/2020/06/03/opinion/geo...</td>\n",
       "      <td>Mike Erlandson, a former chairman of the state...</td>\n",
       "      <td>How the protests come to be viewed may determi...</td>\n",
       "      <td>32d42c23-4bd8-504a-8151-912b4c3f002d</td>\n",
       "      <td>https://static01.nyt.com/images/2020/06/03/opi...</td>\n",
       "      <td>Protests over the killing of George Floyd in N...</td>\n",
       "      <td>32d42c23-4bd8-504a-8151-912b4c3f002d</td>\n",
       "      <td>/Demo_data/D1_imgs_1/32d42c23-4bd8-504a-8151-9...</td>\n",
       "      <td>11</td>\n",
       "      <td>11</td>\n",
       "    </tr>\n",
       "    <tr>\n",
       "      <th>7</th>\n",
       "      <td>Books</td>\n",
       "      <td>For Black and Mixed-Race Women, Hair and Ident...</td>\n",
       "      <td>https://www.nytimes.com/2020/03/17/books/revie...</td>\n",
       "      <td>What do we lose in translation? How do we know...</td>\n",
       "      <td>In \"That Hair,\" the Portuguese writer Djaimili...</td>\n",
       "      <td>7e7703aa-4180-57a3-9781-c74a25d31afb</td>\n",
       "      <td>https://static01.nyt.com/images/2020/03/22/boo...</td>\n",
       "      <td>Djaimilia Pereira de Almeida</td>\n",
       "      <td>7e7703aa-4180-57a3-9781-c74a25d31afb</td>\n",
       "      <td>/Demo_data/D1_imgs_1/7e7703aa-4180-57a3-9781-c...</td>\n",
       "      <td>13</td>\n",
       "      <td>13</td>\n",
       "    </tr>\n",
       "    <tr>\n",
       "      <th>8</th>\n",
       "      <td>Books</td>\n",
       "      <td>A Contemporary Feminist Spin on the Traditiona...</td>\n",
       "      <td>https://www.nytimes.com/2019/07/08/books/revie...</td>\n",
       "      <td>Motivated in part by guilt as a privileged out...</td>\n",
       "      <td>In Madeline ffitch's debut, \"Stay and Fight,\" ...</td>\n",
       "      <td>c030fbee-2601-54f5-a9df-75fa8c13368c</td>\n",
       "      <td>https://static01.nyt.com/images/2019/06/27/boo...</td>\n",
       "      <td>Madeline ffitch's debut novel, \"Stay and Fight...</td>\n",
       "      <td>c030fbee-2601-54f5-a9df-75fa8c13368c</td>\n",
       "      <td>/Demo_data/D1_imgs_1/c030fbee-2601-54f5-a9df-7...</td>\n",
       "      <td>13</td>\n",
       "      <td>13</td>\n",
       "    </tr>\n",
       "    <tr>\n",
       "      <th>9</th>\n",
       "      <td>Media</td>\n",
       "      <td>Minnesota Public Radio Drops Garrison Keillor ...</td>\n",
       "      <td>https://www.nytimes.com/2017/11/29/business/me...</td>\n",
       "      <td>Minnesota Public Radio said Wednesday that it ...</td>\n",
       "      <td>The network says it has severed all business t...</td>\n",
       "      <td>ffc5888c-af9f-5898-b5db-e838334b487e</td>\n",
       "      <td>https://static01.nyt.com/images/2017/11/30/bus...</td>\n",
       "      <td>Garrison Keillor in 2016.</td>\n",
       "      <td>ffc5888c-af9f-5898-b5db-e838334b487e</td>\n",
       "      <td>/Demo_data/D1_imgs_1/ffc5888c-af9f-5898-b5db-e...</td>\n",
       "      <td>16</td>\n",
       "      <td>11</td>\n",
       "    </tr>\n",
       "    <tr>\n",
       "      <th>10</th>\n",
       "      <td>Automobiles</td>\n",
       "      <td>Working in Postwar Italy, He Was the da Vinci ...</td>\n",
       "      <td>https://www.nytimes.com/2014/12/14/automobiles...</td>\n",
       "      <td>The question of which engine type is best for ...</td>\n",
       "      <td>An innovative design by Francesco De Virgilio,...</td>\n",
       "      <td>f7af67a1-d43a-5949-a837-1fcc7f8b2a98</td>\n",
       "      <td>https://static01.nyt.com/images/2014/12/14/aut...</td>\n",
       "      <td>Francesco De Virgilio in 1990 with his V6.</td>\n",
       "      <td>f7af67a1-d43a-5949-a837-1fcc7f8b2a98</td>\n",
       "      <td>/Demo_data/D1_imgs_1/f7af67a1-d43a-5949-a837-1...</td>\n",
       "      <td>23</td>\n",
       "      <td>23</td>\n",
       "    </tr>\n",
       "    <tr>\n",
       "      <th>11</th>\n",
       "      <td>Television</td>\n",
       "      <td>What's on TV Tuesday: 'Adam Ruins Everything' ...</td>\n",
       "      <td>https://www.nytimes.com/2018/03/20/arts/televi...</td>\n",
       "      <td>Adam Conover wants you to unlearn everything y...</td>\n",
       "      <td>Adam Conover wants you to unlearn everything y...</td>\n",
       "      <td>39338f30-592e-5141-95d0-4c3e11bda73d</td>\n",
       "      <td>https://static01.nyt.com/images/2018/03/20/art...</td>\n",
       "      <td>A scene from &amp;ldquo;Adam Ruins Everything Pres...</td>\n",
       "      <td>39338f30-592e-5141-95d0-4c3e11bda73d</td>\n",
       "      <td>/Demo_data/D1_imgs_1/39338f30-592e-5141-95d0-4...</td>\n",
       "      <td>3</td>\n",
       "      <td>11</td>\n",
       "    </tr>\n",
       "    <tr>\n",
       "      <th>12</th>\n",
       "      <td>Automobiles</td>\n",
       "      <td>'Rush': The Drama Is Off the Track</td>\n",
       "      <td>https://www.nytimes.com/2013/09/15/automobiles...</td>\n",
       "      <td>Hollywood has long tried to make films about a...</td>\n",
       "      <td>Ron Howard's film, which chronicles the duel b...</td>\n",
       "      <td>0b5c86ae-81bd-5f9b-854a-d5a9b3c231f2</td>\n",
       "      <td>https://static01.nyt.com/images/2013/09/15/aut...</td>\n",
       "      <td>MOODY  On-track clashes play a role, but it's ...</td>\n",
       "      <td>0b5c86ae-81bd-5f9b-854a-d5a9b3c231f2</td>\n",
       "      <td>/Demo_data/D1_imgs_1/0b5c86ae-81bd-5f9b-854a-d...</td>\n",
       "      <td>23</td>\n",
       "      <td>11</td>\n",
       "    </tr>\n",
       "    <tr>\n",
       "      <th>13</th>\n",
       "      <td>Opinion</td>\n",
       "      <td>Who Bears Witness to a Hidden Epidemic?</td>\n",
       "      <td>https://www.nytimes.com/2020/07/14/opinion/sun...</td>\n",
       "      <td>We know domestic violence is spiking under loc...</td>\n",
       "      <td>We know domestic violence is spiking under loc...</td>\n",
       "      <td>e05685c9-6cca-5415-94c4-b4977e4fbcea</td>\n",
       "      <td>https://static01.nyt.com/images/2020/07/19/opi...</td>\n",
       "      <td>Latrice Brooks, a crisis interventionist, work...</td>\n",
       "      <td>e05685c9-6cca-5415-94c4-b4977e4fbcea</td>\n",
       "      <td>/Demo_data/D1_imgs_1/e05685c9-6cca-5415-94c4-b...</td>\n",
       "      <td>11</td>\n",
       "      <td>11</td>\n",
       "    </tr>\n",
       "    <tr>\n",
       "      <th>14</th>\n",
       "      <td>Technology</td>\n",
       "      <td>In U.S.-China Tech Feud, Taiwan Feels Heat Fro...</td>\n",
       "      <td>https://www.nytimes.com/2020/10/01/technology/...</td>\n",
       "      <td>TAINAN, Taiwan -- The United States and China ...</td>\n",
       "      <td>The island's biggest chip maker has been a cov...</td>\n",
       "      <td>9b15aa80-ee3b-5f5a-9055-a94d36196d85</td>\n",
       "      <td>https://static01.nyt.com/images/2020/09/28/bus...</td>\n",
       "      <td>People in Taiwan have a rhyme about TSMC's wor...</td>\n",
       "      <td>9b15aa80-ee3b-5f5a-9055-a94d36196d85</td>\n",
       "      <td>/Demo_data/D1_imgs_1/9b15aa80-ee3b-5f5a-9055-a...</td>\n",
       "      <td>20</td>\n",
       "      <td>16</td>\n",
       "    </tr>\n",
       "    <tr>\n",
       "      <th>15</th>\n",
       "      <td>Movies</td>\n",
       "      <td>Stuart Gordon, Whose Films Reanimated Horror, ...</td>\n",
       "      <td>https://www.nytimes.com/2020/03/27/movies/stua...</td>\n",
       "      <td>Stuart Gordon, a director best known for lavis...</td>\n",
       "      <td>His low-budget movies, notably the cult favori...</td>\n",
       "      <td>e2049485-82ff-5197-bc70-4be4f63d1be2</td>\n",
       "      <td>https://static01.nyt.com/images/2020/03/29/obi...</td>\n",
       "      <td>The director Stuart Gordon in 2008. Celebrated...</td>\n",
       "      <td>e2049485-82ff-5197-bc70-4be4f63d1be2</td>\n",
       "      <td>/Demo_data/D1_imgs_1/e2049485-82ff-5197-bc70-4...</td>\n",
       "      <td>5</td>\n",
       "      <td>11</td>\n",
       "    </tr>\n",
       "    <tr>\n",
       "      <th>16</th>\n",
       "      <td>Travel</td>\n",
       "      <td>TripAdvisor to Stop Selling Tickets to Many An...</td>\n",
       "      <td>https://www.nytimes.com/2016/10/11/travel/trip...</td>\n",
       "      <td>TripAdvisor, one of the world's largest travel...</td>\n",
       "      <td>TripAdvisor will no longer sell tickets to att...</td>\n",
       "      <td>c6571c5f-d895-560e-bd3f-d5dba0dc0e30</td>\n",
       "      <td>https://static01.nyt.com/images/2016/10/11/tra...</td>\n",
       "      <td>Tourists riding elephants in the Chiang Mai pr...</td>\n",
       "      <td>c6571c5f-d895-560e-bd3f-d5dba0dc0e30</td>\n",
       "      <td>/Demo_data/D1_imgs_1/c6571c5f-d895-560e-bd3f-d...</td>\n",
       "      <td>4</td>\n",
       "      <td>4</td>\n",
       "    </tr>\n",
       "    <tr>\n",
       "      <th>17</th>\n",
       "      <td>Movies</td>\n",
       "      <td>'On the Rocks' Review: Daddy Dearest and His L...</td>\n",
       "      <td>https://www.nytimes.com/2020/10/01/movies/on-t...</td>\n",
       "      <td>It isn't surprising how effortlessly Bill Murr...</td>\n",
       "      <td>In Sofia Coppola's latest, Rashida Jones plays...</td>\n",
       "      <td>5f5fe44c-ed73-534c-9606-d1007e8d65a5</td>\n",
       "      <td>https://static01.nyt.com/images/2020/10/02/art...</td>\n",
       "      <td>\"You're mine until you get married — then you'...</td>\n",
       "      <td>5f5fe44c-ed73-534c-9606-d1007e8d65a5</td>\n",
       "      <td>/Demo_data/D1_imgs_1/5f5fe44c-ed73-534c-9606-d...</td>\n",
       "      <td>5</td>\n",
       "      <td>3</td>\n",
       "    </tr>\n",
       "    <tr>\n",
       "      <th>18</th>\n",
       "      <td>Television</td>\n",
       "      <td>What's on TV Saturday: 'Bloody Nose, Empty Poc...</td>\n",
       "      <td>https://www.nytimes.com/2020/07/11/arts/televi...</td>\n",
       "      <td>WE ARE LITTLE ZOMBIES (2020) Watch through vir...</td>\n",
       "      <td>Watch an experimental film about bar regulars,...</td>\n",
       "      <td>7d93428e-d390-5cb2-a4a8-cb3c5a93a1c2</td>\n",
       "      <td>https://static01.nyt.com/images/2020/07/12/art...</td>\n",
       "      <td>A still from \"Bloody Nose, Empty Pockets.\"</td>\n",
       "      <td>7d93428e-d390-5cb2-a4a8-cb3c5a93a1c2</td>\n",
       "      <td>/Demo_data/D1_imgs_1/7d93428e-d390-5cb2-a4a8-c...</td>\n",
       "      <td>3</td>\n",
       "      <td>11</td>\n",
       "    </tr>\n",
       "    <tr>\n",
       "      <th>19</th>\n",
       "      <td>Fashion &amp; Style</td>\n",
       "      <td>Internet Porn Nearly Ruined His Life. Now He W...</td>\n",
       "      <td>https://www.nytimes.com/2016/07/08/fashion/men...</td>\n",
       "      <td>Internet Porn Nearly Ruined His Life. Now He W...</td>\n",
       "      <td>Alexander Rhodes, the founder of an anti-porn ...</td>\n",
       "      <td>19068ee7-c56f-5613-b3a5-c4f7c64b729b</td>\n",
       "      <td>https://static01.nyt.com/images/2016/07/08/fas...</td>\n",
       "      <td>Alexander Rhodes, the founder of a pornography...</td>\n",
       "      <td>19068ee7-c56f-5613-b3a5-c4f7c64b729b</td>\n",
       "      <td>/Demo_data/D1_imgs_1/19068ee7-c56f-5613-b3a5-c...</td>\n",
       "      <td>19</td>\n",
       "      <td>11</td>\n",
       "    </tr>\n",
       "  </tbody>\n",
       "</table>\n",
       "</div>"
      ],
      "text/plain": [
       "            section                                           headline  \\\n",
       "0   Fashion & Style           On This Runway, Non-Models and Cool Kids   \n",
       "1           Theater  The New 42nd Street, a Theater Nonprofit, Name...   \n",
       "2           Economy                  Tax Tactics Threaten Public Funds   \n",
       "3        Television  Review: 'The Chi' Returns to the South Side of...   \n",
       "4           Opinion      Banks Should Face History and Pay Reparations   \n",
       "5             Books  Mercedes Barcha, Gabriel García Márquez's Wife...   \n",
       "6           Opinion                          The George Floyd Election   \n",
       "7             Books  For Black and Mixed-Race Women, Hair and Ident...   \n",
       "8             Books  A Contemporary Feminist Spin on the Traditiona...   \n",
       "9             Media  Minnesota Public Radio Drops Garrison Keillor ...   \n",
       "10      Automobiles  Working in Postwar Italy, He Was the da Vinci ...   \n",
       "11       Television  What's on TV Tuesday: 'Adam Ruins Everything' ...   \n",
       "12      Automobiles                 'Rush': The Drama Is Off the Track   \n",
       "13          Opinion            Who Bears Witness to a Hidden Epidemic?   \n",
       "14       Technology  In U.S.-China Tech Feud, Taiwan Feels Heat Fro...   \n",
       "15           Movies  Stuart Gordon, Whose Films Reanimated Horror, ...   \n",
       "16           Travel  TripAdvisor to Stop Selling Tickets to Many An...   \n",
       "17           Movies  'On the Rocks' Review: Daddy Dearest and His L...   \n",
       "18       Television  What's on TV Saturday: 'Bloody Nose, Empty Poc...   \n",
       "19  Fashion & Style  Internet Porn Nearly Ruined His Life. Now He W...   \n",
       "\n",
       "                                          article_url  \\\n",
       "0   https://www.nytimes.com/2016/09/10/fashion/eck...   \n",
       "1   https://www.nytimes.com/2019/06/11/theater/new...   \n",
       "2   https://www.nytimes.com/2014/10/02/business/ec...   \n",
       "3   https://www.nytimes.com/2019/04/05/arts/televi...   \n",
       "4   https://www.nytimes.com/2020/06/26/opinion/sun...   \n",
       "5   https://www.nytimes.com/2020/08/23/books/merce...   \n",
       "6   https://www.nytimes.com/2020/06/03/opinion/geo...   \n",
       "7   https://www.nytimes.com/2020/03/17/books/revie...   \n",
       "8   https://www.nytimes.com/2019/07/08/books/revie...   \n",
       "9   https://www.nytimes.com/2017/11/29/business/me...   \n",
       "10  https://www.nytimes.com/2014/12/14/automobiles...   \n",
       "11  https://www.nytimes.com/2018/03/20/arts/televi...   \n",
       "12  https://www.nytimes.com/2013/09/15/automobiles...   \n",
       "13  https://www.nytimes.com/2020/07/14/opinion/sun...   \n",
       "14  https://www.nytimes.com/2020/10/01/technology/...   \n",
       "15  https://www.nytimes.com/2020/03/27/movies/stua...   \n",
       "16  https://www.nytimes.com/2016/10/11/travel/trip...   \n",
       "17  https://www.nytimes.com/2020/10/01/movies/on-t...   \n",
       "18  https://www.nytimes.com/2020/07/11/arts/televi...   \n",
       "19  https://www.nytimes.com/2016/07/08/fashion/men...   \n",
       "\n",
       "                                              article  \\\n",
       "0   Over Labor Day weekend, a steady stream of hop...   \n",
       "1   The New 42nd Street -- the nonprofit organizat...   \n",
       "2   When the European Commission charged this week...   \n",
       "3   \"The Chi\" was built around a series of shootin...   \n",
       "4   Ms. Blackwell is founder in residence at Polic...   \n",
       "5   Mercedes Barcha and her husband, the Colombian...   \n",
       "6   Mike Erlandson, a former chairman of the state...   \n",
       "7   What do we lose in translation? How do we know...   \n",
       "8   Motivated in part by guilt as a privileged out...   \n",
       "9   Minnesota Public Radio said Wednesday that it ...   \n",
       "10  The question of which engine type is best for ...   \n",
       "11  Adam Conover wants you to unlearn everything y...   \n",
       "12  Hollywood has long tried to make films about a...   \n",
       "13  We know domestic violence is spiking under loc...   \n",
       "14  TAINAN, Taiwan -- The United States and China ...   \n",
       "15  Stuart Gordon, a director best known for lavis...   \n",
       "16  TripAdvisor, one of the world's largest travel...   \n",
       "17  It isn't surprising how effortlessly Bill Murr...   \n",
       "18  WE ARE LITTLE ZOMBIES (2020) Watch through vir...   \n",
       "19  Internet Porn Nearly Ruined His Life. Now He W...   \n",
       "\n",
       "                                             abstract  \\\n",
       "0   How the Eckhaus Latta designers select fashion...   \n",
       "1   Russell Granet will be the new president and c...   \n",
       "2   If global corporations can continue to evade t...   \n",
       "3   Lena Waithe's neighborhood drama on Showtime d...   \n",
       "4   The financial industry can close the wealth ga...   \n",
       "5   For nearly 60 years, she was the Nobel Prize-w...   \n",
       "6   How the protests come to be viewed may determi...   \n",
       "7   In \"That Hair,\" the Portuguese writer Djaimili...   \n",
       "8   In Madeline ffitch's debut, \"Stay and Fight,\" ...   \n",
       "9   The network says it has severed all business t...   \n",
       "10  An innovative design by Francesco De Virgilio,...   \n",
       "11  Adam Conover wants you to unlearn everything y...   \n",
       "12  Ron Howard's film, which chronicles the duel b...   \n",
       "13  We know domestic violence is spiking under loc...   \n",
       "14  The island's biggest chip maker has been a cov...   \n",
       "15  His low-budget movies, notably the cult favori...   \n",
       "16  TripAdvisor will no longer sell tickets to att...   \n",
       "17  In Sofia Coppola's latest, Rashida Jones plays...   \n",
       "18  Watch an experimental film about bar regulars,...   \n",
       "19  Alexander Rhodes, the founder of an anti-porn ...   \n",
       "\n",
       "                              article_id  \\\n",
       "0   e9cd6477-5eb6-58b2-8e33-fd2d881bf656   \n",
       "1   acdcd1ef-71a9-55f2-9993-7a231d57396f   \n",
       "2   1de5c156-9cea-5971-9fdf-b6a4ce9bf35c   \n",
       "3   7bb11a9c-2f6d-57f9-bb36-db7f00f59589   \n",
       "4   165426ae-1e7c-5193-8596-ef96357645a8   \n",
       "5   23348aa1-6fa8-5ca8-a875-71fe704e6dd2   \n",
       "6   32d42c23-4bd8-504a-8151-912b4c3f002d   \n",
       "7   7e7703aa-4180-57a3-9781-c74a25d31afb   \n",
       "8   c030fbee-2601-54f5-a9df-75fa8c13368c   \n",
       "9   ffc5888c-af9f-5898-b5db-e838334b487e   \n",
       "10  f7af67a1-d43a-5949-a837-1fcc7f8b2a98   \n",
       "11  39338f30-592e-5141-95d0-4c3e11bda73d   \n",
       "12  0b5c86ae-81bd-5f9b-854a-d5a9b3c231f2   \n",
       "13  e05685c9-6cca-5415-94c4-b4977e4fbcea   \n",
       "14  9b15aa80-ee3b-5f5a-9055-a94d36196d85   \n",
       "15  e2049485-82ff-5197-bc70-4be4f63d1be2   \n",
       "16  c6571c5f-d895-560e-bd3f-d5dba0dc0e30   \n",
       "17  5f5fe44c-ed73-534c-9606-d1007e8d65a5   \n",
       "18  7d93428e-d390-5cb2-a4a8-cb3c5a93a1c2   \n",
       "19  19068ee7-c56f-5613-b3a5-c4f7c64b729b   \n",
       "\n",
       "                                                image  \\\n",
       "0   https://static01.nyt.com/images/2016/09/10/fas...   \n",
       "1   https://static01.nyt.com/images/2019/06/11/art...   \n",
       "2   https://static01.nyt.com/images/2012/02/29/bus...   \n",
       "3   https://static01.nyt.com/images/2019/04/05/art...   \n",
       "4   https://static01.nyt.com/images/2020/06/25/opi...   \n",
       "5   https://static01.nyt.com/images/2020/08/24/obi...   \n",
       "6   https://static01.nyt.com/images/2020/06/03/opi...   \n",
       "7   https://static01.nyt.com/images/2020/03/22/boo...   \n",
       "8   https://static01.nyt.com/images/2019/06/27/boo...   \n",
       "9   https://static01.nyt.com/images/2017/11/30/bus...   \n",
       "10  https://static01.nyt.com/images/2014/12/14/aut...   \n",
       "11  https://static01.nyt.com/images/2018/03/20/art...   \n",
       "12  https://static01.nyt.com/images/2013/09/15/aut...   \n",
       "13  https://static01.nyt.com/images/2020/07/19/opi...   \n",
       "14  https://static01.nyt.com/images/2020/09/28/bus...   \n",
       "15  https://static01.nyt.com/images/2020/03/29/obi...   \n",
       "16  https://static01.nyt.com/images/2016/10/11/tra...   \n",
       "17  https://static01.nyt.com/images/2020/10/02/art...   \n",
       "18  https://static01.nyt.com/images/2020/07/12/art...   \n",
       "19  https://static01.nyt.com/images/2016/07/08/fas...   \n",
       "\n",
       "                                              caption  \\\n",
       "0   Mike Eckhaus, center right, and Zoe Latta, cen...   \n",
       "1   The New 42nd Street board chairwoman, Fiona Ru...   \n",
       "2                                      Eduardo Porter   \n",
       "3   Alex Hibbert as Kevin in \"The Chi,\" a sprawlin...   \n",
       "4   A Wells Fargo bank in Minneapolis was set on f...   \n",
       "5   Mercedes Barcha and her husband, the Colombian...   \n",
       "6   Protests over the killing of George Floyd in N...   \n",
       "7                        Djaimilia Pereira de Almeida   \n",
       "8   Madeline ffitch's debut novel, \"Stay and Fight...   \n",
       "9                           Garrison Keillor in 2016.   \n",
       "10         Francesco De Virgilio in 1990 with his V6.   \n",
       "11  A scene from &ldquo;Adam Ruins Everything Pres...   \n",
       "12  MOODY  On-track clashes play a role, but it's ...   \n",
       "13  Latrice Brooks, a crisis interventionist, work...   \n",
       "14  People in Taiwan have a rhyme about TSMC's wor...   \n",
       "15  The director Stuart Gordon in 2008. Celebrated...   \n",
       "16  Tourists riding elephants in the Chiang Mai pr...   \n",
       "17  \"You're mine until you get married — then you'...   \n",
       "18         A still from \"Bloody Nose, Empty Pockets.\"   \n",
       "19  Alexander Rhodes, the founder of a pornography...   \n",
       "\n",
       "                                image_id  \\\n",
       "0   e9cd6477-5eb6-58b2-8e33-fd2d881bf656   \n",
       "1   acdcd1ef-71a9-55f2-9993-7a231d57396f   \n",
       "2   1de5c156-9cea-5971-9fdf-b6a4ce9bf35c   \n",
       "3   7bb11a9c-2f6d-57f9-bb36-db7f00f59589   \n",
       "4   165426ae-1e7c-5193-8596-ef96357645a8   \n",
       "5   23348aa1-6fa8-5ca8-a875-71fe704e6dd2   \n",
       "6   32d42c23-4bd8-504a-8151-912b4c3f002d   \n",
       "7   7e7703aa-4180-57a3-9781-c74a25d31afb   \n",
       "8   c030fbee-2601-54f5-a9df-75fa8c13368c   \n",
       "9   ffc5888c-af9f-5898-b5db-e838334b487e   \n",
       "10  f7af67a1-d43a-5949-a837-1fcc7f8b2a98   \n",
       "11  39338f30-592e-5141-95d0-4c3e11bda73d   \n",
       "12  0b5c86ae-81bd-5f9b-854a-d5a9b3c231f2   \n",
       "13  e05685c9-6cca-5415-94c4-b4977e4fbcea   \n",
       "14  9b15aa80-ee3b-5f5a-9055-a94d36196d85   \n",
       "15  e2049485-82ff-5197-bc70-4be4f63d1be2   \n",
       "16  c6571c5f-d895-560e-bd3f-d5dba0dc0e30   \n",
       "17  5f5fe44c-ed73-534c-9606-d1007e8d65a5   \n",
       "18  7d93428e-d390-5cb2-a4a8-cb3c5a93a1c2   \n",
       "19  19068ee7-c56f-5613-b3a5-c4f7c64b729b   \n",
       "\n",
       "                                           image_path  section_numeric  \\\n",
       "0   /Demo_data/D1_imgs_1/e9cd6477-5eb6-58b2-8e33-f...               19   \n",
       "1   /Demo_data/D1_imgs_1/acdcd1ef-71a9-55f2-9993-7...               10   \n",
       "2   /Demo_data/D1_imgs_1/1de5c156-9cea-5971-9fdf-b...                8   \n",
       "3   /Demo_data/D1_imgs_1/7bb11a9c-2f6d-57f9-bb36-d...                3   \n",
       "4   /Demo_data/D1_imgs_1/165426ae-1e7c-5193-8596-e...               11   \n",
       "5   /Demo_data/D1_imgs_1/23348aa1-6fa8-5ca8-a875-7...               13   \n",
       "6   /Demo_data/D1_imgs_1/32d42c23-4bd8-504a-8151-9...               11   \n",
       "7   /Demo_data/D1_imgs_1/7e7703aa-4180-57a3-9781-c...               13   \n",
       "8   /Demo_data/D1_imgs_1/c030fbee-2601-54f5-a9df-7...               13   \n",
       "9   /Demo_data/D1_imgs_1/ffc5888c-af9f-5898-b5db-e...               16   \n",
       "10  /Demo_data/D1_imgs_1/f7af67a1-d43a-5949-a837-1...               23   \n",
       "11  /Demo_data/D1_imgs_1/39338f30-592e-5141-95d0-4...                3   \n",
       "12  /Demo_data/D1_imgs_1/0b5c86ae-81bd-5f9b-854a-d...               23   \n",
       "13  /Demo_data/D1_imgs_1/e05685c9-6cca-5415-94c4-b...               11   \n",
       "14  /Demo_data/D1_imgs_1/9b15aa80-ee3b-5f5a-9055-a...               20   \n",
       "15  /Demo_data/D1_imgs_1/e2049485-82ff-5197-bc70-4...                5   \n",
       "16  /Demo_data/D1_imgs_1/c6571c5f-d895-560e-bd3f-d...                4   \n",
       "17  /Demo_data/D1_imgs_1/5f5fe44c-ed73-534c-9606-d...                5   \n",
       "18  /Demo_data/D1_imgs_1/7d93428e-d390-5cb2-a4a8-c...                3   \n",
       "19  /Demo_data/D1_imgs_1/19068ee7-c56f-5613-b3a5-c...               19   \n",
       "\n",
       "    D1b_CLIP_inital_labeling  \n",
       "0                         11  \n",
       "1                         21  \n",
       "2                         13  \n",
       "3                          3  \n",
       "4                         12  \n",
       "5                         10  \n",
       "6                         11  \n",
       "7                         13  \n",
       "8                         13  \n",
       "9                         11  \n",
       "10                        23  \n",
       "11                        11  \n",
       "12                        11  \n",
       "13                        11  \n",
       "14                        16  \n",
       "15                        11  \n",
       "16                         4  \n",
       "17                         3  \n",
       "18                        11  \n",
       "19                        11  "
      ]
     },
     "execution_count": 11,
     "metadata": {},
     "output_type": "execute_result"
    }
   ],
   "source": [
    "D1b_CLIP_inital_labeling"
   ]
  },
  {
   "cell_type": "code",
   "execution_count": 12,
   "id": "engaged-being",
   "metadata": {},
   "outputs": [
    {
     "name": "stdout",
     "output_type": "stream",
     "text": [
      "\n",
      "== Verification of 'D1b_CLIP_inital_labeling' vs. 'section_numeric' ==\n",
      "Accuracy:   35.00%\n",
      "Macro F1:   23.59%\n",
      "Micro  F1:  35.00%\n",
      "\n",
      "Full classification report:\n",
      "              precision    recall  f1-score   support\n",
      "\n",
      "           3       0.50      0.33      0.40         3\n",
      "           4       1.00      1.00      1.00         1\n",
      "           5       0.00      0.00      0.00         2\n",
      "           8       0.00      0.00      0.00         1\n",
      "          10       0.00      0.00      0.00         1\n",
      "          11       0.22      0.67      0.33         3\n",
      "          12       0.00      0.00      0.00         0\n",
      "          13       0.67      0.67      0.67         3\n",
      "          16       0.00      0.00      0.00         1\n",
      "          19       0.00      0.00      0.00         2\n",
      "          20       0.00      0.00      0.00         1\n",
      "          21       0.00      0.00      0.00         0\n",
      "          23       1.00      0.50      0.67         2\n",
      "\n",
      "    accuracy                           0.35        20\n",
      "   macro avg       0.26      0.24      0.24        20\n",
      "weighted avg       0.36      0.35      0.33        20\n",
      "\n",
      "\n",
      "Confusion matrix:\n",
      "[[1 0 0 0 0 2 0 0 0 0 0 0 0]\n",
      " [0 1 0 0 0 0 0 0 0 0 0 0 0]\n",
      " [1 0 0 0 0 1 0 0 0 0 0 0 0]\n",
      " [0 0 0 0 0 0 0 1 0 0 0 0 0]\n",
      " [0 0 0 0 0 0 0 0 0 0 0 1 0]\n",
      " [0 0 0 0 0 2 1 0 0 0 0 0 0]\n",
      " [0 0 0 0 0 0 0 0 0 0 0 0 0]\n",
      " [0 0 0 0 1 0 0 2 0 0 0 0 0]\n",
      " [0 0 0 0 0 1 0 0 0 0 0 0 0]\n",
      " [0 0 0 0 0 2 0 0 0 0 0 0 0]\n",
      " [0 0 0 0 0 0 0 0 1 0 0 0 0]\n",
      " [0 0 0 0 0 0 0 0 0 0 0 0 0]\n",
      " [0 0 0 0 0 1 0 0 0 0 0 0 1]]\n",
      "\n",
      ">> Overall accuracy: 35.00%\n"
     ]
    }
   ],
   "source": [
    "## Check the accuracy: CLIP initial labeling\n",
    "auto_verification(\n",
    "    D1b_CLIP_inital_labeling,\n",
    "    predicted_cols=\"D1b_CLIP_inital_labeling\",\n",
    "    true_cols=\"section_numeric\",\n",
    "    category=category_D1_CLIP\n",
    ");"
   ]
  },
  {
   "cell_type": "markdown",
   "id": "5e24ec41-2205-4dcc-9e50-d29c5aa5b08b",
   "metadata": {},
   "source": [
    "### finetune: CLIP"
   ]
  },
  {
   "cell_type": "code",
   "execution_count": 13,
   "id": "returning-indian",
   "metadata": {},
   "outputs": [
    {
     "name": "stdout",
     "output_type": "stream",
     "text": [
      "Loaded 20 records\n",
      "Number of classes: 24\n",
      "Use text: True, Use image: False\n",
      "Text columns: ['headline']\n",
      "Label column: section_numeric\n",
      "Training set class distribution: section_numeric\n",
      "11    3\n",
      "13    3\n",
      "3     2\n",
      "23    2\n",
      "19    1\n",
      "10    1\n",
      "8     1\n",
      "16    1\n",
      "20    1\n",
      "5     1\n",
      "Name: count, dtype: int64\n",
      "Validation set class distribution: section_numeric\n",
      "4     1\n",
      "5     1\n",
      "3     1\n",
      "19    1\n",
      "Name: count, dtype: int64\n"
     ]
    },
    {
     "name": "stderr",
     "output_type": "stream",
     "text": [
      "Epoch 1/20 [Train]: 100%|██████████| 2/2 [00:00<00:00,  2.24it/s]\n",
      "Epoch 1/20 [Val]: 100%|██████████| 1/1 [00:00<00:00, 11.20it/s]\n"
     ]
    },
    {
     "name": "stdout",
     "output_type": "stream",
     "text": [
      "Epoch 1/20: Train Loss: 3.1734 | Train Acc: 0.00% | Val Loss: 3.1904 | Val Acc: 0.00%\n"
     ]
    },
    {
     "name": "stderr",
     "output_type": "stream",
     "text": [
      "Epoch 2/20 [Train]: 100%|██████████| 2/2 [00:00<00:00,  2.21it/s]\n",
      "Epoch 2/20 [Val]: 100%|██████████| 1/1 [00:00<00:00, 12.58it/s]\n"
     ]
    },
    {
     "name": "stdout",
     "output_type": "stream",
     "text": [
      "Epoch 2/20: Train Loss: 3.1322 | Train Acc: 50.00% | Val Loss: 3.1811 | Val Acc: 0.00%\n"
     ]
    },
    {
     "name": "stderr",
     "output_type": "stream",
     "text": [
      "Epoch 3/20 [Train]: 100%|██████████| 2/2 [00:00<00:00,  3.59it/s]\n",
      "Epoch 3/20 [Val]: 100%|██████████| 1/1 [00:00<00:00,  5.66it/s]\n"
     ]
    },
    {
     "name": "stdout",
     "output_type": "stream",
     "text": [
      "Epoch 3/20: Train Loss: 3.0961 | Train Acc: 62.50% | Val Loss: 3.1677 | Val Acc: 25.00%\n",
      "Model saved! Best validation accuracy: 25.00%\n"
     ]
    },
    {
     "name": "stderr",
     "output_type": "stream",
     "text": [
      "Epoch 4/20 [Train]: 100%|██████████| 2/2 [00:00<00:00,  2.22it/s]\n",
      "Epoch 4/20 [Val]: 100%|██████████| 1/1 [00:00<00:00,  7.29it/s]\n"
     ]
    },
    {
     "name": "stdout",
     "output_type": "stream",
     "text": [
      "Epoch 4/20: Train Loss: 3.0619 | Train Acc: 68.75% | Val Loss: 3.1549 | Val Acc: 25.00%\n"
     ]
    },
    {
     "name": "stderr",
     "output_type": "stream",
     "text": [
      "Epoch 5/20 [Train]: 100%|██████████| 2/2 [00:00<00:00,  2.68it/s]\n",
      "Epoch 5/20 [Val]: 100%|██████████| 1/1 [00:00<00:00,  5.54it/s]\n"
     ]
    },
    {
     "name": "stdout",
     "output_type": "stream",
     "text": [
      "Epoch 5/20: Train Loss: 3.0318 | Train Acc: 87.50% | Val Loss: 3.1523 | Val Acc: 25.00%\n"
     ]
    },
    {
     "name": "stderr",
     "output_type": "stream",
     "text": [
      "Epoch 6/20 [Train]: 100%|██████████| 2/2 [00:00<00:00,  2.02it/s]\n",
      "Epoch 6/20 [Val]: 100%|██████████| 1/1 [00:00<00:00,  6.67it/s]\n"
     ]
    },
    {
     "name": "stdout",
     "output_type": "stream",
     "text": [
      "Epoch 6/20: Train Loss: 3.0067 | Train Acc: 93.75% | Val Loss: 3.1458 | Val Acc: 25.00%\n"
     ]
    },
    {
     "name": "stderr",
     "output_type": "stream",
     "text": [
      "Epoch 7/20 [Train]: 100%|██████████| 2/2 [00:00<00:00,  2.05it/s]\n",
      "Epoch 7/20 [Val]: 100%|██████████| 1/1 [00:00<00:00, 22.85it/s]\n"
     ]
    },
    {
     "name": "stdout",
     "output_type": "stream",
     "text": [
      "Epoch 7/20: Train Loss: 2.9739 | Train Acc: 100.00% | Val Loss: 3.1400 | Val Acc: 25.00%\n"
     ]
    },
    {
     "name": "stderr",
     "output_type": "stream",
     "text": [
      "Epoch 8/20 [Train]: 100%|██████████| 2/2 [00:00<00:00,  3.18it/s]\n",
      "Epoch 8/20 [Val]: 100%|██████████| 1/1 [00:00<00:00, 20.63it/s]\n"
     ]
    },
    {
     "name": "stdout",
     "output_type": "stream",
     "text": [
      "Epoch 8/20: Train Loss: 2.9447 | Train Acc: 100.00% | Val Loss: 3.1362 | Val Acc: 25.00%\n"
     ]
    },
    {
     "name": "stderr",
     "output_type": "stream",
     "text": [
      "Epoch 9/20 [Train]: 100%|██████████| 2/2 [00:01<00:00,  1.99it/s]\n",
      "Epoch 9/20 [Val]: 100%|██████████| 1/1 [00:00<00:00, 13.42it/s]\n"
     ]
    },
    {
     "name": "stdout",
     "output_type": "stream",
     "text": [
      "Epoch 9/20: Train Loss: 2.9204 | Train Acc: 100.00% | Val Loss: 3.1342 | Val Acc: 25.00%\n"
     ]
    },
    {
     "name": "stderr",
     "output_type": "stream",
     "text": [
      "Epoch 10/20 [Train]: 100%|██████████| 2/2 [00:01<00:00,  1.55it/s]\n",
      "Epoch 10/20 [Val]: 100%|██████████| 1/1 [00:00<00:00, 10.54it/s]\n"
     ]
    },
    {
     "name": "stdout",
     "output_type": "stream",
     "text": [
      "Epoch 10/20: Train Loss: 2.8954 | Train Acc: 100.00% | Val Loss: 3.1332 | Val Acc: 25.00%\n"
     ]
    },
    {
     "name": "stderr",
     "output_type": "stream",
     "text": [
      "Epoch 11/20 [Train]: 100%|██████████| 2/2 [00:00<00:00,  2.80it/s]\n",
      "Epoch 11/20 [Val]: 100%|██████████| 1/1 [00:00<00:00, 17.65it/s]\n"
     ]
    },
    {
     "name": "stdout",
     "output_type": "stream",
     "text": [
      "Epoch 11/20: Train Loss: 2.8817 | Train Acc: 100.00% | Val Loss: 3.1325 | Val Acc: 25.00%\n"
     ]
    },
    {
     "name": "stderr",
     "output_type": "stream",
     "text": [
      "Epoch 12/20 [Train]: 100%|██████████| 2/2 [00:00<00:00,  2.52it/s]\n",
      "Epoch 12/20 [Val]: 100%|██████████| 1/1 [00:00<00:00, 14.95it/s]\n"
     ]
    },
    {
     "name": "stdout",
     "output_type": "stream",
     "text": [
      "Epoch 12/20: Train Loss: 2.8553 | Train Acc: 100.00% | Val Loss: 3.1311 | Val Acc: 25.00%\n"
     ]
    },
    {
     "name": "stderr",
     "output_type": "stream",
     "text": [
      "Epoch 13/20 [Train]: 100%|██████████| 2/2 [00:01<00:00,  1.44it/s]\n",
      "Epoch 13/20 [Val]: 100%|██████████| 1/1 [00:00<00:00,  4.38it/s]\n"
     ]
    },
    {
     "name": "stdout",
     "output_type": "stream",
     "text": [
      "Epoch 13/20: Train Loss: 2.8340 | Train Acc: 100.00% | Val Loss: 3.1282 | Val Acc: 25.00%\n"
     ]
    },
    {
     "name": "stderr",
     "output_type": "stream",
     "text": [
      "Epoch 14/20 [Train]: 100%|██████████| 2/2 [00:00<00:00,  3.64it/s]\n",
      "Epoch 14/20 [Val]: 100%|██████████| 1/1 [00:00<00:00, 21.50it/s]\n"
     ]
    },
    {
     "name": "stdout",
     "output_type": "stream",
     "text": [
      "Epoch 14/20: Train Loss: 2.8220 | Train Acc: 100.00% | Val Loss: 3.1251 | Val Acc: 25.00%\n"
     ]
    },
    {
     "name": "stderr",
     "output_type": "stream",
     "text": [
      "Epoch 15/20 [Train]: 100%|██████████| 2/2 [00:00<00:00,  3.32it/s]\n",
      "Epoch 15/20 [Val]: 100%|██████████| 1/1 [00:00<00:00,  3.26it/s]\n"
     ]
    },
    {
     "name": "stdout",
     "output_type": "stream",
     "text": [
      "Epoch 15/20: Train Loss: 2.8169 | Train Acc: 100.00% | Val Loss: 3.1254 | Val Acc: 25.00%\n"
     ]
    },
    {
     "name": "stderr",
     "output_type": "stream",
     "text": [
      "Epoch 16/20 [Train]: 100%|██████████| 2/2 [00:01<00:00,  1.19it/s]\n",
      "Epoch 16/20 [Val]: 100%|██████████| 1/1 [00:00<00:00, 17.00it/s]\n"
     ]
    },
    {
     "name": "stdout",
     "output_type": "stream",
     "text": [
      "Epoch 16/20: Train Loss: 2.7913 | Train Acc: 100.00% | Val Loss: 3.1256 | Val Acc: 25.00%\n"
     ]
    },
    {
     "name": "stderr",
     "output_type": "stream",
     "text": [
      "Epoch 17/20 [Train]: 100%|██████████| 2/2 [00:00<00:00,  3.73it/s]\n",
      "Epoch 17/20 [Val]: 100%|██████████| 1/1 [00:00<00:00, 21.40it/s]\n"
     ]
    },
    {
     "name": "stdout",
     "output_type": "stream",
     "text": [
      "Epoch 17/20: Train Loss: 2.7693 | Train Acc: 100.00% | Val Loss: 3.1262 | Val Acc: 25.00%\n"
     ]
    },
    {
     "name": "stderr",
     "output_type": "stream",
     "text": [
      "Epoch 18/20 [Train]: 100%|██████████| 2/2 [00:00<00:00,  4.72it/s]\n",
      "Epoch 18/20 [Val]: 100%|██████████| 1/1 [00:00<00:00, 21.66it/s]\n"
     ]
    },
    {
     "name": "stdout",
     "output_type": "stream",
     "text": [
      "Epoch 18/20: Train Loss: 2.7708 | Train Acc: 100.00% | Val Loss: 3.1257 | Val Acc: 25.00%\n"
     ]
    },
    {
     "name": "stderr",
     "output_type": "stream",
     "text": [
      "Epoch 19/20 [Train]: 100%|██████████| 2/2 [00:00<00:00,  4.80it/s]\n",
      "Epoch 19/20 [Val]: 100%|██████████| 1/1 [00:00<00:00, 23.79it/s]\n"
     ]
    },
    {
     "name": "stdout",
     "output_type": "stream",
     "text": [
      "Epoch 19/20: Train Loss: 2.7537 | Train Acc: 100.00% | Val Loss: 3.1263 | Val Acc: 25.00%\n"
     ]
    },
    {
     "name": "stderr",
     "output_type": "stream",
     "text": [
      "Epoch 20/20 [Train]: 100%|██████████| 2/2 [00:00<00:00,  4.62it/s]\n",
      "Epoch 20/20 [Val]: 100%|██████████| 1/1 [00:00<00:00, 24.25it/s]"
     ]
    },
    {
     "name": "stdout",
     "output_type": "stream",
     "text": [
      "Epoch 20/20: Train Loss: 2.7479 | Train Acc: 100.00% | Val Loss: 3.1259 | Val Acc: 25.00%\n",
      "Fine-tuning complete! Best validation accuracy: 25.00%\n"
     ]
    },
    {
     "name": "stderr",
     "output_type": "stream",
     "text": [
      "\n"
     ]
    },
    {
     "data": {
      "text/plain": [
       "25.0"
      ]
     },
     "execution_count": 13,
     "metadata": {},
     "output_type": "execute_result"
    }
   ],
   "source": [
    "# finetune CLIP\n",
    "finetune_CLIP(\n",
    "    mode=\"text\",\n",
    "    text_path=\"Demo_data/D1_1.csv\",\n",
    "    true_label=\"section_numeric\",\n",
    "    model_name=\"Demo_finetuned_CLIP/D1b_CLIP_model_finetuned.pth\",\n",
    "    num_epochs=20,\n",
    "    batch_size=8,\n",
    "    learning_rate=1e-5,\n",
    ")\n"
   ]
  },
  {
   "cell_type": "code",
   "execution_count": 14,
   "id": "elder-ceramic",
   "metadata": {},
   "outputs": [
    {
     "name": "stdout",
     "output_type": "stream",
     "text": [
      "20 pieces of data loaded\n"
     ]
    },
    {
     "name": "stderr",
     "output_type": "stream",
     "text": [
      "predicting: 100%|██████████| 3/3 [00:00<00:00,  6.14it/s]"
     ]
    },
    {
     "name": "stdout",
     "output_type": "stream",
     "text": [
      "Labeling completed!\n"
     ]
    },
    {
     "name": "stderr",
     "output_type": "stream",
     "text": [
      "\n"
     ]
    }
   ],
   "source": [
    "# Classify with a fine‑tuned model\n",
    "D1b_CLIP_finetuned = classification_CLIP_finetuned(\n",
    "    mode=\"image\",\n",
    "    text_path=\"Demo_data/D1_2.csv\",\n",
    "    img_dir=\"Demo_data/D1_imgs_2\",\n",
    "    model_name=\"Demo_finetuned_CLIP/D1b_CLIP_model_finetuned.pth\",\n",
    "    predict_column=\"D1b_CLIP_finetuned\",\n",
    ")\n",
    "\n",
    "D1b_CLIP_finetuned.to_csv(\"Demo_result/D1b_CLIP_finetuned.csv\", index=False)"
   ]
  },
  {
   "cell_type": "code",
   "execution_count": 15,
   "id": "pleased-healthcare",
   "metadata": {},
   "outputs": [
    {
     "name": "stdout",
     "output_type": "stream",
     "text": [
      "\n",
      "== Verification of 'D1b_CLIP_finetuned' vs. 'section_numeric' ==\n",
      "Accuracy:   5.00%\n",
      "Macro F1:   1.67%\n",
      "Micro  F1:  5.00%\n",
      "\n",
      "Full classification report:\n",
      "              precision    recall  f1-score   support\n",
      "\n",
      "           2       0.00      0.00      0.00         1\n",
      "           3       0.00      0.00      0.00         1\n",
      "           6       0.00      0.00      0.00         0\n",
      "           7       0.00      0.00      0.00         1\n",
      "           8       0.00      0.00      0.00         0\n",
      "           9       0.00      0.00      0.00         1\n",
      "          10       0.00      0.00      0.00         2\n",
      "          13       0.00      0.00      0.00         2\n",
      "          14       0.00      0.00      0.00         1\n",
      "          16       0.00      0.00      0.00         3\n",
      "          17       0.00      0.00      0.00         2\n",
      "          19       0.00      0.00      0.00         1\n",
      "          20       0.00      0.00      0.00         2\n",
      "          21       0.14      1.00      0.25         1\n",
      "          23       0.00      0.00      0.00         2\n",
      "\n",
      "    accuracy                           0.05        20\n",
      "   macro avg       0.01      0.07      0.02        20\n",
      "weighted avg       0.01      0.05      0.01        20\n",
      "\n",
      "\n",
      "Confusion matrix:\n",
      "[[0 0 0 0 0 0 0 0 0 0 0 0 0 1 0]\n",
      " [0 0 1 0 0 0 0 0 0 0 0 0 0 0 0]\n",
      " [0 0 0 0 0 0 0 0 0 0 0 0 0 0 0]\n",
      " [0 0 0 0 1 0 0 0 0 0 0 0 0 0 0]\n",
      " [0 0 0 0 0 0 0 0 0 0 0 0 0 0 0]\n",
      " [0 0 1 0 0 0 0 0 0 0 0 0 0 0 0]\n",
      " [0 0 2 0 0 0 0 0 0 0 0 0 0 0 0]\n",
      " [0 1 1 0 0 0 0 0 0 0 0 0 0 0 0]\n",
      " [0 0 0 0 0 0 0 0 0 0 0 0 0 1 0]\n",
      " [0 0 0 0 0 0 0 0 0 0 2 0 0 1 0]\n",
      " [0 0 1 0 1 0 0 0 0 0 0 0 0 0 0]\n",
      " [0 0 0 0 1 0 0 0 0 0 0 0 0 0 0]\n",
      " [0 0 1 0 0 0 0 0 0 0 0 0 0 1 0]\n",
      " [0 0 0 0 0 0 0 0 0 0 0 0 0 1 0]\n",
      " [0 0 0 0 0 0 0 0 0 0 0 0 0 2 0]]\n",
      "\n",
      ">> Overall accuracy: 5.00%\n"
     ]
    }
   ],
   "source": [
    "## Check the accuracy: CLIP after finetune\n",
    "# Merge the Demo_result of the image with the human label\n",
    "auto_verification(\n",
    "    D1b_CLIP_finetuned,\n",
    "    predicted_cols=\"D1b_CLIP_finetuned\",\n",
    "    true_cols=\"section_numeric\",\n",
    "    category=category_D1_CLIP\n",
    ")"
   ]
  },
  {
   "cell_type": "markdown",
   "id": "square-fisher",
   "metadata": {},
   "source": [
    "# Demo 1c: Classify single-category text + image data\n",
    "\n",
    "**Datasets:**\n",
    "- `D1_1.csv`: Used for initial labeling and fine-tuning.\n",
    "- `D1_imgs_1`: Used for initial labeling and fine-tuning.\n",
    "\n",
    "- `D1_2.csv`: Used for testing the fine-tuned model's performance.\n",
    "- `D1_imgs_2`: Used for testing the fine-tuned model's performance.\n",
    "\n",
    "\n",
    "The text dataset should contain a column `image_path` to map the images for each row."
   ]
  },
  {
   "cell_type": "markdown",
   "id": "seeing-sender",
   "metadata": {},
   "source": [
    "## CLIP: local labeling"
   ]
  },
  {
   "cell_type": "code",
   "execution_count": 16,
   "id": "educated-connecticut",
   "metadata": {},
   "outputs": [
    {
     "name": "stdout",
     "output_type": "stream",
     "text": [
      "Loaded 20 records\n"
     ]
    },
    {
     "name": "stderr",
     "output_type": "stream",
     "text": [
      "Predicting: 100%|██████████| 20/20 [00:01<00:00, 13.39it/s]\n"
     ]
    }
   ],
   "source": [
    "D1c_CLIP_inital_labeling = classification_CLIP_0_shot(\n",
    "    text_path=\"Demo_data/D1_1.csv\",\n",
    "    img_dir=\"Demo_data/D1_imgs_1\",\n",
    "    mode=\"both\",\n",
    "    prompt=prompt_D1_CLIP,\n",
    "    text_column=[\"headline\", \"abstract\"],\n",
    "    predict_column=\"D1c_CLIP_inital_labeling\",\n",
    ")\n",
    "\n",
    "D1c_CLIP_inital_labeling.to_csv(\"Demo_result/D1c_CLIP_inital_labeling.csv\", index=False)"
   ]
  },
  {
   "cell_type": "code",
   "execution_count": 17,
   "id": "structural-sewing",
   "metadata": {},
   "outputs": [
    {
     "name": "stdout",
     "output_type": "stream",
     "text": [
      "\n",
      "== Verification of 'D1c_CLIP_inital_labeling' vs. 'section_numeric' ==\n",
      "Accuracy:   65.00%\n",
      "Macro F1:   49.37%\n",
      "Micro  F1:  65.00%\n",
      "\n",
      "Full classification report:\n",
      "              precision    recall  f1-score   support\n",
      "\n",
      "           3       0.75      1.00      0.86         3\n",
      "           4       1.00      1.00      1.00         1\n",
      "           5       0.00      0.00      0.00         2\n",
      "           8       0.00      0.00      0.00         1\n",
      "          10       0.33      1.00      0.50         1\n",
      "          11       0.50      0.33      0.40         3\n",
      "          12       0.00      0.00      0.00         0\n",
      "          13       1.00      1.00      1.00         3\n",
      "          16       0.00      0.00      0.00         1\n",
      "          19       1.00      0.50      0.67         2\n",
      "          20       0.33      1.00      0.50         1\n",
      "          23       1.00      1.00      1.00         2\n",
      "\n",
      "    accuracy                           0.65        20\n",
      "   macro avg       0.49      0.57      0.49        20\n",
      "weighted avg       0.62      0.65      0.61        20\n",
      "\n",
      "\n",
      "Confusion matrix:\n",
      "[[3 0 0 0 0 0 0 0 0 0 0 0]\n",
      " [0 1 0 0 0 0 0 0 0 0 0 0]\n",
      " [1 0 0 0 1 0 0 0 0 0 0 0]\n",
      " [0 0 0 0 0 0 0 0 0 0 1 0]\n",
      " [0 0 0 0 1 0 0 0 0 0 0 0]\n",
      " [0 0 0 0 0 1 1 0 0 0 1 0]\n",
      " [0 0 0 0 0 0 0 0 0 0 0 0]\n",
      " [0 0 0 0 0 0 0 3 0 0 0 0]\n",
      " [0 0 0 0 0 1 0 0 0 0 0 0]\n",
      " [0 0 0 0 1 0 0 0 0 1 0 0]\n",
      " [0 0 0 0 0 0 0 0 0 0 1 0]\n",
      " [0 0 0 0 0 0 0 0 0 0 0 2]]\n",
      "\n",
      ">> Overall accuracy: 65.00%\n"
     ]
    }
   ],
   "source": [
    "## Check the accuracy: CLIP initial labeling\n",
    "auto_verification(\n",
    "    D1c_CLIP_inital_labeling,\n",
    "    predicted_cols=\"D1c_CLIP_inital_labeling\",\n",
    "    true_cols=\"section_numeric\",\n",
    "    category=category_D1_CLIP\n",
    ");"
   ]
  },
  {
   "cell_type": "markdown",
   "id": "34c8f93a-a358-4abd-ba60-68739d6048a7",
   "metadata": {},
   "source": [
    "### finetune: CLIP"
   ]
  },
  {
   "cell_type": "code",
   "execution_count": 18,
   "id": "swedish-celebration",
   "metadata": {},
   "outputs": [
    {
     "name": "stdout",
     "output_type": "stream",
     "text": [
      "Loaded 20 records\n",
      "Number of classes: 24\n",
      "Use text: True, Use image: True\n",
      "Text columns: ['headline', 'abstract']\n",
      "Label column: section_numeric\n",
      "Training set class distribution: section_numeric\n",
      "11    3\n",
      "13    3\n",
      "3     2\n",
      "23    2\n",
      "19    1\n",
      "10    1\n",
      "8     1\n",
      "16    1\n",
      "20    1\n",
      "5     1\n",
      "Name: count, dtype: int64\n",
      "Validation set class distribution: section_numeric\n",
      "4     1\n",
      "5     1\n",
      "3     1\n",
      "19    1\n",
      "Name: count, dtype: int64\n"
     ]
    },
    {
     "name": "stderr",
     "output_type": "stream",
     "text": [
      "Epoch 1/20 [Train]: 100%|██████████| 2/2 [00:01<00:00,  1.44it/s]\n",
      "Epoch 1/20 [Val]: 100%|██████████| 1/1 [00:00<00:00,  9.25it/s]\n"
     ]
    },
    {
     "name": "stdout",
     "output_type": "stream",
     "text": [
      "Epoch 1/20: Train Loss: 3.1802 | Train Acc: 0.00% | Val Loss: 3.1483 | Val Acc: 25.00%\n",
      "Model saved! Best validation accuracy: 25.00%\n"
     ]
    },
    {
     "name": "stderr",
     "output_type": "stream",
     "text": [
      "Epoch 2/20 [Train]: 100%|██████████| 2/2 [00:01<00:00,  1.92it/s]\n",
      "Epoch 2/20 [Val]: 100%|██████████| 1/1 [00:00<00:00,  9.01it/s]\n"
     ]
    },
    {
     "name": "stdout",
     "output_type": "stream",
     "text": [
      "Epoch 2/20: Train Loss: 3.1163 | Train Acc: 43.75% | Val Loss: 3.1450 | Val Acc: 25.00%\n"
     ]
    },
    {
     "name": "stderr",
     "output_type": "stream",
     "text": [
      "Epoch 3/20 [Train]: 100%|██████████| 2/2 [00:01<00:00,  1.79it/s]\n",
      "Epoch 3/20 [Val]: 100%|██████████| 1/1 [00:00<00:00,  8.11it/s]\n"
     ]
    },
    {
     "name": "stdout",
     "output_type": "stream",
     "text": [
      "Epoch 3/20: Train Loss: 3.0600 | Train Acc: 81.25% | Val Loss: 3.1398 | Val Acc: 25.00%\n"
     ]
    },
    {
     "name": "stderr",
     "output_type": "stream",
     "text": [
      "Epoch 4/20 [Train]: 100%|██████████| 2/2 [00:01<00:00,  1.95it/s]\n",
      "Epoch 4/20 [Val]: 100%|██████████| 1/1 [00:00<00:00,  8.41it/s]\n"
     ]
    },
    {
     "name": "stdout",
     "output_type": "stream",
     "text": [
      "Epoch 4/20: Train Loss: 3.0134 | Train Acc: 100.00% | Val Loss: 3.1351 | Val Acc: 25.00%\n"
     ]
    },
    {
     "name": "stderr",
     "output_type": "stream",
     "text": [
      "Epoch 5/20 [Train]: 100%|██████████| 2/2 [00:01<00:00,  1.83it/s]\n",
      "Epoch 5/20 [Val]: 100%|██████████| 1/1 [00:00<00:00,  8.32it/s]\n"
     ]
    },
    {
     "name": "stdout",
     "output_type": "stream",
     "text": [
      "Epoch 5/20: Train Loss: 2.9635 | Train Acc: 100.00% | Val Loss: 3.1319 | Val Acc: 25.00%\n"
     ]
    },
    {
     "name": "stderr",
     "output_type": "stream",
     "text": [
      "Epoch 6/20 [Train]: 100%|██████████| 2/2 [00:01<00:00,  1.74it/s]\n",
      "Epoch 6/20 [Val]: 100%|██████████| 1/1 [00:00<00:00,  7.23it/s]\n"
     ]
    },
    {
     "name": "stdout",
     "output_type": "stream",
     "text": [
      "Epoch 6/20: Train Loss: 2.9204 | Train Acc: 100.00% | Val Loss: 3.1333 | Val Acc: 25.00%\n"
     ]
    },
    {
     "name": "stderr",
     "output_type": "stream",
     "text": [
      "Epoch 7/20 [Train]: 100%|██████████| 2/2 [00:01<00:00,  1.94it/s]\n",
      "Epoch 7/20 [Val]: 100%|██████████| 1/1 [00:00<00:00,  8.74it/s]\n"
     ]
    },
    {
     "name": "stdout",
     "output_type": "stream",
     "text": [
      "Epoch 7/20: Train Loss: 2.8942 | Train Acc: 100.00% | Val Loss: 3.1339 | Val Acc: 0.00%\n"
     ]
    },
    {
     "name": "stderr",
     "output_type": "stream",
     "text": [
      "Epoch 8/20 [Train]: 100%|██████████| 2/2 [00:01<00:00,  1.93it/s]\n",
      "Epoch 8/20 [Val]: 100%|██████████| 1/1 [00:00<00:00,  8.35it/s]\n"
     ]
    },
    {
     "name": "stdout",
     "output_type": "stream",
     "text": [
      "Epoch 8/20: Train Loss: 2.8576 | Train Acc: 100.00% | Val Loss: 3.1322 | Val Acc: 0.00%\n"
     ]
    },
    {
     "name": "stderr",
     "output_type": "stream",
     "text": [
      "Epoch 9/20 [Train]: 100%|██████████| 2/2 [00:01<00:00,  1.81it/s]\n",
      "Epoch 9/20 [Val]: 100%|██████████| 1/1 [00:00<00:00,  8.60it/s]\n"
     ]
    },
    {
     "name": "stdout",
     "output_type": "stream",
     "text": [
      "Epoch 9/20: Train Loss: 2.8270 | Train Acc: 100.00% | Val Loss: 3.1297 | Val Acc: 0.00%\n"
     ]
    },
    {
     "name": "stderr",
     "output_type": "stream",
     "text": [
      "Epoch 10/20 [Train]: 100%|██████████| 2/2 [00:01<00:00,  1.63it/s]\n",
      "Epoch 10/20 [Val]: 100%|██████████| 1/1 [00:00<00:00,  8.05it/s]\n"
     ]
    },
    {
     "name": "stdout",
     "output_type": "stream",
     "text": [
      "Epoch 10/20: Train Loss: 2.8023 | Train Acc: 100.00% | Val Loss: 3.1276 | Val Acc: 0.00%\n"
     ]
    },
    {
     "name": "stderr",
     "output_type": "stream",
     "text": [
      "Epoch 11/20 [Train]: 100%|██████████| 2/2 [00:01<00:00,  1.85it/s]\n",
      "Epoch 11/20 [Val]: 100%|██████████| 1/1 [00:00<00:00,  8.19it/s]\n"
     ]
    },
    {
     "name": "stdout",
     "output_type": "stream",
     "text": [
      "Epoch 11/20: Train Loss: 2.7817 | Train Acc: 100.00% | Val Loss: 3.1251 | Val Acc: 0.00%\n"
     ]
    },
    {
     "name": "stderr",
     "output_type": "stream",
     "text": [
      "Epoch 12/20 [Train]: 100%|██████████| 2/2 [00:01<00:00,  1.78it/s]\n",
      "Epoch 12/20 [Val]: 100%|██████████| 1/1 [00:00<00:00,  7.56it/s]\n"
     ]
    },
    {
     "name": "stdout",
     "output_type": "stream",
     "text": [
      "Epoch 12/20: Train Loss: 2.7613 | Train Acc: 100.00% | Val Loss: 3.1251 | Val Acc: 0.00%\n"
     ]
    },
    {
     "name": "stderr",
     "output_type": "stream",
     "text": [
      "Epoch 13/20 [Train]: 100%|██████████| 2/2 [00:01<00:00,  1.83it/s]\n",
      "Epoch 13/20 [Val]: 100%|██████████| 1/1 [00:00<00:00,  8.76it/s]\n"
     ]
    },
    {
     "name": "stdout",
     "output_type": "stream",
     "text": [
      "Epoch 13/20: Train Loss: 2.7460 | Train Acc: 100.00% | Val Loss: 3.1267 | Val Acc: 0.00%\n"
     ]
    },
    {
     "name": "stderr",
     "output_type": "stream",
     "text": [
      "Epoch 14/20 [Train]: 100%|██████████| 2/2 [00:01<00:00,  1.75it/s]\n",
      "Epoch 14/20 [Val]: 100%|██████████| 1/1 [00:00<00:00,  8.85it/s]\n"
     ]
    },
    {
     "name": "stdout",
     "output_type": "stream",
     "text": [
      "Epoch 14/20: Train Loss: 2.7309 | Train Acc: 100.00% | Val Loss: 3.1272 | Val Acc: 0.00%\n"
     ]
    },
    {
     "name": "stderr",
     "output_type": "stream",
     "text": [
      "Epoch 15/20 [Train]: 100%|██████████| 2/2 [00:01<00:00,  1.91it/s]\n",
      "Epoch 15/20 [Val]: 100%|██████████| 1/1 [00:00<00:00,  8.89it/s]\n"
     ]
    },
    {
     "name": "stdout",
     "output_type": "stream",
     "text": [
      "Epoch 15/20: Train Loss: 2.7029 | Train Acc: 100.00% | Val Loss: 3.1276 | Val Acc: 0.00%\n"
     ]
    },
    {
     "name": "stderr",
     "output_type": "stream",
     "text": [
      "Epoch 16/20 [Train]: 100%|██████████| 2/2 [00:01<00:00,  1.88it/s]\n",
      "Epoch 16/20 [Val]: 100%|██████████| 1/1 [00:00<00:00,  7.73it/s]\n"
     ]
    },
    {
     "name": "stdout",
     "output_type": "stream",
     "text": [
      "Epoch 16/20: Train Loss: 2.7071 | Train Acc: 100.00% | Val Loss: 3.1272 | Val Acc: 0.00%\n"
     ]
    },
    {
     "name": "stderr",
     "output_type": "stream",
     "text": [
      "Epoch 17/20 [Train]: 100%|██████████| 2/2 [00:01<00:00,  1.88it/s]\n",
      "Epoch 17/20 [Val]: 100%|██████████| 1/1 [00:00<00:00,  8.46it/s]\n"
     ]
    },
    {
     "name": "stdout",
     "output_type": "stream",
     "text": [
      "Epoch 17/20: Train Loss: 2.6850 | Train Acc: 100.00% | Val Loss: 3.1287 | Val Acc: 0.00%\n"
     ]
    },
    {
     "name": "stderr",
     "output_type": "stream",
     "text": [
      "Epoch 18/20 [Train]: 100%|██████████| 2/2 [00:01<00:00,  1.96it/s]\n",
      "Epoch 18/20 [Val]: 100%|██████████| 1/1 [00:00<00:00,  7.40it/s]\n"
     ]
    },
    {
     "name": "stdout",
     "output_type": "stream",
     "text": [
      "Epoch 18/20: Train Loss: 2.6962 | Train Acc: 100.00% | Val Loss: 3.1312 | Val Acc: 0.00%\n"
     ]
    },
    {
     "name": "stderr",
     "output_type": "stream",
     "text": [
      "Epoch 19/20 [Train]: 100%|██████████| 2/2 [00:01<00:00,  1.69it/s]\n",
      "Epoch 19/20 [Val]: 100%|██████████| 1/1 [00:00<00:00,  8.20it/s]\n"
     ]
    },
    {
     "name": "stdout",
     "output_type": "stream",
     "text": [
      "Epoch 19/20: Train Loss: 2.6789 | Train Acc: 100.00% | Val Loss: 3.1329 | Val Acc: 0.00%\n"
     ]
    },
    {
     "name": "stderr",
     "output_type": "stream",
     "text": [
      "Epoch 20/20 [Train]: 100%|██████████| 2/2 [00:01<00:00,  1.36it/s]\n",
      "Epoch 20/20 [Val]: 100%|██████████| 1/1 [00:00<00:00,  7.81it/s]"
     ]
    },
    {
     "name": "stdout",
     "output_type": "stream",
     "text": [
      "Epoch 20/20: Train Loss: 2.6791 | Train Acc: 100.00% | Val Loss: 3.1314 | Val Acc: 0.00%\n",
      "Fine-tuning complete! Best validation accuracy: 25.00%\n"
     ]
    },
    {
     "name": "stderr",
     "output_type": "stream",
     "text": [
      "\n"
     ]
    },
    {
     "data": {
      "text/plain": [
       "25.0"
      ]
     },
     "execution_count": 18,
     "metadata": {},
     "output_type": "execute_result"
    }
   ],
   "source": [
    "# finetune CLIP\n",
    "finetune_CLIP(\n",
    "    mode=\"both\",\n",
    "    text_path=\"Demo_data/D1_1.csv\",\n",
    "    text_column=[\"headline\", \"abstract\"],\n",
    "    img_dir=\"Demo_data/D1_imgs_1\",\n",
    "    true_label=\"section_numeric\",\n",
    "    model_name=\"Demo_finetuned_CLIP/D1c_CLIP_model_finetuned.pth\",\n",
    "    num_epochs=20,\n",
    "    batch_size=8,\n",
    "    learning_rate=1e-5,\n",
    ")\n"
   ]
  },
  {
   "cell_type": "code",
   "execution_count": 19,
   "id": "excess-ceremony",
   "metadata": {},
   "outputs": [
    {
     "name": "stdout",
     "output_type": "stream",
     "text": [
      "20 pieces of data loaded\n"
     ]
    },
    {
     "name": "stderr",
     "output_type": "stream",
     "text": [
      "predicting: 100%|██████████| 3/3 [00:00<00:00,  4.38it/s]\n"
     ]
    },
    {
     "name": "stdout",
     "output_type": "stream",
     "text": [
      "Labeling completed!\n"
     ]
    }
   ],
   "source": [
    "# Classify with a fine‑tuned model\n",
    "D1c_CLIP_finetuned = classification_CLIP_finetuned(\n",
    "    mode=\"both\",\n",
    "    text_path=\"Demo_data/D1_2.csv\",\n",
    "    text_column=[\"headline\", \"abstract\"],\n",
    "    img_dir=\"Demo_data/D1_imgs_2\",\n",
    "    model_name=\"Demo_finetuned_CLIP/D1c_CLIP_model_finetuned.pth\",\n",
    "    predict_column=\"D1c_CLIP_finetuned\",\n",
    "    \n",
    ")\n",
    "D1c_CLIP_finetuned.to_csv(\"Demo_result/D1c_CLIP_finetuned.csv\", index=False)"
   ]
  },
  {
   "cell_type": "code",
   "execution_count": 20,
   "id": "c42f0583-919d-4064-91a0-bdaa08109746",
   "metadata": {},
   "outputs": [
    {
     "data": {
      "text/html": [
       "<div>\n",
       "<style scoped>\n",
       "    .dataframe tbody tr th:only-of-type {\n",
       "        vertical-align: middle;\n",
       "    }\n",
       "\n",
       "    .dataframe tbody tr th {\n",
       "        vertical-align: top;\n",
       "    }\n",
       "\n",
       "    .dataframe thead th {\n",
       "        text-align: right;\n",
       "    }\n",
       "</style>\n",
       "<table border=\"1\" class=\"dataframe\">\n",
       "  <thead>\n",
       "    <tr style=\"text-align: right;\">\n",
       "      <th></th>\n",
       "      <th>section</th>\n",
       "      <th>headline</th>\n",
       "      <th>article_url</th>\n",
       "      <th>article</th>\n",
       "      <th>abstract</th>\n",
       "      <th>article_id</th>\n",
       "      <th>image</th>\n",
       "      <th>caption</th>\n",
       "      <th>image_id</th>\n",
       "      <th>image_path</th>\n",
       "      <th>section_numeric</th>\n",
       "      <th>D1c_CLIP_finetuned</th>\n",
       "    </tr>\n",
       "  </thead>\n",
       "  <tbody>\n",
       "    <tr>\n",
       "      <th>0</th>\n",
       "      <td>Technology</td>\n",
       "      <td>The Sun Sets. The Wind Dies. But Energy Data I...</td>\n",
       "      <td>https://www.nytimes.com/2018/09/26/technology/...</td>\n",
       "      <td>How do New York Times journalists use technolo...</td>\n",
       "      <td>Alternative power sources have upended the ele...</td>\n",
       "      <td>5631bfd7-67ff-5fa3-8efd-37d65f3e234e</td>\n",
       "      <td>https://static01.nyt.com/images/2018/09/27/bus...</td>\n",
       "      <td>Ivan Penn, who reports on alternative energy, ...</td>\n",
       "      <td>5631bfd7-67ff-5fa3-8efd-37d65f3e234e</td>\n",
       "      <td>/Demo_data/D1_imgs_2/5631bfd7-67ff-5fa3-8efd-3...</td>\n",
       "      <td>20</td>\n",
       "      <td>2</td>\n",
       "    </tr>\n",
       "    <tr>\n",
       "      <th>1</th>\n",
       "      <td>Automobiles</td>\n",
       "      <td>Monday Motorsports: Ed Carpenter Wins Another ...</td>\n",
       "      <td>https://www.nytimes.com/2014/05/20/automobiles...</td>\n",
       "      <td>Ed Carpenter hasn't run an IndyCar race since ...</td>\n",
       "      <td>Carpenter collected a $100,000 prize for his s...</td>\n",
       "      <td>c55a5863-a87d-5470-8210-055e307b8956</td>\n",
       "      <td>https://static01.nyt.com/images/2014/05/20/aut...</td>\n",
       "      <td>Ed Carpenter won pole position Sunday for the ...</td>\n",
       "      <td>c55a5863-a87d-5470-8210-055e307b8956</td>\n",
       "      <td>/Demo_data/D1_imgs_2/c55a5863-a87d-5470-8210-0...</td>\n",
       "      <td>23</td>\n",
       "      <td>2</td>\n",
       "    </tr>\n",
       "    <tr>\n",
       "      <th>2</th>\n",
       "      <td>Real Estate</td>\n",
       "      <td>Recent Commercial Real Estate Transactions</td>\n",
       "      <td>https://www.nytimes.com/2019/01/15/realestate/...</td>\n",
       "      <td>497 Atlantic Avenue (between Nevins Street and...</td>\n",
       "      <td>Recent commercial real estate transactions in ...</td>\n",
       "      <td>f3f0dc8e-3241-5e5e-a0d9-b9a3bfc7862f</td>\n",
       "      <td>https://static01.nyt.com/images/2019/01/16/rea...</td>\n",
       "      <td>A four-story walk-up is on the market for $2.5...</td>\n",
       "      <td>f3f0dc8e-3241-5e5e-a0d9-b9a3bfc7862f</td>\n",
       "      <td>/Demo_data/D1_imgs_2/f3f0dc8e-3241-5e5e-a0d9-b...</td>\n",
       "      <td>7</td>\n",
       "      <td>12</td>\n",
       "    </tr>\n",
       "    <tr>\n",
       "      <th>3</th>\n",
       "      <td>Television</td>\n",
       "      <td>The Best Movies and TV Shows Coming to Netflix...</td>\n",
       "      <td>https://www.nytimes.com/2019/12/01/arts/televi...</td>\n",
       "      <td>Watching is The New York Times's TV and film r...</td>\n",
       "      <td>Every month, subscription streaming services a...</td>\n",
       "      <td>f0ae30f1-09b9-5334-a32c-04cf793a2aef</td>\n",
       "      <td>https://static01.nyt.com/images/2019/12/01/art...</td>\n",
       "      <td>Clockwise from top left: Scenes from \"Moonligh...</td>\n",
       "      <td>f0ae30f1-09b9-5334-a32c-04cf793a2aef</td>\n",
       "      <td>/Demo_data/D1_imgs_2/f0ae30f1-09b9-5334-a32c-0...</td>\n",
       "      <td>3</td>\n",
       "      <td>2</td>\n",
       "    </tr>\n",
       "    <tr>\n",
       "      <th>4</th>\n",
       "      <td>Theater</td>\n",
       "      <td>Review: In 'Leopoldstadt,' Tom Stoppard Reckon...</td>\n",
       "      <td>https://www.nytimes.com/2020/02/12/theater/leo...</td>\n",
       "      <td>LONDON -- Do you remember? Don't you remember?...</td>\n",
       "      <td>In what he says will probably be his last work...</td>\n",
       "      <td>da8070be-edc1-5d6f-a78c-3962249598cc</td>\n",
       "      <td>https://static01.nyt.com/images/2020/02/12/art...</td>\n",
       "      <td>Adrian Scarborough, left, and Luke Thallon in ...</td>\n",
       "      <td>da8070be-edc1-5d6f-a78c-3962249598cc</td>\n",
       "      <td>/Demo_data/D1_imgs_2/da8070be-edc1-5d6f-a78c-3...</td>\n",
       "      <td>10</td>\n",
       "      <td>2</td>\n",
       "    </tr>\n",
       "    <tr>\n",
       "      <th>5</th>\n",
       "      <td>Food</td>\n",
       "      <td>A Savory, Tender Gnocchi Poised for Success</td>\n",
       "      <td>https://www.nytimes.com/2017/02/03/dining/rico...</td>\n",
       "      <td>Gnocchi, those savory little dumplings, are fr...</td>\n",
       "      <td>Beginner's attempts at potato gnocchi usually ...</td>\n",
       "      <td>c775b7f0-d7a6-5e66-a249-8ea0da026e35</td>\n",
       "      <td>https://static01.nyt.com/images/2017/02/08/din...</td>\n",
       "      <td>Ricotta gnocchi with parsley pesto, topped wit...</td>\n",
       "      <td>c775b7f0-d7a6-5e66-a249-8ea0da026e35</td>\n",
       "      <td>/Demo_data/D1_imgs_2/c775b7f0-d7a6-5e66-a249-8...</td>\n",
       "      <td>17</td>\n",
       "      <td>4</td>\n",
       "    </tr>\n",
       "    <tr>\n",
       "      <th>6</th>\n",
       "      <td>Media</td>\n",
       "      <td>Donald Trump Elicits Shock and Biting Satire i...</td>\n",
       "      <td>https://www.nytimes.com/2016/02/29/business/me...</td>\n",
       "      <td>LONDON -- He has been depicted as a snarling d...</td>\n",
       "      <td>Once dismissive of Mr. Trump's presidential ca...</td>\n",
       "      <td>ed504d2e-939b-5641-b3a8-75175bc7efc3</td>\n",
       "      <td>https://static01.nyt.com/images/2016/02/29/bus...</td>\n",
       "      <td>On a recent issue of Der Spiegel, the headline...</td>\n",
       "      <td>ed504d2e-939b-5641-b3a8-75175bc7efc3</td>\n",
       "      <td>/Demo_data/D1_imgs_2/ed504d2e-939b-5641-b3a8-7...</td>\n",
       "      <td>16</td>\n",
       "      <td>3</td>\n",
       "    </tr>\n",
       "    <tr>\n",
       "      <th>7</th>\n",
       "      <td>Technology</td>\n",
       "      <td>Apple, Google and a Deal That Controls the Int...</td>\n",
       "      <td>https://www.nytimes.com/2020/10/25/technology/...</td>\n",
       "      <td>OAKLAND, Calif. -- When Tim Cook and Sundar Pi...</td>\n",
       "      <td>In a landmark antitrust complaint, the Justice...</td>\n",
       "      <td>da1996b0-46fc-5d47-b06f-8c0be9deaa95</td>\n",
       "      <td>https://static01.nyt.com/images/2020/10/25/bus...</td>\n",
       "      <td>In 2007, Steve Jobs, left, Apple's co-founder,...</td>\n",
       "      <td>da1996b0-46fc-5d47-b06f-8c0be9deaa95</td>\n",
       "      <td>/Demo_data/D1_imgs_2/da1996b0-46fc-5d47-b06f-8...</td>\n",
       "      <td>20</td>\n",
       "      <td>2</td>\n",
       "    </tr>\n",
       "    <tr>\n",
       "      <th>8</th>\n",
       "      <td>Media</td>\n",
       "      <td>Google Buying Apple? Sorry, That Was Just a Test</td>\n",
       "      <td>https://www.nytimes.com/2017/10/10/business/me...</td>\n",
       "      <td>The Dow Jones Newswire headline seemed too far...</td>\n",
       "      <td>A far-fetched headline and short story that we...</td>\n",
       "      <td>383097ce-2c44-59b9-87be-cdbe235de68d</td>\n",
       "      <td>https://static01.nyt.com/images/2017/10/15/bus...</td>\n",
       "      <td>A bogus headline on the Dow Jones Newswire was...</td>\n",
       "      <td>383097ce-2c44-59b9-87be-cdbe235de68d</td>\n",
       "      <td>/Demo_data/D1_imgs_2/383097ce-2c44-59b9-87be-c...</td>\n",
       "      <td>16</td>\n",
       "      <td>2</td>\n",
       "    </tr>\n",
       "    <tr>\n",
       "      <th>9</th>\n",
       "      <td>Food</td>\n",
       "      <td>What to Cook This Week</td>\n",
       "      <td>https://www.nytimes.com/2017/06/25/dining/what...</td>\n",
       "      <td>Sam Sifton emails readers of Cooking five days...</td>\n",
       "      <td>Start with Moroccan lamb, work your way to Som...</td>\n",
       "      <td>f93bec18-3895-5dc9-884f-0366bbbd946e</td>\n",
       "      <td>https://static01.nyt.com/images/2015/06/17/din...</td>\n",
       "      <td>Cucumber yogurt salad with dill, sour cherries...</td>\n",
       "      <td>f93bec18-3895-5dc9-884f-0366bbbd946e</td>\n",
       "      <td>/Demo_data/D1_imgs_2/f93bec18-3895-5dc9-884f-0...</td>\n",
       "      <td>17</td>\n",
       "      <td>23</td>\n",
       "    </tr>\n",
       "    <tr>\n",
       "      <th>10</th>\n",
       "      <td>Science</td>\n",
       "      <td>NASA's Mercury Messenger: What It Learned Befo...</td>\n",
       "      <td>https://www.nytimes.com/2015/05/12/science/spa...</td>\n",
       "      <td>Mercury's magnetic field is nearly four billio...</td>\n",
       "      <td>The spacecraft, which orbited Mercury for four...</td>\n",
       "      <td>2599ad7d-65f6-547b-873e-555c7527fe03</td>\n",
       "      <td>https://static01.nyt.com/images/2015/05/12/sci...</td>\n",
       "      <td>NASA's Messenger spacecraft found useful infor...</td>\n",
       "      <td>2599ad7d-65f6-547b-873e-555c7527fe03</td>\n",
       "      <td>/Demo_data/D1_imgs_2/2599ad7d-65f6-547b-873e-5...</td>\n",
       "      <td>2</td>\n",
       "      <td>4</td>\n",
       "    </tr>\n",
       "    <tr>\n",
       "      <th>11</th>\n",
       "      <td>Automobiles</td>\n",
       "      <td>A Truck Tailgate Party: Fire Up the Grilles</td>\n",
       "      <td>https://www.nytimes.com/2013/05/19/automobiles...</td>\n",
       "      <td>The look of its pickup trucks is so important ...</td>\n",
       "      <td>With trucks locked in ever-fiercer sales battl...</td>\n",
       "      <td>dd12af87-4c86-5db5-a1f4-b3a8c48c623a</td>\n",
       "      <td>https://static01.nyt.com/images/2013/05/19/aut...</td>\n",
       "      <td>BLUNT FORCE DRAMA The 2014 Chevrolet Silverado...</td>\n",
       "      <td>dd12af87-4c86-5db5-a1f4-b3a8c48c623a</td>\n",
       "      <td>/Demo_data/D1_imgs_2/dd12af87-4c86-5db5-a1f4-b...</td>\n",
       "      <td>23</td>\n",
       "      <td>4</td>\n",
       "    </tr>\n",
       "    <tr>\n",
       "      <th>12</th>\n",
       "      <td>Books</td>\n",
       "      <td>Are Ben Marcus's Dark and Disturbing New Stori...</td>\n",
       "      <td>https://www.nytimes.com/2018/08/31/books/revie...</td>\n",
       "      <td>'s new collection of stories takes a dark view...</td>\n",
       "      <td>\"Notes From the Fog\" features the author's tra...</td>\n",
       "      <td>e516201b-a702-5a08-96fa-8ae6e1feeafb</td>\n",
       "      <td>https://static01.nyt.com/images/2018/09/02/boo...</td>\n",
       "      <td>Ben Marcus</td>\n",
       "      <td>e516201b-a702-5a08-96fa-8ae6e1feeafb</td>\n",
       "      <td>/Demo_data/D1_imgs_2/e516201b-a702-5a08-96fa-8...</td>\n",
       "      <td>13</td>\n",
       "      <td>4</td>\n",
       "    </tr>\n",
       "    <tr>\n",
       "      <th>13</th>\n",
       "      <td>Books</td>\n",
       "      <td>For Lawrence Ferlinghetti, Nearly 100, the Bea...</td>\n",
       "      <td>https://www.nytimes.com/2018/02/13/books/revie...</td>\n",
       "      <td>Yeah, O.K. -- but what about his writing? The ...</td>\n",
       "      <td>A retrospective collection from the poet and p...</td>\n",
       "      <td>2dfd7573-6629-523b-8c0c-7d0b532a17f0</td>\n",
       "      <td>https://static01.nyt.com/images/2018/02/18/boo...</td>\n",
       "      <td>Lawrence Ferlinghetti, left, at a poetry reading.</td>\n",
       "      <td>2dfd7573-6629-523b-8c0c-7d0b532a17f0</td>\n",
       "      <td>/Demo_data/D1_imgs_2/2dfd7573-6629-523b-8c0c-7...</td>\n",
       "      <td>13</td>\n",
       "      <td>2</td>\n",
       "    </tr>\n",
       "    <tr>\n",
       "      <th>14</th>\n",
       "      <td>Your Money</td>\n",
       "      <td>Are Markets Efficient? Even the Supreme Court ...</td>\n",
       "      <td>https://www.nytimes.com/2014/06/29/your-money/...</td>\n",
       "      <td>A fierce debate about an academic theory loome...</td>\n",
       "      <td>In a case that delved into a much-debated acad...</td>\n",
       "      <td>2811c86a-31be-5200-b3c9-3d40f8421369</td>\n",
       "      <td>https://static01.nyt.com/images/2014/06/29/bus...</td>\n",
       "      <td>The court's order was brief, provisional and u...</td>\n",
       "      <td>2811c86a-31be-5200-b3c9-3d40f8421369</td>\n",
       "      <td>/Demo_data/D1_imgs_2/2811c86a-31be-5200-b3c9-3...</td>\n",
       "      <td>21</td>\n",
       "      <td>4</td>\n",
       "    </tr>\n",
       "    <tr>\n",
       "      <th>15</th>\n",
       "      <td>Art &amp; Design</td>\n",
       "      <td>Amos Rex Museum Is Helsinki's New Homegrown Star</td>\n",
       "      <td>https://www.nytimes.com/2018/09/05/arts/design...</td>\n",
       "      <td>HELSINKI, Finland -- The novelist Meg Wolitzer...</td>\n",
       "      <td>A new contemporary art museum vindicates the F...</td>\n",
       "      <td>5150d5c3-2c60-5ba4-b6f9-eb061cc8ac6d</td>\n",
       "      <td>https://static01.nyt.com/images/2018/09/08/art...</td>\n",
       "      <td>Visitors outside Amos Rex, an underground muse...</td>\n",
       "      <td>5150d5c3-2c60-5ba4-b6f9-eb061cc8ac6d</td>\n",
       "      <td>/Demo_data/D1_imgs_2/5150d5c3-2c60-5ba4-b6f9-e...</td>\n",
       "      <td>14</td>\n",
       "      <td>2</td>\n",
       "    </tr>\n",
       "    <tr>\n",
       "      <th>16</th>\n",
       "      <td>Theater</td>\n",
       "      <td>Stars Bring a Broadway Tune Back to Times Squa...</td>\n",
       "      <td>https://www.nytimes.com/2020/10/07/theater/sur...</td>\n",
       "      <td>Broadway performers sing their hearts out unde...</td>\n",
       "      <td>Two dozen shielded performers, including Berna...</td>\n",
       "      <td>b596449a-9044-50f1-8de2-178bfed563ad</td>\n",
       "      <td>https://static01.nyt.com/images/2020/10/07/art...</td>\n",
       "      <td>Bernadette Peters attends Broadway Next Event ...</td>\n",
       "      <td>b596449a-9044-50f1-8de2-178bfed563ad</td>\n",
       "      <td>/Demo_data/D1_imgs_2/b596449a-9044-50f1-8de2-1...</td>\n",
       "      <td>10</td>\n",
       "      <td>6</td>\n",
       "    </tr>\n",
       "    <tr>\n",
       "      <th>17</th>\n",
       "      <td>Fashion &amp; Style</td>\n",
       "      <td>Movie Star Dane DeHaan: He Broods. He Pouts. H...</td>\n",
       "      <td>https://www.nytimes.com/2017/01/13/fashion/men...</td>\n",
       "      <td>Credit...Ryan Pfluger for The New York Times; ...</td>\n",
       "      <td>After years of supporting work and high-profil...</td>\n",
       "      <td>7b321a2f-658c-5406-b4a3-0af1eaff9e44</td>\n",
       "      <td>https://static01.nyt.com/images/2017/01/13/fas...</td>\n",
       "      <td>Dane DeHaan has become Hollywood's go-to avata...</td>\n",
       "      <td>7b321a2f-658c-5406-b4a3-0af1eaff9e44</td>\n",
       "      <td>/Demo_data/D1_imgs_2/7b321a2f-658c-5406-b4a3-0...</td>\n",
       "      <td>19</td>\n",
       "      <td>16</td>\n",
       "    </tr>\n",
       "    <tr>\n",
       "      <th>18</th>\n",
       "      <td>Media</td>\n",
       "      <td>Young Sheldon, Meet SpongeBob: CBS and Viacom ...</td>\n",
       "      <td>https://www.nytimes.com/2019/12/04/business/me...</td>\n",
       "      <td>After more than a decade apart, CBS and Viacom...</td>\n",
       "      <td>Shari Redstone gets her wish, bringing about t...</td>\n",
       "      <td>6718bea7-eca1-57dc-965b-50ae7cb8b84a</td>\n",
       "      <td>https://static01.nyt.com/images/2019/12/04/bus...</td>\n",
       "      <td>After years of talks, CBS and Viacom are reuni...</td>\n",
       "      <td>6718bea7-eca1-57dc-965b-50ae7cb8b84a</td>\n",
       "      <td>/Demo_data/D1_imgs_2/6718bea7-eca1-57dc-965b-5...</td>\n",
       "      <td>16</td>\n",
       "      <td>2</td>\n",
       "    </tr>\n",
       "    <tr>\n",
       "      <th>19</th>\n",
       "      <td>Sports</td>\n",
       "      <td>Relocated From a Park to a Football Stadium, t...</td>\n",
       "      <td>https://www.nytimes.com/2019/03/18/sports/tenn...</td>\n",
       "      <td>MIAMI GARDENS, Fla. -- Stephen M. Ross swears ...</td>\n",
       "      <td>The moved and improved Miami Open, a top men's...</td>\n",
       "      <td>79b6234a-2638-5d95-974b-0ab5321833df</td>\n",
       "      <td>https://static01.nyt.com/images/2019/03/18/spo...</td>\n",
       "      <td>The Miami Open, which begins this week, has mo...</td>\n",
       "      <td>79b6234a-2638-5d95-974b-0ab5321833df</td>\n",
       "      <td>/Demo_data/D1_imgs_2/79b6234a-2638-5d95-974b-0...</td>\n",
       "      <td>9</td>\n",
       "      <td>5</td>\n",
       "    </tr>\n",
       "  </tbody>\n",
       "</table>\n",
       "</div>"
      ],
      "text/plain": [
       "            section                                           headline  \\\n",
       "0        Technology  The Sun Sets. The Wind Dies. But Energy Data I...   \n",
       "1       Automobiles  Monday Motorsports: Ed Carpenter Wins Another ...   \n",
       "2       Real Estate         Recent Commercial Real Estate Transactions   \n",
       "3        Television  The Best Movies and TV Shows Coming to Netflix...   \n",
       "4           Theater  Review: In 'Leopoldstadt,' Tom Stoppard Reckon...   \n",
       "5              Food        A Savory, Tender Gnocchi Poised for Success   \n",
       "6             Media  Donald Trump Elicits Shock and Biting Satire i...   \n",
       "7        Technology  Apple, Google and a Deal That Controls the Int...   \n",
       "8             Media   Google Buying Apple? Sorry, That Was Just a Test   \n",
       "9              Food                             What to Cook This Week   \n",
       "10          Science  NASA's Mercury Messenger: What It Learned Befo...   \n",
       "11      Automobiles        A Truck Tailgate Party: Fire Up the Grilles   \n",
       "12            Books  Are Ben Marcus's Dark and Disturbing New Stori...   \n",
       "13            Books  For Lawrence Ferlinghetti, Nearly 100, the Bea...   \n",
       "14       Your Money  Are Markets Efficient? Even the Supreme Court ...   \n",
       "15     Art & Design   Amos Rex Museum Is Helsinki's New Homegrown Star   \n",
       "16          Theater  Stars Bring a Broadway Tune Back to Times Squa...   \n",
       "17  Fashion & Style  Movie Star Dane DeHaan: He Broods. He Pouts. H...   \n",
       "18            Media  Young Sheldon, Meet SpongeBob: CBS and Viacom ...   \n",
       "19           Sports  Relocated From a Park to a Football Stadium, t...   \n",
       "\n",
       "                                          article_url  \\\n",
       "0   https://www.nytimes.com/2018/09/26/technology/...   \n",
       "1   https://www.nytimes.com/2014/05/20/automobiles...   \n",
       "2   https://www.nytimes.com/2019/01/15/realestate/...   \n",
       "3   https://www.nytimes.com/2019/12/01/arts/televi...   \n",
       "4   https://www.nytimes.com/2020/02/12/theater/leo...   \n",
       "5   https://www.nytimes.com/2017/02/03/dining/rico...   \n",
       "6   https://www.nytimes.com/2016/02/29/business/me...   \n",
       "7   https://www.nytimes.com/2020/10/25/technology/...   \n",
       "8   https://www.nytimes.com/2017/10/10/business/me...   \n",
       "9   https://www.nytimes.com/2017/06/25/dining/what...   \n",
       "10  https://www.nytimes.com/2015/05/12/science/spa...   \n",
       "11  https://www.nytimes.com/2013/05/19/automobiles...   \n",
       "12  https://www.nytimes.com/2018/08/31/books/revie...   \n",
       "13  https://www.nytimes.com/2018/02/13/books/revie...   \n",
       "14  https://www.nytimes.com/2014/06/29/your-money/...   \n",
       "15  https://www.nytimes.com/2018/09/05/arts/design...   \n",
       "16  https://www.nytimes.com/2020/10/07/theater/sur...   \n",
       "17  https://www.nytimes.com/2017/01/13/fashion/men...   \n",
       "18  https://www.nytimes.com/2019/12/04/business/me...   \n",
       "19  https://www.nytimes.com/2019/03/18/sports/tenn...   \n",
       "\n",
       "                                              article  \\\n",
       "0   How do New York Times journalists use technolo...   \n",
       "1   Ed Carpenter hasn't run an IndyCar race since ...   \n",
       "2   497 Atlantic Avenue (between Nevins Street and...   \n",
       "3   Watching is The New York Times's TV and film r...   \n",
       "4   LONDON -- Do you remember? Don't you remember?...   \n",
       "5   Gnocchi, those savory little dumplings, are fr...   \n",
       "6   LONDON -- He has been depicted as a snarling d...   \n",
       "7   OAKLAND, Calif. -- When Tim Cook and Sundar Pi...   \n",
       "8   The Dow Jones Newswire headline seemed too far...   \n",
       "9   Sam Sifton emails readers of Cooking five days...   \n",
       "10  Mercury's magnetic field is nearly four billio...   \n",
       "11  The look of its pickup trucks is so important ...   \n",
       "12  's new collection of stories takes a dark view...   \n",
       "13  Yeah, O.K. -- but what about his writing? The ...   \n",
       "14  A fierce debate about an academic theory loome...   \n",
       "15  HELSINKI, Finland -- The novelist Meg Wolitzer...   \n",
       "16  Broadway performers sing their hearts out unde...   \n",
       "17  Credit...Ryan Pfluger for The New York Times; ...   \n",
       "18  After more than a decade apart, CBS and Viacom...   \n",
       "19  MIAMI GARDENS, Fla. -- Stephen M. Ross swears ...   \n",
       "\n",
       "                                             abstract  \\\n",
       "0   Alternative power sources have upended the ele...   \n",
       "1   Carpenter collected a $100,000 prize for his s...   \n",
       "2   Recent commercial real estate transactions in ...   \n",
       "3   Every month, subscription streaming services a...   \n",
       "4   In what he says will probably be his last work...   \n",
       "5   Beginner's attempts at potato gnocchi usually ...   \n",
       "6   Once dismissive of Mr. Trump's presidential ca...   \n",
       "7   In a landmark antitrust complaint, the Justice...   \n",
       "8   A far-fetched headline and short story that we...   \n",
       "9   Start with Moroccan lamb, work your way to Som...   \n",
       "10  The spacecraft, which orbited Mercury for four...   \n",
       "11  With trucks locked in ever-fiercer sales battl...   \n",
       "12  \"Notes From the Fog\" features the author's tra...   \n",
       "13  A retrospective collection from the poet and p...   \n",
       "14  In a case that delved into a much-debated acad...   \n",
       "15  A new contemporary art museum vindicates the F...   \n",
       "16  Two dozen shielded performers, including Berna...   \n",
       "17  After years of supporting work and high-profil...   \n",
       "18  Shari Redstone gets her wish, bringing about t...   \n",
       "19  The moved and improved Miami Open, a top men's...   \n",
       "\n",
       "                              article_id  \\\n",
       "0   5631bfd7-67ff-5fa3-8efd-37d65f3e234e   \n",
       "1   c55a5863-a87d-5470-8210-055e307b8956   \n",
       "2   f3f0dc8e-3241-5e5e-a0d9-b9a3bfc7862f   \n",
       "3   f0ae30f1-09b9-5334-a32c-04cf793a2aef   \n",
       "4   da8070be-edc1-5d6f-a78c-3962249598cc   \n",
       "5   c775b7f0-d7a6-5e66-a249-8ea0da026e35   \n",
       "6   ed504d2e-939b-5641-b3a8-75175bc7efc3   \n",
       "7   da1996b0-46fc-5d47-b06f-8c0be9deaa95   \n",
       "8   383097ce-2c44-59b9-87be-cdbe235de68d   \n",
       "9   f93bec18-3895-5dc9-884f-0366bbbd946e   \n",
       "10  2599ad7d-65f6-547b-873e-555c7527fe03   \n",
       "11  dd12af87-4c86-5db5-a1f4-b3a8c48c623a   \n",
       "12  e516201b-a702-5a08-96fa-8ae6e1feeafb   \n",
       "13  2dfd7573-6629-523b-8c0c-7d0b532a17f0   \n",
       "14  2811c86a-31be-5200-b3c9-3d40f8421369   \n",
       "15  5150d5c3-2c60-5ba4-b6f9-eb061cc8ac6d   \n",
       "16  b596449a-9044-50f1-8de2-178bfed563ad   \n",
       "17  7b321a2f-658c-5406-b4a3-0af1eaff9e44   \n",
       "18  6718bea7-eca1-57dc-965b-50ae7cb8b84a   \n",
       "19  79b6234a-2638-5d95-974b-0ab5321833df   \n",
       "\n",
       "                                                image  \\\n",
       "0   https://static01.nyt.com/images/2018/09/27/bus...   \n",
       "1   https://static01.nyt.com/images/2014/05/20/aut...   \n",
       "2   https://static01.nyt.com/images/2019/01/16/rea...   \n",
       "3   https://static01.nyt.com/images/2019/12/01/art...   \n",
       "4   https://static01.nyt.com/images/2020/02/12/art...   \n",
       "5   https://static01.nyt.com/images/2017/02/08/din...   \n",
       "6   https://static01.nyt.com/images/2016/02/29/bus...   \n",
       "7   https://static01.nyt.com/images/2020/10/25/bus...   \n",
       "8   https://static01.nyt.com/images/2017/10/15/bus...   \n",
       "9   https://static01.nyt.com/images/2015/06/17/din...   \n",
       "10  https://static01.nyt.com/images/2015/05/12/sci...   \n",
       "11  https://static01.nyt.com/images/2013/05/19/aut...   \n",
       "12  https://static01.nyt.com/images/2018/09/02/boo...   \n",
       "13  https://static01.nyt.com/images/2018/02/18/boo...   \n",
       "14  https://static01.nyt.com/images/2014/06/29/bus...   \n",
       "15  https://static01.nyt.com/images/2018/09/08/art...   \n",
       "16  https://static01.nyt.com/images/2020/10/07/art...   \n",
       "17  https://static01.nyt.com/images/2017/01/13/fas...   \n",
       "18  https://static01.nyt.com/images/2019/12/04/bus...   \n",
       "19  https://static01.nyt.com/images/2019/03/18/spo...   \n",
       "\n",
       "                                              caption  \\\n",
       "0   Ivan Penn, who reports on alternative energy, ...   \n",
       "1   Ed Carpenter won pole position Sunday for the ...   \n",
       "2   A four-story walk-up is on the market for $2.5...   \n",
       "3   Clockwise from top left: Scenes from \"Moonligh...   \n",
       "4   Adrian Scarborough, left, and Luke Thallon in ...   \n",
       "5   Ricotta gnocchi with parsley pesto, topped wit...   \n",
       "6   On a recent issue of Der Spiegel, the headline...   \n",
       "7   In 2007, Steve Jobs, left, Apple's co-founder,...   \n",
       "8   A bogus headline on the Dow Jones Newswire was...   \n",
       "9   Cucumber yogurt salad with dill, sour cherries...   \n",
       "10  NASA's Messenger spacecraft found useful infor...   \n",
       "11  BLUNT FORCE DRAMA The 2014 Chevrolet Silverado...   \n",
       "12                                         Ben Marcus   \n",
       "13  Lawrence Ferlinghetti, left, at a poetry reading.   \n",
       "14  The court's order was brief, provisional and u...   \n",
       "15  Visitors outside Amos Rex, an underground muse...   \n",
       "16  Bernadette Peters attends Broadway Next Event ...   \n",
       "17  Dane DeHaan has become Hollywood's go-to avata...   \n",
       "18  After years of talks, CBS and Viacom are reuni...   \n",
       "19  The Miami Open, which begins this week, has mo...   \n",
       "\n",
       "                                image_id  \\\n",
       "0   5631bfd7-67ff-5fa3-8efd-37d65f3e234e   \n",
       "1   c55a5863-a87d-5470-8210-055e307b8956   \n",
       "2   f3f0dc8e-3241-5e5e-a0d9-b9a3bfc7862f   \n",
       "3   f0ae30f1-09b9-5334-a32c-04cf793a2aef   \n",
       "4   da8070be-edc1-5d6f-a78c-3962249598cc   \n",
       "5   c775b7f0-d7a6-5e66-a249-8ea0da026e35   \n",
       "6   ed504d2e-939b-5641-b3a8-75175bc7efc3   \n",
       "7   da1996b0-46fc-5d47-b06f-8c0be9deaa95   \n",
       "8   383097ce-2c44-59b9-87be-cdbe235de68d   \n",
       "9   f93bec18-3895-5dc9-884f-0366bbbd946e   \n",
       "10  2599ad7d-65f6-547b-873e-555c7527fe03   \n",
       "11  dd12af87-4c86-5db5-a1f4-b3a8c48c623a   \n",
       "12  e516201b-a702-5a08-96fa-8ae6e1feeafb   \n",
       "13  2dfd7573-6629-523b-8c0c-7d0b532a17f0   \n",
       "14  2811c86a-31be-5200-b3c9-3d40f8421369   \n",
       "15  5150d5c3-2c60-5ba4-b6f9-eb061cc8ac6d   \n",
       "16  b596449a-9044-50f1-8de2-178bfed563ad   \n",
       "17  7b321a2f-658c-5406-b4a3-0af1eaff9e44   \n",
       "18  6718bea7-eca1-57dc-965b-50ae7cb8b84a   \n",
       "19  79b6234a-2638-5d95-974b-0ab5321833df   \n",
       "\n",
       "                                           image_path  section_numeric  \\\n",
       "0   /Demo_data/D1_imgs_2/5631bfd7-67ff-5fa3-8efd-3...               20   \n",
       "1   /Demo_data/D1_imgs_2/c55a5863-a87d-5470-8210-0...               23   \n",
       "2   /Demo_data/D1_imgs_2/f3f0dc8e-3241-5e5e-a0d9-b...                7   \n",
       "3   /Demo_data/D1_imgs_2/f0ae30f1-09b9-5334-a32c-0...                3   \n",
       "4   /Demo_data/D1_imgs_2/da8070be-edc1-5d6f-a78c-3...               10   \n",
       "5   /Demo_data/D1_imgs_2/c775b7f0-d7a6-5e66-a249-8...               17   \n",
       "6   /Demo_data/D1_imgs_2/ed504d2e-939b-5641-b3a8-7...               16   \n",
       "7   /Demo_data/D1_imgs_2/da1996b0-46fc-5d47-b06f-8...               20   \n",
       "8   /Demo_data/D1_imgs_2/383097ce-2c44-59b9-87be-c...               16   \n",
       "9   /Demo_data/D1_imgs_2/f93bec18-3895-5dc9-884f-0...               17   \n",
       "10  /Demo_data/D1_imgs_2/2599ad7d-65f6-547b-873e-5...                2   \n",
       "11  /Demo_data/D1_imgs_2/dd12af87-4c86-5db5-a1f4-b...               23   \n",
       "12  /Demo_data/D1_imgs_2/e516201b-a702-5a08-96fa-8...               13   \n",
       "13  /Demo_data/D1_imgs_2/2dfd7573-6629-523b-8c0c-7...               13   \n",
       "14  /Demo_data/D1_imgs_2/2811c86a-31be-5200-b3c9-3...               21   \n",
       "15  /Demo_data/D1_imgs_2/5150d5c3-2c60-5ba4-b6f9-e...               14   \n",
       "16  /Demo_data/D1_imgs_2/b596449a-9044-50f1-8de2-1...               10   \n",
       "17  /Demo_data/D1_imgs_2/7b321a2f-658c-5406-b4a3-0...               19   \n",
       "18  /Demo_data/D1_imgs_2/6718bea7-eca1-57dc-965b-5...               16   \n",
       "19  /Demo_data/D1_imgs_2/79b6234a-2638-5d95-974b-0...                9   \n",
       "\n",
       "    D1c_CLIP_finetuned  \n",
       "0                    2  \n",
       "1                    2  \n",
       "2                   12  \n",
       "3                    2  \n",
       "4                    2  \n",
       "5                    4  \n",
       "6                    3  \n",
       "7                    2  \n",
       "8                    2  \n",
       "9                   23  \n",
       "10                   4  \n",
       "11                   4  \n",
       "12                   4  \n",
       "13                   2  \n",
       "14                   4  \n",
       "15                   2  \n",
       "16                   6  \n",
       "17                  16  \n",
       "18                   2  \n",
       "19                   5  "
      ]
     },
     "execution_count": 20,
     "metadata": {},
     "output_type": "execute_result"
    }
   ],
   "source": [
    "D1c_CLIP_finetuned"
   ]
  },
  {
   "cell_type": "code",
   "execution_count": 21,
   "id": "ultimate-reunion",
   "metadata": {},
   "outputs": [
    {
     "name": "stdout",
     "output_type": "stream",
     "text": [
      "\n",
      "== Verification of 'D1c_CLIP_finetuned' vs. 'section_numeric' ==\n",
      "Accuracy:   0.00%\n",
      "Macro F1:   0.00%\n",
      "Micro  F1:  0.00%\n",
      "\n",
      "Full classification report:\n",
      "              precision    recall  f1-score   support\n",
      "\n",
      "           2       0.00      0.00      0.00       1.0\n",
      "           3       0.00      0.00      0.00       1.0\n",
      "           4       0.00      0.00      0.00       0.0\n",
      "           5       0.00      0.00      0.00       0.0\n",
      "           6       0.00      0.00      0.00       0.0\n",
      "           7       0.00      0.00      0.00       1.0\n",
      "           9       0.00      0.00      0.00       1.0\n",
      "          10       0.00      0.00      0.00       2.0\n",
      "          12       0.00      0.00      0.00       0.0\n",
      "          13       0.00      0.00      0.00       2.0\n",
      "          14       0.00      0.00      0.00       1.0\n",
      "          16       0.00      0.00      0.00       3.0\n",
      "          17       0.00      0.00      0.00       2.0\n",
      "          19       0.00      0.00      0.00       1.0\n",
      "          20       0.00      0.00      0.00       2.0\n",
      "          21       0.00      0.00      0.00       1.0\n",
      "          23       0.00      0.00      0.00       2.0\n",
      "\n",
      "    accuracy                           0.00      20.0\n",
      "   macro avg       0.00      0.00      0.00      20.0\n",
      "weighted avg       0.00      0.00      0.00      20.0\n",
      "\n",
      "\n",
      "Confusion matrix:\n",
      "[[0 0 1 0 0 0 0 0 0 0 0 0 0 0 0 0 0]\n",
      " [1 0 0 0 0 0 0 0 0 0 0 0 0 0 0 0 0]\n",
      " [0 0 0 0 0 0 0 0 0 0 0 0 0 0 0 0 0]\n",
      " [0 0 0 0 0 0 0 0 0 0 0 0 0 0 0 0 0]\n",
      " [0 0 0 0 0 0 0 0 0 0 0 0 0 0 0 0 0]\n",
      " [0 0 0 0 0 0 0 0 1 0 0 0 0 0 0 0 0]\n",
      " [0 0 0 1 0 0 0 0 0 0 0 0 0 0 0 0 0]\n",
      " [1 0 0 0 1 0 0 0 0 0 0 0 0 0 0 0 0]\n",
      " [0 0 0 0 0 0 0 0 0 0 0 0 0 0 0 0 0]\n",
      " [1 0 1 0 0 0 0 0 0 0 0 0 0 0 0 0 0]\n",
      " [1 0 0 0 0 0 0 0 0 0 0 0 0 0 0 0 0]\n",
      " [2 1 0 0 0 0 0 0 0 0 0 0 0 0 0 0 0]\n",
      " [0 0 1 0 0 0 0 0 0 0 0 0 0 0 0 0 1]\n",
      " [0 0 0 0 0 0 0 0 0 0 0 1 0 0 0 0 0]\n",
      " [2 0 0 0 0 0 0 0 0 0 0 0 0 0 0 0 0]\n",
      " [0 0 1 0 0 0 0 0 0 0 0 0 0 0 0 0 0]\n",
      " [1 0 1 0 0 0 0 0 0 0 0 0 0 0 0 0 0]]\n",
      "\n",
      ">> Overall accuracy: 0.00%\n"
     ]
    }
   ],
   "source": [
    "## Check the accuracy: CLIP after finetune\n",
    "auto_verification(\n",
    "    D1c_CLIP_finetuned,\n",
    "    predicted_cols=\"D1c_CLIP_finetuned\",\n",
    "    true_cols=\"section_numeric\",\n",
    "    category=category_D1_CLIP\n",
    ")"
   ]
  }
 ],
 "metadata": {
  "colab": {
   "provenance": []
  },
  "kernelspec": {
   "display_name": "Python 3 (ipykernel)",
   "language": "python",
   "name": "python3"
  },
  "language_info": {
   "codemirror_mode": {
    "name": "ipython",
    "version": 3
   },
   "file_extension": ".py",
   "mimetype": "text/x-python",
   "name": "python",
   "nbconvert_exporter": "python",
   "pygments_lexer": "ipython3",
   "version": "3.11.8"
  }
 },
 "nbformat": 4,
 "nbformat_minor": 5
}
