{
 "cells": [
  {
   "cell_type": "markdown",
   "metadata": {},
   "source": [
    "- Go to: https://perspectiveapi.com/\n",
    "- Click “Get Started” and follow steps to get an API key.\n",
    "- Paste it into your script.\n",
    "\n",
    "Below, we first install required packages:"
   ]
  },
  {
   "cell_type": "code",
   "execution_count": 1,
   "metadata": {},
   "outputs": [
    {
     "name": "stdout",
     "output_type": "stream",
     "text": [
      "Requirement already satisfied: google-api-python-client in /Users/alvinzhou/anaconda3/lib/python3.11/site-packages (2.170.0)\n",
      "Requirement already satisfied: pandas in /Users/alvinzhou/anaconda3/lib/python3.11/site-packages (2.0.3)\n",
      "Requirement already satisfied: tqdm in /Users/alvinzhou/anaconda3/lib/python3.11/site-packages (4.65.0)\n",
      "Requirement already satisfied: httplib2<1.0.0,>=0.19.0 in /Users/alvinzhou/anaconda3/lib/python3.11/site-packages (from google-api-python-client) (0.22.0)\n",
      "Requirement already satisfied: google-auth!=2.24.0,!=2.25.0,<3.0.0,>=1.32.0 in /Users/alvinzhou/anaconda3/lib/python3.11/site-packages (from google-api-python-client) (2.40.2)\n",
      "Requirement already satisfied: google-auth-httplib2<1.0.0,>=0.2.0 in /Users/alvinzhou/anaconda3/lib/python3.11/site-packages (from google-api-python-client) (0.2.0)\n",
      "Requirement already satisfied: google-api-core!=2.0.*,!=2.1.*,!=2.2.*,!=2.3.0,<3.0.0,>=1.31.5 in /Users/alvinzhou/anaconda3/lib/python3.11/site-packages (from google-api-python-client) (2.24.2)\n",
      "Requirement already satisfied: uritemplate<5,>=3.0.1 in /Users/alvinzhou/anaconda3/lib/python3.11/site-packages (from google-api-python-client) (4.1.1)\n",
      "Requirement already satisfied: python-dateutil>=2.8.2 in /Users/alvinzhou/anaconda3/lib/python3.11/site-packages (from pandas) (2.8.2)\n",
      "Requirement already satisfied: pytz>=2020.1 in /Users/alvinzhou/anaconda3/lib/python3.11/site-packages (from pandas) (2023.3.post1)\n",
      "Requirement already satisfied: tzdata>=2022.1 in /Users/alvinzhou/anaconda3/lib/python3.11/site-packages (from pandas) (2023.3)\n",
      "Requirement already satisfied: numpy>=1.21.0 in /Users/alvinzhou/anaconda3/lib/python3.11/site-packages (from pandas) (1.24.3)\n",
      "Requirement already satisfied: googleapis-common-protos<2.0.0,>=1.56.2 in /Users/alvinzhou/anaconda3/lib/python3.11/site-packages (from google-api-core!=2.0.*,!=2.1.*,!=2.2.*,!=2.3.0,<3.0.0,>=1.31.5->google-api-python-client) (1.70.0)\n",
      "Requirement already satisfied: protobuf!=3.20.0,!=3.20.1,!=4.21.0,!=4.21.1,!=4.21.2,!=4.21.3,!=4.21.4,!=4.21.5,<7.0.0,>=3.19.5 in /Users/alvinzhou/anaconda3/lib/python3.11/site-packages (from google-api-core!=2.0.*,!=2.1.*,!=2.2.*,!=2.3.0,<3.0.0,>=1.31.5->google-api-python-client) (6.31.1)\n",
      "Requirement already satisfied: proto-plus<2.0.0,>=1.22.3 in /Users/alvinzhou/anaconda3/lib/python3.11/site-packages (from google-api-core!=2.0.*,!=2.1.*,!=2.2.*,!=2.3.0,<3.0.0,>=1.31.5->google-api-python-client) (1.26.1)\n",
      "Requirement already satisfied: requests<3.0.0,>=2.18.0 in /Users/alvinzhou/anaconda3/lib/python3.11/site-packages (from google-api-core!=2.0.*,!=2.1.*,!=2.2.*,!=2.3.0,<3.0.0,>=1.31.5->google-api-python-client) (2.32.3)\n",
      "Requirement already satisfied: cachetools<6.0,>=2.0.0 in /Users/alvinzhou/anaconda3/lib/python3.11/site-packages (from google-auth!=2.24.0,!=2.25.0,<3.0.0,>=1.32.0->google-api-python-client) (5.5.2)\n",
      "Requirement already satisfied: pyasn1-modules>=0.2.1 in /Users/alvinzhou/anaconda3/lib/python3.11/site-packages (from google-auth!=2.24.0,!=2.25.0,<3.0.0,>=1.32.0->google-api-python-client) (0.2.8)\n",
      "Requirement already satisfied: rsa<5,>=3.1.4 in /Users/alvinzhou/anaconda3/lib/python3.11/site-packages (from google-auth!=2.24.0,!=2.25.0,<3.0.0,>=1.32.0->google-api-python-client) (4.9.1)\n",
      "Requirement already satisfied: pyparsing!=3.0.0,!=3.0.1,!=3.0.2,!=3.0.3,<4,>=2.4.2 in /Users/alvinzhou/anaconda3/lib/python3.11/site-packages (from httplib2<1.0.0,>=0.19.0->google-api-python-client) (3.0.9)\n",
      "Requirement already satisfied: six>=1.5 in /Users/alvinzhou/anaconda3/lib/python3.11/site-packages (from python-dateutil>=2.8.2->pandas) (1.16.0)\n",
      "Requirement already satisfied: pyasn1<0.5.0,>=0.4.6 in /Users/alvinzhou/anaconda3/lib/python3.11/site-packages (from pyasn1-modules>=0.2.1->google-auth!=2.24.0,!=2.25.0,<3.0.0,>=1.32.0->google-api-python-client) (0.4.8)\n",
      "Requirement already satisfied: charset-normalizer<4,>=2 in /Users/alvinzhou/anaconda3/lib/python3.11/site-packages (from requests<3.0.0,>=2.18.0->google-api-core!=2.0.*,!=2.1.*,!=2.2.*,!=2.3.0,<3.0.0,>=1.31.5->google-api-python-client) (2.0.4)\n",
      "Requirement already satisfied: idna<4,>=2.5 in /Users/alvinzhou/anaconda3/lib/python3.11/site-packages (from requests<3.0.0,>=2.18.0->google-api-core!=2.0.*,!=2.1.*,!=2.2.*,!=2.3.0,<3.0.0,>=1.31.5->google-api-python-client) (3.4)\n",
      "Requirement already satisfied: urllib3<3,>=1.21.1 in /Users/alvinzhou/anaconda3/lib/python3.11/site-packages (from requests<3.0.0,>=2.18.0->google-api-core!=2.0.*,!=2.1.*,!=2.2.*,!=2.3.0,<3.0.0,>=1.31.5->google-api-python-client) (1.26.16)\n",
      "Requirement already satisfied: certifi>=2017.4.17 in /Users/alvinzhou/anaconda3/lib/python3.11/site-packages (from requests<3.0.0,>=2.18.0->google-api-core!=2.0.*,!=2.1.*,!=2.2.*,!=2.3.0,<3.0.0,>=1.31.5->google-api-python-client) (2025.4.26)\n",
      "\n",
      "\u001b[1m[\u001b[0m\u001b[34;49mnotice\u001b[0m\u001b[1;39;49m]\u001b[0m\u001b[39;49m A new release of pip is available: \u001b[0m\u001b[31;49m25.0.1\u001b[0m\u001b[39;49m -> \u001b[0m\u001b[32;49m25.1.1\u001b[0m\n",
      "\u001b[1m[\u001b[0m\u001b[34;49mnotice\u001b[0m\u001b[1;39;49m]\u001b[0m\u001b[39;49m To update, run: \u001b[0m\u001b[32;49mpip install --upgrade pip\u001b[0m\n",
      "Note: you may need to restart the kernel to use updated packages.\n"
     ]
    }
   ],
   "source": [
    "pip install google-api-python-client pandas tqdm"
   ]
  },
  {
   "cell_type": "markdown",
   "metadata": {},
   "source": [
    "Now we authenticate with YOUR API and setup client"
   ]
  },
  {
   "cell_type": "code",
   "execution_count": null,
   "metadata": {},
   "outputs": [],
   "source": [
    "from googleapiclient import discovery\n",
    "import pandas as pd\n",
    "import json\n",
    "import time\n",
    "from tqdm import tqdm\n",
    "\n",
    "API_KEY = ''  # Replace with your actual API key\n",
    "# Go to this page to get your API key: https://console.cloud.google.com/apis/credentials if you have already enabled the API.\n",
    "\n",
    "client = discovery.build(\n",
    "    \"commentanalyzer\",\n",
    "    \"v1alpha1\",\n",
    "    developerKey=API_KEY,\n",
    "    discoveryServiceUrl=\"https://commentanalyzer.googleapis.com/$discovery/rest?version=v1alpha1\",\n",
    "    static_discovery=False\n",
    ")"
   ]
  },
  {
   "cell_type": "markdown",
   "metadata": {},
   "source": [
    "Try with one simple sentence"
   ]
  },
  {
   "cell_type": "code",
   "execution_count": 3,
   "metadata": {},
   "outputs": [
    {
     "name": "stdout",
     "output_type": "stream",
     "text": [
      "{\n",
      "  \"attributeScores\": {\n",
      "    \"TOXICITY\": {\n",
      "      \"spanScores\": [\n",
      "        {\n",
      "          \"begin\": 0,\n",
      "          \"end\": 43,\n",
      "          \"score\": {\n",
      "            \"value\": 0.011874928,\n",
      "            \"type\": \"PROBABILITY\"\n",
      "          }\n",
      "        }\n",
      "      ],\n",
      "      \"summaryScore\": {\n",
      "        \"value\": 0.011874928,\n",
      "        \"type\": \"PROBABILITY\"\n",
      "      }\n",
      "    }\n",
      "  },\n",
      "  \"languages\": [\n",
      "    \"en\"\n",
      "  ],\n",
      "  \"detectedLanguages\": [\n",
      "    \"en\"\n",
      "  ]\n",
      "}\n"
     ]
    }
   ],
   "source": [
    "analyze_request = {\n",
    "    'comment': { 'text': 'This is a beautiful and thoughtful comment.' },\n",
    "    'requestedAttributes': {'TOXICITY': {}}\n",
    "}\n",
    "\n",
    "response = client.comments().analyze(body=analyze_request).execute()\n",
    "print(json.dumps(response, indent=2))"
   ]
  },
  {
   "cell_type": "markdown",
   "metadata": {},
   "source": [
    "The Toxicity score is low, which is good!\n",
    "\n",
    "Now let's try with a more toxic sentence :)"
   ]
  },
  {
   "cell_type": "code",
   "execution_count": 4,
   "metadata": {},
   "outputs": [
    {
     "name": "stdout",
     "output_type": "stream",
     "text": [
      "{\n",
      "  \"attributeScores\": {\n",
      "    \"TOXICITY\": {\n",
      "      \"spanScores\": [\n",
      "        {\n",
      "          \"begin\": 0,\n",
      "          \"end\": 49,\n",
      "          \"score\": {\n",
      "            \"value\": 0.93383175,\n",
      "            \"type\": \"PROBABILITY\"\n",
      "          }\n",
      "        }\n",
      "      ],\n",
      "      \"summaryScore\": {\n",
      "        \"value\": 0.93383175,\n",
      "        \"type\": \"PROBABILITY\"\n",
      "      }\n",
      "    }\n",
      "  },\n",
      "  \"languages\": [\n",
      "    \"en\"\n",
      "  ],\n",
      "  \"detectedLanguages\": [\n",
      "    \"en\"\n",
      "  ]\n",
      "}\n"
     ]
    }
   ],
   "source": [
    "analyze_request = {\n",
    "    'comment': { 'text': 'Damn, what a dumb-ass request. This is so stupid!' },\n",
    "    'requestedAttributes': {'TOXICITY': {}}\n",
    "}\n",
    "\n",
    "response = client.comments().analyze(body=analyze_request).execute()\n",
    "print(json.dumps(response, indent=2))\n",
    "# Let's see what the API's complete response is"
   ]
  },
  {
   "cell_type": "markdown",
   "metadata": {},
   "source": [
    "Oopsie, this is a very toxic sentence!\n",
    "\n",
    "Google Perspective also can analyze other lanaguges such as Chinese: (you have to specify the language in the request)"
   ]
  },
  {
   "cell_type": "code",
   "execution_count": 5,
   "metadata": {},
   "outputs": [
    {
     "name": "stdout",
     "output_type": "stream",
     "text": [
      "{\n",
      "  \"attributeScores\": {\n",
      "    \"TOXICITY\": {\n",
      "      \"spanScores\": [\n",
      "        {\n",
      "          \"begin\": 0,\n",
      "          \"end\": 9,\n",
      "          \"score\": {\n",
      "            \"value\": 0.8988238,\n",
      "            \"type\": \"PROBABILITY\"\n",
      "          }\n",
      "        }\n",
      "      ],\n",
      "      \"summaryScore\": {\n",
      "        \"value\": 0.8988238,\n",
      "        \"type\": \"PROBABILITY\"\n",
      "      }\n",
      "    }\n",
      "  },\n",
      "  \"languages\": [\n",
      "    \"zh\"\n",
      "  ],\n",
      "  \"detectedLanguages\": [\n",
      "    \"zh\"\n",
      "  ]\n",
      "}\n"
     ]
    }
   ],
   "source": [
    "analyze_request = {\n",
    "    'comment': { 'text': '卧槽你怎么那么傻逼' },\n",
    "    'languages': ['zh'],\n",
    "    'requestedAttributes': {'TOXICITY': {}}\n",
    "}\n",
    "\n",
    "response = client.comments().analyze(body=analyze_request).execute()\n",
    "print(json.dumps(response, indent=2))\n",
    "# Let's see what the API's complete response is"
   ]
  },
  {
   "cell_type": "markdown",
   "metadata": {},
   "source": [
    "Now let's try with our data on presidential speeches. First, try it on the first speech:"
   ]
  },
  {
   "cell_type": "code",
   "execution_count": 6,
   "metadata": {},
   "outputs": [
    {
     "name": "stdout",
     "output_type": "stream",
     "text": [
      "TOXICITY: 0.21107252\n"
     ]
    }
   ],
   "source": [
    "df = pd.read_csv(\"presidential_speeches.csv\")\n",
    "\n",
    "# Clean the first speech (truncate if too long)\n",
    "# Because Google Perspective API is designed for shorter text (e.g., tweets and news comments)\n",
    "text = df[\"speech\"].dropna().iloc[0]\n",
    "if len(text) > 1000:\n",
    "    text = text[:1000]\n",
    "\n",
    "request = {\n",
    "    'comment': {'text': text},\n",
    "    'requestedAttributes': {'TOXICITY': {}}\n",
    "}\n",
    "\n",
    "response = client.comments().analyze(body=request).execute()\n",
    "print(\"TOXICITY:\", response['attributeScores']['TOXICITY']['summaryScore']['value'])\n",
    "# This last line of code prints the toxicity score, instead of the whole trunk"
   ]
  },
  {
   "cell_type": "markdown",
   "metadata": {},
   "source": [
    "Yea, quite low --  it is expected that presidential speeches are not that toxic.\n",
    "\n",
    "Now we will loop through all the speeches and calculate toxicity scores. Using APIs to do research, you will always encounter rate limits. Here we will use a simple sleep function to avoid hitting the rate limit. Also, below you will see how we use for loop to iterate through all speeches and calculate toxicity scores.\n",
    "\n",
    "Since looping through all speeches will take a while, we will:\n",
    "- Use a small sample of speeches to test the code.\n",
    "- Use tqdm to show progress.\n",
    "\n",
    "Finally, we will save the results to a CSV file."
   ]
  },
  {
   "cell_type": "code",
   "execution_count": 8,
   "metadata": {},
   "outputs": [
    {
     "name": "stderr",
     "output_type": "stream",
     "text": [
      "100%|██████████| 10/10 [00:12<00:00,  1.25s/it]"
     ]
    },
    {
     "name": "stdout",
     "output_type": "stream",
     "text": [
      "       President        date  toxicity\n",
      "0   Donald Trump  01/08/2020  0.211073\n",
      "1   Donald Trump  01/03/2020  0.200330\n",
      "2   Donald Trump  10/27/2019  0.321823\n",
      "4   Donald Trump  09/24/2019  0.108267\n",
      "6   Donald Trump  02/05/2019  0.064215\n",
      "7   Donald Trump  01/19/2019  0.157667\n",
      "8   Donald Trump  09/25/2018  0.042162\n",
      "10  Donald Trump  03/19/2018  0.050079\n",
      "12  Donald Trump  02/15/2018  0.208397\n",
      "13  Donald Trump  02/01/2018  0.029328\n"
     ]
    },
    {
     "name": "stderr",
     "output_type": "stream",
     "text": [
      "\n"
     ]
    }
   ],
   "source": [
    "# Only keep speeches with actual text\n",
    "speech_df = df[['President', 'date', 'speech']].dropna(subset=[\"speech\"]).copy()\n",
    "\n",
    "# Limit to first 10 speeches\n",
    "speech_sample = speech_df.head(10).copy()\n",
    "toxicity_scores = []\n",
    "\n",
    "# Loop with progress bar\n",
    "for speech in tqdm(speech_sample[\"speech\"]):\n",
    "    # Truncate to 1000 characters\n",
    "    if len(speech) > 1000:\n",
    "        speech = speech[:1000]\n",
    "\n",
    "    req = {\n",
    "        'comment': {'text': speech},\n",
    "        'requestedAttributes': {'TOXICITY': {}}\n",
    "    }\n",
    "\n",
    "    try:\n",
    "        response = client.comments().analyze(body=req).execute()\n",
    "        score = response['attributeScores']['TOXICITY']['summaryScore']['value']\n",
    "        toxicity_scores.append(score)\n",
    "    except Exception as e:\n",
    "        print(\"Error:\", e)\n",
    "        toxicity_scores.append(None)\n",
    "\n",
    "    time.sleep(1.1)  # Respect API rate limits\n",
    "\n",
    "# Add scores back\n",
    "speech_sample[\"toxicity\"] = toxicity_scores\n",
    "\n",
    "# Save or preview\n",
    "print(speech_sample[['President', 'date', 'toxicity']])"
   ]
  },
  {
   "cell_type": "markdown",
   "metadata": {},
   "source": [
    "Perspective’s primary attribute is TOXICITY, which is what we have tried so far.\n",
    "\n",
    "But it also gives other attributes: SEVERE_TOXICITY, IDENTITY_ATTACK, INSULT, PROFANITY, THREAT\n",
    "\n",
    "Try out other attributes using your own code below:"
   ]
  },
  {
   "cell_type": "code",
   "execution_count": null,
   "metadata": {},
   "outputs": [],
   "source": []
  }
 ],
 "metadata": {
  "kernelspec": {
   "display_name": "base",
   "language": "python",
   "name": "python3"
  },
  "language_info": {
   "codemirror_mode": {
    "name": "ipython",
    "version": 3
   },
   "file_extension": ".py",
   "mimetype": "text/x-python",
   "name": "python",
   "nbconvert_exporter": "python",
   "pygments_lexer": "ipython3",
   "version": "3.11.5"
  }
 },
 "nbformat": 4,
 "nbformat_minor": 4
}
