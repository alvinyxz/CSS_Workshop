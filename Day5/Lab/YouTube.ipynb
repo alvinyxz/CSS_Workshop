{
 "cells": [
  {
   "cell_type": "markdown",
   "id": "114b6bef",
   "metadata": {},
   "source": [
    "# YouTube API\n",
    "\n",
    "Follow the instructions in the [YouTube API documentation](https://developers.google.com/youtube/v3/getting-started) to create a project and obtain your API key.\n",
    "\n",
    "The YouTube Data API v3 enforces a quota system to manage rate limits. Each API request costs a certain number of quota units, and every API key is granted 10,000 units per day by default. Here’s how it affects your work:\n",
    "\n",
    "- Using search.list once costs 100 units.\n",
    "  - Below, we will search for 5 videos related to “University of Minnesota” using search.list → 100 units\n",
    "- Each video retrieved with videos.list (with stats/snippet) costs 1 unit.\n",
    "  - Then, we will retrieve video video stats for each video → 1*5 = 5 units\n",
    "- Each comment thread retrieved with commentThreads.list costs 1 unit.\n",
    "  - Retrieve comments per video for 5 videos → 5 units\n",
    "- Retrieving channel information with channels.list costs 1 unit.\n",
    "\n",
    "Once you hit your daily quota, you will not be able to make further requests until the next day. You can monitor your quota usage in the Google Cloud Console."
   ]
  },
  {
   "cell_type": "code",
   "execution_count": null,
   "id": "1089e4ee",
   "metadata": {},
   "outputs": [],
   "source": [
    "# Step 1: Install Required Libraries\n",
    "!pip install --upgrade google-api-python-client"
   ]
  },
  {
   "cell_type": "code",
   "execution_count": null,
   "id": "0c93696f",
   "metadata": {},
   "outputs": [],
   "source": [
    "# Step 2: Set Up API Key\n",
    "from googleapiclient.discovery import build\n",
    "\n",
    "API_KEY = ''  # Replace with your API key\n",
    "youtube = build('youtube', 'v3', developerKey=API_KEY)"
   ]
  },
  {
   "cell_type": "code",
   "execution_count": null,
   "id": "6df1f53c",
   "metadata": {},
   "outputs": [],
   "source": [
    "# Step 3: Search for Videos\n",
    "\n",
    "# First, define your search keyword\n",
    "query = \"University of Minnesota\"\n",
    "# Then: Decide how many results you want\n",
    "max_results = 5\n",
    "# Then: Create the API request\n",
    "request = youtube.search().list( # you are using the search() feature of the YouTube API\n",
    "    part=\"snippet\",       # We want video details (title, channel, description, etc.)\n",
    "    q=query,              # The search term\n",
    "    type=\"video\",         # We're only interested in videos\n",
    "    maxResults=max_results\n",
    ")\n",
    "# In the above code, you can also add in additional parameters like `publishedAfter` to filter by date.\n",
    "# publishedAfter=\"2023-01-01T00:00:00Z\",\n",
    "# publishedBefore=\"2023-12-31T23:59:59Z\"\n",
    "\n",
    "# Then: Execute the request\n",
    "response = request.execute()\n",
    "\n",
    "# At last: Print out the video titles\n",
    "for item in response['items']:\n",
    "    print(f\"Title: {item['snippet']['title']}\")\n",
    "    print(f\"Video ID: {item['id']['videoId']}\")\n",
    "    print(f\"Channel Title: {item['snippet']['channelTitle']}\")\n",
    "    print(\"-\" * 50)"
   ]
  },
  {
   "cell_type": "code",
   "execution_count": null,
   "id": "d6761ebb",
   "metadata": {},
   "outputs": [],
   "source": [
    "# Step 4: See how many subscribers MrBeast has\n",
    "\n",
    "# MrBeast's channel is https://www.youtube.com/channel/UCX6OQ3DkcsbYNE6H8uQQuVA\n",
    "# So we can use the channel ID to get his videos\n",
    "mrbeast_channel_id = 'UCX6OQ3DkcsbYNE6H8uQQuVA'\n",
    "\n",
    "# Let's first get the uploads playlist ID (where all his videos are stored)\n",
    "channel_response = youtube.channels().list(\n",
    "    part=\"snippet,statistics\",     # This tells the API we want channel statistics\n",
    "    id=mrbeast_channel_id      # MrBeast’s channel\n",
    ").execute()\n",
    "\n",
    "# Print out the number of subscribers\n",
    "print(f\"MrBeast has {channel_response['items'][0]['statistics']['subscriberCount']} subscribers.\")"
   ]
  },
  {
   "cell_type": "code",
   "execution_count": null,
   "id": "aa8b2108",
   "metadata": {},
   "outputs": [],
   "source": [
    "# Step 5: Retrieve MrBeast Video Statistics\n",
    "\n",
    "# Let's first get the uploads playlist ID (where all his videos are stored)\n",
    "channel_response = youtube.channels().list(\n",
    "    part=\"contentDetails\",     # This tells the API we want channel metadata\n",
    "    id=mrbeast_channel_id      # MrBeast’s channel\n",
    ").execute()\n",
    "\n",
    "# Extract the playlist ID for the \"uploads\" playlist\n",
    "uploads_playlist_id = channel_response['items'][0]['contentDetails']['relatedPlaylists']['uploads']\n",
    "\n",
    "# Get a few videos from that playlist ID\n",
    "playlist_response = youtube.playlistItems().list(\n",
    "    part=\"snippet\",             # We want basic info like title, videoId, etc.\n",
    "    playlistId=uploads_playlist_id,\n",
    "    maxResults=5                # Only get 5 videos\n",
    ").execute()\n",
    "\n",
    "# Extract video IDs from the playlist response\n",
    "video_ids = []\n",
    "for item in playlist_response['items']:\n",
    "    video_id = item['snippet']['resourceId']['videoId']\n",
    "    video_ids.append(video_id)\n",
    "\n",
    "# Retrieve video statistics for these video IDs\n",
    "video_response = youtube.videos().list(\n",
    "    part=\"snippet,statistics\",             # We want title, view count, like count, etc.\n",
    "    id=\",\".join(video_ids)                 # Join list into one comma-separated string\n",
    ").execute()\n",
    "\n",
    "# Print out results for each video\n",
    "for item in video_response['items']:\n",
    "    print(f\"Title: {item['snippet']['title']}\")\n",
    "    print(f\"Views: {item['statistics'].get('viewCount', 'N/A')}\")\n",
    "    print(f\"Likes: {item['statistics'].get('likeCount', 'N/A')}\")\n",
    "    print(f\"Comments: {item['statistics'].get('commentCount', 'N/A')}\")\n",
    "    print(\"-\" * 50)"
   ]
  },
  {
   "cell_type": "code",
   "execution_count": null,
   "id": "ace6f51b",
   "metadata": {},
   "outputs": [],
   "source": [
    "# Step 5: Fetch Comments from a MrBeast Video\n",
    "\n",
    "# First, let's pick one of MrBeast's video IDs\n",
    "video_id = video_ids[0]  # This is the first video we got earlier\n",
    "\n",
    "# Make a request to the YouTube API to get the top-level comments\n",
    "comments_response = youtube.commentThreads().list(\n",
    "    part=\"snippet\",              # We want the main comment snippet\n",
    "    videoId=video_id,            # The video we’re interested in\n",
    "    maxResults=10,               # Get up to 10 comments\n",
    "    textFormat=\"plainText\"       # Get raw readable text (not HTML)\n",
    ").execute()\n",
    "\n",
    "# Loop through the response and extract the comment text + author\n",
    "for item in comments_response['items']:\n",
    "    comment = item['snippet']['topLevelComment']['snippet']['textDisplay']\n",
    "    author = item['snippet']['topLevelComment']['snippet']['authorDisplayName']\n",
    "    print(f\"{author}: {comment}\")\n",
    "    print(\"-\" * 50)"
   ]
  }
 ],
 "metadata": {
  "kernelspec": {
   "display_name": "base",
   "language": "python",
   "name": "python3"
  },
  "language_info": {
   "codemirror_mode": {
    "name": "ipython",
    "version": 3
   },
   "file_extension": ".py",
   "mimetype": "text/x-python",
   "name": "python",
   "nbconvert_exporter": "python",
   "pygments_lexer": "ipython3",
   "version": "3.11.5"
  }
 },
 "nbformat": 4,
 "nbformat_minor": 5
}
