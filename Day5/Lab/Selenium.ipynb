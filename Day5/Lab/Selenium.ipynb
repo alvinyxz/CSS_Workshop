{
 "cells": [
  {
   "cell_type": "markdown",
   "metadata": {},
   "source": [
    "# Selenium\n",
    "\n",
    "Selenium is a powerful tool for controlling your web browsers and performing automation.\n",
    "\n",
    "You can use it to automate tasks in web browsers, such as filling out forms, clicking buttons, and navigating through pages. Once the content that you want is loaded in a browser, we can invoke other tools such as BeautifulSoup (a Python scraping library) to extract data from web pages."
   ]
  },
  {
   "cell_type": "code",
   "execution_count": null,
   "metadata": {},
   "outputs": [],
   "source": [
    "# Load necessary libraries\n",
    "! pip install webdriver-manager\n",
    "from selenium import webdriver\n",
    "from selenium.webdriver.common.by import By\n",
    "from selenium.webdriver.common.keys import Keys\n",
    "import time\n",
    "import pandas as pd\n",
    "from bs4 import BeautifulSoup"
   ]
  },
  {
   "cell_type": "markdown",
   "metadata": {},
   "source": [
    "Now we are going to install the Selenium library and use it to control a web browser.\n",
    "\n",
    "# Depend on which browser you want to use, you will run one of the two following trunks (one for Chrome, one for Firefox):\n",
    "\n",
    "**I recommend you to use a browser that you do not do your daily work with, so you can avoid issues with your browser settings and extensions. For example, in my day-to-day work, I use Chrome, so I will install Firefox and just use it for Selenium.**"
   ]
  },
  {
   "cell_type": "code",
   "execution_count": null,
   "metadata": {},
   "outputs": [],
   "source": [
    "# If you want to use Firefox for Selenium, only run this trunk instead of the Chrome part below\n",
    "from selenium.webdriver.firefox.service import Service as FirefoxService\n",
    "from webdriver_manager.firefox import GeckoDriverManager\n",
    "driver = webdriver.Firefox(service=FirefoxService(GeckoDriverManager().install()))"
   ]
  },
  {
   "cell_type": "code",
   "execution_count": null,
   "metadata": {},
   "outputs": [],
   "source": [
    "# If you want to use Chrome for Selenium, only run this trunk instead of the Firefox part above\n",
    "from selenium.webdriver.chrome.service import Service as ChromeService\n",
    "from webdriver_manager.chrome import ChromeDriverManager\n",
    "driver = webdriver.Chrome(service=ChromeService(ChromeDriverManager().install()))"
   ]
  },
  {
   "cell_type": "markdown",
   "metadata": {},
   "source": [
    "Running the above trunk will open a Firefox/Chrome browser\n",
    "\n",
    "The next trunk will navigate the browser to the specified URL and do some basic interactions with the page.\n",
    "\n",
    "**Before running it, make sure to enter your username and password in the `username` and `password` variables.**"
   ]
  },
  {
   "cell_type": "code",
   "execution_count": null,
   "metadata": {},
   "outputs": [],
   "source": [
    "# Go to MyU portal\n",
    "driver.get(\"https://myu.umn.edu\")\n",
    "\n",
    "# Wait for page to load\n",
    "time.sleep(10)\n",
    "\n",
    "# Enter credentials (yes, you will input your username and password here)\n",
    "username = \"\" # Replace with your actual username\n",
    "password = \"\"  # Replace with your actual password\n",
    "# Never do this in public code! You are gonna get hacked!\n",
    "\n",
    "# Fill username and submit\n",
    "driver.find_element(By.ID, \"username\").send_keys(username)\n",
    "driver.find_element(By.ID, \"password\").send_keys(password)\n",
    "driver.find_element(By.NAME, \"_eventId_proceed\").click()"
   ]
  },
  {
   "cell_type": "markdown",
   "metadata": {},
   "source": [
    "# After running the above trunk, you might need to authenticate with Duo or click something on the page, so that it logs you in, which you have to do manually.\n",
    "\n",
    "Now you are going to run the next trunk to navigate to the \"My Info\" tab and extract the data from the page."
   ]
  },
  {
   "cell_type": "code",
   "execution_count": null,
   "metadata": {},
   "outputs": [],
   "source": [
    "# Right-click on the My Info tab and inspect it to find the href value\n",
    "# This is usually something like '#tab_UM_SSS_MY_INFORMATION'\n",
    "# The \"click()\" action will click on the My Info tab for you\n",
    "my_info_tab = driver.find_element(By.CSS_SELECTOR, 'a[href=\"#tab_UM_SSS_MY_INFORMATION\"]')\n",
    "driver.execute_script(\"arguments[0].click();\", my_info_tab)"
   ]
  },
  {
   "cell_type": "markdown",
   "metadata": {},
   "source": [
    "The above trunk should have switched your browser to the \"My Info\" tab.\n",
    "\n",
    "Now, we will scrape the data from the My Info tab."
   ]
  },
  {
   "cell_type": "code",
   "execution_count": null,
   "metadata": {},
   "outputs": [],
   "source": [
    "# You can right-click on the page and inspect it to find the structure of the HTML\n",
    "# You can see that, your phone number is under id 'UM_SSS_MY_INFO_PHONE_XFORM'\n",
    "phone_number_element = driver.find_element(By.XPATH, '//*[@id=\"UM_SSS_MY_INFO_PHONE_XFORM\"]//td')\n",
    "phone_number = phone_number_element.text\n",
    "print(\"My Phone Number:\", phone_number)\n",
    "\n",
    "# You can see that, your address is under id 'UM_SSS_MY_INFO_ADDRESS_XFORM'\n",
    "address_element = driver.find_element(By.XPATH, '//*[@id=\"UM_SSS_MY_INFO_ADDRESS_XFORM\"]//td')\n",
    "address = address_element.text\n",
    "print(\"My Address:\", address)"
   ]
  },
  {
   "cell_type": "markdown",
   "metadata": {},
   "source": [
    "Apparently, you can use `selenium` to do even more crazy things. You can literally control the browser as if you were a human, including clicking buttons, filling out forms, and even taking screenshots.\n",
    "\n",
    "Using `selenium` with other tools such as scraping tools like BeautifulSoup, you can extract data from web pages and automate tasks that would otherwise be tedious and time-consuming.\n",
    "\n",
    "Compared to directly extracting HTML from a website, like what we did in R, this approach \"simulates\" a human user interacting with the browser, which can be useful for websites that require JavaScript to load content or have complex interactions."
   ]
  },
  {
   "cell_type": "markdown",
   "metadata": {},
   "source": [
    "# NBA Scraping Again\n",
    "\n",
    "Remember the NBA scraping we did in R? We could not do it because the data was loaded dynamically using JavaScript, and we could not get the data directly from the HTML.\n",
    "\n",
    "However, with Selenium, we can automate the browser to load the page and extract the data. In essence, we are cheating the system: nba.com will see us as a human user, and we can extract the data as if we were browsing the site manually.\n",
    "\n",
    "Again, between the below two trunks, you will only select one to run, depending on which browser you want to use."
   ]
  },
  {
   "cell_type": "code",
   "execution_count": null,
   "metadata": {},
   "outputs": [],
   "source": [
    "# If you want to use Firefox for Selenium, only run this trunk instead of the Chrome part below\n",
    "from selenium.webdriver.firefox.service import Service as FirefoxService\n",
    "from webdriver_manager.firefox import GeckoDriverManager\n",
    "driver = webdriver.Firefox(service=FirefoxService(GeckoDriverManager().install()))"
   ]
  },
  {
   "cell_type": "code",
   "execution_count": null,
   "metadata": {},
   "outputs": [],
   "source": [
    "# If you want to use Chrome for Selenium, only run this trunk instead of the Firefox part above\n",
    "from selenium.webdriver.chrome.service import Service as ChromeService\n",
    "from webdriver_manager.chrome import ChromeDriverManager\n",
    "driver = webdriver.Chrome(service=ChromeService(ChromeDriverManager().install()))"
   ]
  },
  {
   "cell_type": "markdown",
   "metadata": {},
   "source": [
    "Then we will run the following trunk to get the data from the NBA page."
   ]
  },
  {
   "cell_type": "code",
   "execution_count": null,
   "metadata": {},
   "outputs": [],
   "source": [
    "# Go to NBA website\n",
    "driver.get(\"https://www.nba.com/standings\")\n",
    "\n",
    "# Wait for page to load\n",
    "time.sleep(10)\n",
    "\n",
    "# Parse page source with BeautifulSoup (a HTML parser, you can interpret it as a library that helps you read HTML)\n",
    "soup = BeautifulSoup(driver.page_source, \"html.parser\")\n",
    "\n",
    "# Get both tables\n",
    "tables = soup.find_all(\"table\", class_=\"Crom_table__p1iZz\")\n",
    "print(f\"Found {len(tables)} tables.\")"
   ]
  },
  {
   "cell_type": "markdown",
   "metadata": {},
   "source": [
    "Let's print out the two tables:"
   ]
  },
  {
   "cell_type": "code",
   "execution_count": null,
   "metadata": {},
   "outputs": [],
   "source": [
    "# Eastern Conference is first, Western Conference is second\n",
    "eastern_table = tables[0]\n",
    "western_table = tables[1]\n",
    "\n",
    "def parse_table(html_table):\n",
    "    rows = html_table.find_all(\"tr\")\n",
    "    data = []\n",
    "    for row in rows:\n",
    "        cols = [col.get_text(strip=True) for col in row.find_all(['th', 'td'])]\n",
    "        if cols:  # skip empty rows\n",
    "            data.append(cols)\n",
    "    df = pd.DataFrame(data[1:], columns=data[0])  # First row is header\n",
    "    return df\n",
    "\n",
    "# Convert to DataFrames\n",
    "east_df = parse_table(eastern_table)\n",
    "west_df = parse_table(western_table)\n",
    "\n",
    "# Preview results\n",
    "print(\"Eastern Conference:\")\n",
    "print(east_df.head())\n",
    "\n",
    "print(\"\\nWestern Conference:\")\n",
    "print(west_df.head())\n",
    "\n",
    "# Some cleaning is needed, but you see how to get the data now :)"
   ]
  },
  {
   "cell_type": "code",
   "execution_count": null,
   "metadata": {},
   "outputs": [],
   "source": [
    "# Optional: close the driver\n",
    "driver.quit()"
   ]
  }
 ],
 "metadata": {
  "kernelspec": {
   "display_name": "base",
   "language": "python",
   "name": "python3"
  },
  "language_info": {
   "codemirror_mode": {
    "name": "ipython",
    "version": 3
   },
   "file_extension": ".py",
   "mimetype": "text/x-python",
   "name": "python",
   "nbconvert_exporter": "python",
   "pygments_lexer": "ipython3",
   "version": "3.11.5"
  }
 },
 "nbformat": 4,
 "nbformat_minor": 4
}
