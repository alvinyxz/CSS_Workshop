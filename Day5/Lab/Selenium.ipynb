{
 "cells": [
  {
   "cell_type": "markdown",
   "metadata": {},
   "source": [
    "# Selenium\n",
    "\n",
    "Selenium is a powerful tool for controlling your web browsers and performing automation.\n",
    "\n",
    "You can use it to automate tasks in web browsers, such as filling out forms, clicking buttons, and navigating through pages. Once the content that you want is loaded in a browser, we can invoke other tools such as BeautifulSoup (a Python scraping library) to extract data from web pages."
   ]
  },
  {
   "cell_type": "code",
   "execution_count": 1,
   "metadata": {},
   "outputs": [
    {
     "name": "stdout",
     "output_type": "stream",
     "text": [
      "Requirement already satisfied: webdriver-manager in /Users/alvinzhou/anaconda3/lib/python3.11/site-packages (4.0.2)\n",
      "Requirement already satisfied: requests in /Users/alvinzhou/anaconda3/lib/python3.11/site-packages (from webdriver-manager) (2.32.3)\n",
      "Requirement already satisfied: python-dotenv in /Users/alvinzhou/anaconda3/lib/python3.11/site-packages (from webdriver-manager) (0.21.0)\n",
      "Requirement already satisfied: packaging in /Users/alvinzhou/anaconda3/lib/python3.11/site-packages (from webdriver-manager) (23.1)\n",
      "Requirement already satisfied: charset-normalizer<4,>=2 in /Users/alvinzhou/anaconda3/lib/python3.11/site-packages (from requests->webdriver-manager) (2.0.4)\n",
      "Requirement already satisfied: idna<4,>=2.5 in /Users/alvinzhou/anaconda3/lib/python3.11/site-packages (from requests->webdriver-manager) (3.4)\n",
      "Requirement already satisfied: urllib3<3,>=1.21.1 in /Users/alvinzhou/anaconda3/lib/python3.11/site-packages (from requests->webdriver-manager) (1.26.16)\n",
      "Requirement already satisfied: certifi>=2017.4.17 in /Users/alvinzhou/anaconda3/lib/python3.11/site-packages (from requests->webdriver-manager) (2025.4.26)\n",
      "\n",
      "\u001b[1m[\u001b[0m\u001b[34;49mnotice\u001b[0m\u001b[1;39;49m]\u001b[0m\u001b[39;49m A new release of pip is available: \u001b[0m\u001b[31;49m25.0.1\u001b[0m\u001b[39;49m -> \u001b[0m\u001b[32;49m25.1.1\u001b[0m\n",
      "\u001b[1m[\u001b[0m\u001b[34;49mnotice\u001b[0m\u001b[1;39;49m]\u001b[0m\u001b[39;49m To update, run: \u001b[0m\u001b[32;49mpip install --upgrade pip\u001b[0m\n"
     ]
    }
   ],
   "source": [
    "# Load necessary libraries\n",
    "! pip install webdriver-manager\n",
    "from selenium import webdriver\n",
    "from selenium.webdriver.common.by import By\n",
    "from selenium.webdriver.common.keys import Keys\n",
    "import time\n",
    "import pandas as pd\n",
    "from bs4 import BeautifulSoup"
   ]
  },
  {
   "cell_type": "markdown",
   "metadata": {},
   "source": [
    "The difficult part of using Selenium is setting it up. You need to install the Selenium package (which we already did), **download a web driver for your browser**, and ensure that the driver is in your system's PATH.\n",
    "\n",
    "The browsers I use the most for Selenium are Chrome and Firefox, but apparently, Selenium also supports Edge and Safari: https://www.selenium.dev/documentation/webdriver/browsers/\n",
    "\n",
    "I recommend you to use a browser that you do not do your daily work with, so you can avoid issues with your browser settings and extensions. For example, in my day-to-day work, I use Chrome, so I will install Firefox and just use it for Selenium.\n",
    "\n",
    "- Go to https://www.selenium.dev/downloads/\n",
    "- Scroll down to the \"Platforms Supported by Selenium\" section\n",
    "- Follow the instruction for the browser you want to use (e.g., \"Firefox\") to download the driver\n",
    "  - For example, for Firefox, the website says \"GeckoDriver is implemented and supported by Mozilla, refer to their documentation for supported versions.\"\n",
    "  - Once you click the link, you will see that \"The following table shows a mapping between geckodriver releases, and required versions of Selenium and Firefox.\"\n",
    "  - Once you click the link for \"geckodriver releases\" and go to https://github.com/mozilla/geckodriver/releases you will see a list of releases at the bottom of the page.\n",
    "  - Download the latest version of the driver for your operating system. For me, it would be `geckodriver-v0.36.0-macos-aarch64.tar.gz`\n",
    "  - Extract the downloaded file, and you will get a file called `geckodriver`\n",
    "- Copy the `geckodriver`'s path to your clipboard, and modify the next code snippet."
   ]
  },
  {
   "cell_type": "code",
   "execution_count": null,
   "metadata": {},
   "outputs": [],
   "source": [
    "# If you use Firefox, only run this part\n",
    "from selenium.webdriver.firefox.service import Service as FirefoxService\n",
    "from webdriver_manager.firefox import GeckoDriverManager\n",
    "driver = webdriver.Firefox(service=FirefoxService(GeckoDriverManager().install()))\n",
    "\n",
    "# from selenium.webdriver.chrome.service import Service as ChromeService\n",
    "# from webdriver_manager.chrome import ChromeDriverManager\n",
    "# driver = webdriver.Chrome(service=ChromeService(ChromeDriverManager().install()))"
   ]
  },
  {
   "cell_type": "markdown",
   "metadata": {},
   "source": [
    "Running the above trunk will open a Firefox browser\n",
    "\n",
    "The next trunk will navigate the browser to the specified URL and do some basic interactions with the page."
   ]
  },
  {
   "cell_type": "code",
   "execution_count": 6,
   "metadata": {},
   "outputs": [],
   "source": [
    "# Go to MyU portal\n",
    "driver.get(\"https://myu.umn.edu\")\n",
    "\n",
    "# Wait for page to load\n",
    "time.sleep(10)\n",
    "\n",
    "# Enter credentials (yes, you will input your username and password here)\n",
    "username = \"alvinyxz\"\n",
    "password = \"5491Xiao5491Xiao\"  # NEVER do this in real life though!\n",
    "\n",
    "# Fill username and submit\n",
    "driver.find_element(By.ID, \"username\").send_keys(username)\n",
    "driver.find_element(By.ID, \"password\").send_keys(password)\n",
    "driver.find_element(By.NAME, \"_eventId_proceed\").click()\n",
    "# You might need to authenticate with Duo, which you have to do manually.\n",
    "# Once you are logged in, you can proceed to the next step."
   ]
  },
  {
   "cell_type": "markdown",
   "metadata": {},
   "source": [
    "After running the above trunk, you should have logged into your MyU account.\n",
    "\n",
    "Now you are going to run the next trunk to navigate to the \"My Info\" tab and extract the data from the page."
   ]
  },
  {
   "cell_type": "code",
   "execution_count": null,
   "metadata": {},
   "outputs": [],
   "source": [
    "# Right-click on the My Info tab and inspect it to find the href value\n",
    "# This is usually something like '#tab_UM_SSS_MY_INFORMATION'\n",
    "# The \"click()\" action will click on the My Info tab for you\n",
    "my_info_tab = driver.find_element(By.CSS_SELECTOR, 'a[href=\"#tab_UM_SSS_MY_INFORMATION\"]')\n",
    "driver.execute_script(\"arguments[0].click();\", my_info_tab)\n",
    "time.sleep(3)"
   ]
  },
  {
   "cell_type": "markdown",
   "metadata": {},
   "source": [
    "The above trunk should have switched your browser to the \"My Info\" tab.\n",
    "\n",
    "Now, we will scrape the data from the My Info tab."
   ]
  },
  {
   "cell_type": "code",
   "execution_count": null,
   "metadata": {},
   "outputs": [
    {
     "name": "stdout",
     "output_type": "stream",
     "text": [
      "My Phone Number: 213/706-1360\n",
      "My Address: 615 Ontario St SE\n",
      "Apt 19\n",
      "Minneapolis, MN 55414-3136\n"
     ]
    }
   ],
   "source": [
    "# You can right-click on the page and inspect it to find the structure of the HTML\n",
    "\n",
    "# You can see that, your phone number is under id 'UM_SSS_MY_INFO_PHONE_XFORM'\n",
    "phone_number_element = driver.find_element(By.XPATH, '//*[@id=\"UM_SSS_MY_INFO_PHONE_XFORM\"]//td')\n",
    "phone_number = phone_number_element.text\n",
    "print(\"My Phone Number:\", phone_number)\n",
    "\n",
    "# You can see that, your address is under id 'UM_SSS_MY_INFO_ADDRESS_XFORM'\n",
    "address_element = driver.find_element(By.XPATH, '//*[@id=\"UM_SSS_MY_INFO_ADDRESS_XFORM\"]//td')\n",
    "address = address_element.text\n",
    "print(\"My Address:\", address)"
   ]
  },
  {
   "cell_type": "markdown",
   "metadata": {},
   "source": [
    "Apparently, you can use `selenium` to do even more crazy things. You can literally control the browser as if you were a human, including clicking buttons, filling out forms, and even taking screenshots.\n",
    "\n",
    "Using `selenium` with other tools such as scraping tools like BeautifulSoup, you can extract data from web pages and automate tasks that would otherwise be tedious and time-consuming.\n",
    "\n",
    "Compared to directly reading in HTML, like what we did in R, this approach \"simulates\" a human user interacting with the browser, which can be useful for websites that require JavaScript to load content or have complex interactions."
   ]
  }
 ],
 "metadata": {
  "kernelspec": {
   "display_name": "base",
   "language": "python",
   "name": "python3"
  },
  "language_info": {
   "codemirror_mode": {
    "name": "ipython",
    "version": 3
   },
   "file_extension": ".py",
   "mimetype": "text/x-python",
   "name": "python",
   "nbconvert_exporter": "python",
   "pygments_lexer": "ipython3",
   "version": "3.11.5"
  }
 },
 "nbformat": 4,
 "nbformat_minor": 4
}
