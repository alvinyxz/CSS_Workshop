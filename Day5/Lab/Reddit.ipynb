{
 "cells": [
  {
   "cell_type": "code",
   "execution_count": 1,
   "id": "dfebdae2",
   "metadata": {},
   "outputs": [],
   "source": [
    "import requests\n",
    "import time\n",
    "import pandas as pd\n",
    "\n",
    "# PARAMETERS\n",
    "keyword = \"election\"\n",
    "start_date = \"2024-01-01\"\n",
    "end_date = \"2024-01-03\"\n",
    "\n",
    "# Convert to Unix timestamp\n",
    "start_ts = int(time.mktime(time.strptime(start_date, \"%Y-%m-%d\")))\n",
    "end_ts = int(time.mktime(time.strptime(end_date, \"%Y-%m-%d\")))"
   ]
  },
  {
   "cell_type": "code",
   "execution_count": 4,
   "id": "6f957624",
   "metadata": {},
   "outputs": [
    {
     "name": "stdout",
     "output_type": "stream",
     "text": [
      "Empty DataFrame\n",
      "Columns: []\n",
      "Index: []\n"
     ]
    }
   ],
   "source": [
    "# API endpoint\n",
    "url = \"https://api.pullpush.io/reddit/search/submission/\"\n",
    "\n",
    "# Empty list to store results\n",
    "posts = []\n",
    "\n",
    "# Loop through each day\n",
    "current = start_ts\n",
    "while current < end_ts:\n",
    "    next_day = current + 86400\n",
    "\n",
    "    params = {\n",
    "        \"q\": keyword,\n",
    "        \"after\": current,\n",
    "        \"before\": next_day,\n",
    "        \"sort\": \"asc\",\n",
    "        \"sort_type\": \"created_utc\",\n",
    "        \"size\": 100\n",
    "    }\n",
    "\n",
    "    response = requests.get(url, params=params)\n",
    "    if response.status_code != 200:\n",
    "        print(f\"Error: {response.status_code}\")\n",
    "        current = next_day\n",
    "        continue\n",
    "\n",
    "    data = response.json().get(\"data\", [])\n",
    "    for item in data:\n",
    "        posts.append({\n",
    "            \"title\": item.get(\"title\"),\n",
    "            \"content\": item.get(\"selftext\"),\n",
    "            \"author\": item.get(\"author\"),\n",
    "            \"created_utc\": time.strftime(\"%Y-%m-%d %H:%M:%S\", time.localtime(item.get(\"created_utc\", 0))),\n",
    "            \"url\": \"https://www.reddit.com\" + item.get(\"permalink\", \"\")\n",
    "        })\n",
    "\n",
    "    current = next_day\n",
    "    time.sleep(1)\n",
    "\n",
    "# Convert to DataFrame\n",
    "df = pd.DataFrame(posts)\n",
    "df.to_csv(\"reddit_results.csv\", index=False, encoding=\"utf-8-sig\")\n",
    "print(df.head())"
   ]
  }
 ],
 "metadata": {
  "kernelspec": {
   "display_name": "base",
   "language": "python",
   "name": "python3"
  },
  "language_info": {
   "codemirror_mode": {
    "name": "ipython",
    "version": 3
   },
   "file_extension": ".py",
   "mimetype": "text/x-python",
   "name": "python",
   "nbconvert_exporter": "python",
   "pygments_lexer": "ipython3",
   "version": "3.11.5"
  }
 },
 "nbformat": 4,
 "nbformat_minor": 5
}
