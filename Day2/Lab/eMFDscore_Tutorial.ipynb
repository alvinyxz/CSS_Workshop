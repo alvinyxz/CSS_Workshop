{
 "cells": [
  {
   "cell_type": "markdown",
   "metadata": {},
   "source": [
    "# eMFDscore Tutorial"
   ]
  },
  {
   "cell_type": "markdown",
   "metadata": {},
   "source": [
    "© Media Neuroscience Lab  \n",
    "October 2020"
   ]
  },
  {
   "cell_type": "markdown",
   "metadata": {},
   "source": [
    "***"
   ]
  },
  {
   "cell_type": "markdown",
   "metadata": {},
   "source": [
    "This notebook provides a tutorial on how to use eMFDScore for extracing various moral information metrics from texutal input.  \n",
    "Specifically, this tutorial guides the reader how to effectively use the eMFDScore tool either on the command line (for MACOS and Linux) and in Python (for Windows, MACOS, and Linux).  \n",
    "In addition, this tutorial also demonstrates which scoring options are appropriate for particular tasks.  \n",
    "For more detailed background information on the eMFD, please consult the respective [publication](https://link.springer.com/article/10.3758/s13428-020-01433-0).\n",
    "\n",
    "Finally, when using eMFDscore, please consider \"starring\" the Github repository and citing the follwing article: \n",
    "\n",
    "Hopp, F. R., Fisher, J. T., Cornell, D., Huskey, R., & Weber, R. (2020). The extended Moral Foundations Dictionary (eMFD):  \n",
    "Development and applications of a crowd-sourced approach to extracting moral intuitions from text.   \n",
    "_Behavior Research Methods_, https://doi.org/10.3758/s13428-020-01433-0"
   ]
  },
  {
   "cell_type": "markdown",
   "metadata": {},
   "source": [
    "***"
   ]
  },
  {
   "cell_type": "markdown",
   "metadata": {},
   "source": [
    "To interactively run this tutorial, you should clone the eMFDscore github repository and follow the install instructions below."
   ]
  },
  {
   "cell_type": "markdown",
   "metadata": {},
   "source": [
    "## 1. Set-up Your Environment"
   ]
  },
  {
   "cell_type": "markdown",
   "metadata": {},
   "source": [
    "eMFDscore requires a Python installation (v3.7+). If your machine does not have Python installed,  \n",
    "we recommend installing Python by downloading and installing either Anaconda or Miniconda for your OS.\n",
    "\n",
    "For best practises, we recommend installing eMFDscore into a virtual conda environment.  \n",
    "Hence, you should first create a virtual environment by executing the following command in your terminal:\n",
    "\n",
    "`$ conda create -n emfd python=3.7` \n",
    "\n",
    "Once Anaconda/Miniconda is installed activate the env via:\n",
    "\n",
    "`$ source activate emfd`\n",
    "\n",
    "Next, you must install spaCy, which is the main natural language processing backend that eMFDscore is built on:\n",
    "\n",
    "`$ conda install -c conda-forge spacy`  \n",
    "`$ python -m spacy download en_core_web_sm`\n",
    "\n",
    "Finally, you can install eMFDscore by copying, pasting, and executing the following command:\n",
    "\n",
    "`pip install https://github.com/medianeuroscience/emfdscore/archive/master.zip`\n",
    "\n",
    "In addition, if you plan to run eMFDscore in an interactive python environment (IPython) or using jupyter notebooks, we encourage you to install jupyter-lab into the eMFD environment:  \n",
    "`conda install -c conda-forge jupyterlab`\n",
    "\n"
   ]
  },
  {
   "cell_type": "markdown",
   "metadata": {},
   "source": [
    "## 2. Using eMFDScore"
   ]
  },
  {
   "cell_type": "markdown",
   "metadata": {},
   "source": [
    "eMFDScore is a versatile tool that can either be run using the command line or directly from Python.  \n",
    "Note that if you are on a **Windows** machine, you must run eMFDscore from a Python environment. \n",
    "\n",
    "In this tutorial, we will load a few packages to inspect the output of eMFDScore's computed metrics.  \n",
    "These packages must be installed/available in your conda environment, but are not necessary for  \n",
    "eMFDscore to run properly. "
   ]
  },
  {
   "cell_type": "code",
   "execution_count": 1,
   "metadata": {},
   "outputs": [],
   "source": [
    "import pandas as pd \n",
    "import numpy as np\n",
    "import seaborn as sns\n",
    "from matplotlib import pyplot as plt"
   ]
  },
  {
   "cell_type": "markdown",
   "metadata": {},
   "source": [
    "### Options for Document Scoring"
   ]
  },
  {
   "cell_type": "markdown",
   "metadata": {},
   "source": [
    "With eMFDScore, you have several options to extract moral information metrics from texutal corpora.   \n",
    "Below, we go over these options one by one.  \n",
    "\n",
    "When scoring documents with the extended Moral Foundations Dicitonary (eMFD; default in eMFDScore),  \n",
    "you must decide how you would like to use the eMFD for scoring textual documents.  \n",
    "\n",
    "As a reminder, in the eMFD, every of the 3020 words is assigned the following scores: \n",
    "- `Foundation Probabilities`: Each word is assigned 5 probabalities that denote the likelihood  \n",
    "that this word is associated with each one of the five moral foundations as identified by Moral  \n",
    "Foundations  Theory. For example, the word \"kill\" has a care probability of 0.4 and  \n",
    "a loyalty probability of 0.24, meaning that there is a 40% chance that a coder highlighted a context in which the word \"kill\" appeared  \n",
    "with the care-harm foundation and a 24% chance that this context was highlighted with the loyalty-betrayal foundation.\n",
    "\n",
    "- `Sentiment Scores`: Each word is assigned 5 sentiment scores that denote the average sentiment  \n",
    "of the foundation context in which this word appeared. For example, the word \"kill\" has an average  \n",
    "\"care_sent\" of -0.69, meaning that all \"care-harm\" highlights in which \"kill\" appeared had an average,  \n",
    "negative sentiment of -0.69.\n",
    "\n",
    "***\n",
    "\n",
    "Based on these scores, there are two options how these scores can be \"mapped\" when scoring a  \n",
    "document (flag `prob_map` below):\n",
    "\n",
    "1. Use `all` probabilities per word in the eMFD (option `all`):  \n",
    "=> Using all five foundation probabilities assumes that each word is used as an indicator for multiple foundations with the probabilities as weights. \n",
    "2. Assign a `single`  probability to each word in the eMFD according to the foundation with the highest  probability (option `single`):  \n",
    "=> Each word only indicates **one** foundation (the one with the highest foundation probability) and each time this word is found  \n",
    "the respective foundation is increased by that word's foundation probability.\n",
    "\n",
    "***\n",
    "\n",
    "In addition, you can decide whether you want eMFDScore to return the average sentiment for each  \n",
    "foundation, or whether you would like eMFDScore to split each foundation  \n",
    "into a `vice` and `virtue`  category (flag `output_metrics` below):\n",
    "\n",
    "1. Return the average `sentiment ` for each foundation (option `sentiment`) \n",
    "2. Split foundations into a `vice-virtue` category (option `vice-virtue`). \n",
    "\n",
    "The vice-virtue split is accomplished by considering the average sentiment of each foundation of each  \n",
    "word, and then assigning this word to \"virtue\" if the foundation sentiment is positive,  \n",
    "or to \"vice\" if the sentiment is negative.  \n",
    "For instance, if using the `all` option for the `prob_map` option above, a word's foundation probabilities  \n",
    "will be translated into five `virtue` scores (e.g., care, fairness,  loyalty, authority, and sanctity)   \n",
    "if the word's sentiment for these foundations is positive, whereas a word  whose sentiments for each  \n",
    "foundation is negative will be assigned five `vice` scores (e.g., harm, cheating,  betrayal, subversion, and degradation). \n",
    "\n",
    "***\n",
    "\n",
    "Based on the above, there is a total of 4 different options how the eMFD can be used.  \n",
    "The specific usage of each and use case is explicated below. "
   ]
  },
  {
   "cell_type": "markdown",
   "metadata": {},
   "source": [
    "#### eMFDScore Command-Line Options"
   ]
  },
  {
   "cell_type": "markdown",
   "metadata": {},
   "source": [
    "A typical command for eMFDScore specifies the following:\n",
    "\n",
    "`$ emfdscore [INPUT_FILE][OUTPUT_FILE][SCORING_METHOD][DICT_TYPE[prob-map][output_metrics]]`"
   ]
  },
  {
   "cell_type": "markdown",
   "metadata": {},
   "source": [
    "When using eMFDscore, several inputs need to be defined in a specific order: \n",
    "\n",
    "- [INPUT_FILE]: = The path to a CSV file in which the first column contains the document texts to be scored.  \n",
    "  Each row should reflect its own document. See the template_input.csv for an example file format.\n",
    "  \n",
    "  \n",
    "- [OUTPUT_FILE] = Specifies the file name of the generated output csv.\n",
    "\n",
    "\n",
    "- [SCORING_METHOD] = Currently, eMFDscore employs three different scoring algorithms:\n",
    "    - `bow` is a classical Bag-of-Words approach in which the algorithm simply searches for word matches between document texts and the specified dictionary.\n",
    "    - `pat` (in development) relies on named entity recognition and syntactic dependency parsing. For each document, the algorithm first extracts all mentioned entities.  \n",
    "    Next, for each entitiy, eMFDscore extracts words that pertain to 1) moral verbs for which the entity is an agent argument (Agent verbs), 2) moral verbs for  \n",
    "    which the entity is the patient, theme, or other argument (Patient verbs), and other moral attributes (i.e., adjectival modifiers, appositives, etc.).\n",
    "    - `wordlist` is a simple scoring algorithm that lets users examine the moral content of individual words. This scoring method expects a CSV where each row corresponds  \n",
    "    to a unique word. Note: The wordlist scoring algorithm does not perform any tokenization or preprocessing on the wordlists.   \n",
    "    For a more fine-grained moral content extraction, users are encouraged to use either the bow or path methodology. Furthermore, only the emfd is currenlty supported for PAT extraction.   \n",
    "    Additionally, this method is more computationally expensive and thus has a longer execution time.\n",
    "    - `gdelt.ngrams` is designed for the Global Database of Events, Language, and Tone Television Ngram dataset.   \n",
    "    This scoring method expects a unigram (1gram) input text file from GDELT and will score each unprocessed (untokenized) unigram with the eMFD.\n",
    "    \n",
    "    \n",
    "- [DICTIONARY_TYPE] = Declares which dictionary is applied to score documents. In its current version, eMFDscore lets users choose between three dictionaries:\n",
    "    - `emfd` = extended Moral Foundations Dictionary (eMFD)\n",
    "    - `mfd2` = Moral Foundations Dicitonary 2.0 (Frimer et al., 2017; https://osf.io/xakyw/ )\n",
    "    - `mfd` = original Moral Foundations Dictionary (https://moralfoundations.org/othermaterials)\n",
    "\n",
    "\n",
    "- When choosing the eMFD; the following two additional flags need to be defined:\n",
    "    - [PROB_MAP]: How are the foundation probabilities mapped when scoring a document? \n",
    "        - `all` : use all probabilities per word in the eMFD\n",
    "        - `single`: Assign a single probability to each word in the eMFD according to the foundation with the highest probability\n",
    "           \n",
    "    - [OUTPUT_METRICS]: Which metrics are returned? \n",
    "        - `sentiment`: Return the average sentiment for each foundation\n",
    "        - `vice-virtue`: Split foundations into a vice-virtue category"
   ]
  },
  {
   "cell_type": "markdown",
   "metadata": {},
   "source": [
    "#### Scoring Documents with the eMFD"
   ]
  },
  {
   "cell_type": "markdown",
   "metadata": {},
   "source": [
    "Below, we illustrate the various text scoring options in eMFDscore.  \n",
    "For this purpose, we will be using a CSV file in which each row corresponds to  \n",
    "a news article text. "
   ]
  },
  {
   "cell_type": "code",
   "execution_count": 2,
   "metadata": {},
   "outputs": [
    {
     "data": {
      "text/html": [
       "<div>\n",
       "<style scoped>\n",
       "    .dataframe tbody tr th:only-of-type {\n",
       "        vertical-align: middle;\n",
       "    }\n",
       "\n",
       "    .dataframe tbody tr th {\n",
       "        vertical-align: top;\n",
       "    }\n",
       "\n",
       "    .dataframe thead th {\n",
       "        text-align: right;\n",
       "    }\n",
       "</style>\n",
       "<table border=\"1\" class=\"dataframe\">\n",
       "  <thead>\n",
       "    <tr style=\"text-align: right;\">\n",
       "      <th></th>\n",
       "      <th>0</th>\n",
       "    </tr>\n",
       "  </thead>\n",
       "  <tbody>\n",
       "    <tr>\n",
       "      <th>0</th>\n",
       "      <td>The Iraqi government's assault to retake the c...</td>\n",
       "    </tr>\n",
       "    <tr>\n",
       "      <th>1</th>\n",
       "      <td>WASHINGTON -- North Korea now has the capabili...</td>\n",
       "    </tr>\n",
       "    <tr>\n",
       "      <th>2</th>\n",
       "      <td>TEL AVIV – An Egyptian journalist wrote an op-...</td>\n",
       "    </tr>\n",
       "    <tr>\n",
       "      <th>3</th>\n",
       "      <td>What was life like for Russians such as Tsar N...</td>\n",
       "    </tr>\n",
       "    <tr>\n",
       "      <th>4</th>\n",
       "      <td>President Obama's former national security adv...</td>\n",
       "    </tr>\n",
       "  </tbody>\n",
       "</table>\n",
       "</div>"
      ],
      "text/plain": [
       "                                                   0\n",
       "0  The Iraqi government's assault to retake the c...\n",
       "1  WASHINGTON -- North Korea now has the capabili...\n",
       "2  TEL AVIV – An Egyptian journalist wrote an op-...\n",
       "3  What was life like for Russians such as Tsar N...\n",
       "4  President Obama's former national security adv..."
      ]
     },
     "execution_count": 2,
     "metadata": {},
     "output_type": "execute_result"
    }
   ],
   "source": [
    "template_input = pd.read_csv('emfdscore/template_input.csv', header=None)\n",
    "template_input.head()"
   ]
  },
  {
   "cell_type": "markdown",
   "metadata": {},
   "source": [
    "#### 1. Use All Probabilities per Word and Return Sentiment Scores "
   ]
  },
  {
   "cell_type": "markdown",
   "metadata": {},
   "source": [
    "This option should be used when one wants to extract the overall, holistic moral signal from a document.  \n",
    "Note that because each word is assigned five foundation probabilities, there exist higher correlations  \n",
    "across these foundations, making this method less suitable when one wants to\n",
    "- use the foundation probabilities as predictor variables in statistical models\n",
    "- discriminate which foundations are more or less represented in a text.  \n",
    "\n",
    "For these cases, options (2) and (4) below  should be preferred. "
   ]
  },
  {
   "cell_type": "markdown",
   "metadata": {},
   "source": [
    "##### Using Python "
   ]
  },
  {
   "cell_type": "code",
   "execution_count": 3,
   "metadata": {},
   "outputs": [
    {
     "name": "stderr",
     "output_type": "stream",
     "text": [
      "Processed: 500 100% |❤❤❤❤❤❤❤❤❤❤❤❤❤❤❤❤❤❤❤❤| Elapsed Time: 0:00:39 Time:  0:00:39\n"
     ]
    }
   ],
   "source": [
    "from emfdscore.scoring import score_docs \n",
    "\n",
    "num_docs = len(template_input)\n",
    "\n",
    "DICT_TYPE = 'emfd'\n",
    "PROB_MAP = 'all'\n",
    "SCORE_METHOD = 'bow'\n",
    "OUT_METRICS = 'sentiment'\n",
    "OUT_CSV_PATH = 'all-sent.csv'\n",
    "\n",
    "df = score_docs(template_input,DICT_TYPE,PROB_MAP,SCORE_METHOD,OUT_METRICS,num_docs)\n",
    "df.to_csv(OUT_CSV_PATH, index=False)"
   ]
  },
  {
   "cell_type": "markdown",
   "metadata": {},
   "source": [
    "##### Using the Command Line"
   ]
  },
  {
   "cell_type": "code",
   "execution_count": 4,
   "metadata": {},
   "outputs": [
    {
     "name": "stdout",
     "output_type": "stream",
     "text": [
      "Running eMFDscore\n",
      "Total number of input texts to be scored: 500\n",
      "Scoring completed.\n"
     ]
    },
    {
     "name": "stderr",
     "output_type": "stream",
     "text": [
      "Processed: 500 100% |❤❤❤❤❤❤❤❤❤❤❤❤❤❤❤❤❤❤❤❤| Elapsed Time: 0:00:38 Time:  0:00:38\n"
     ]
    }
   ],
   "source": [
    "%%bash\n",
    "emfdscore emfdscore/template_input.csv all-sent.csv bow emfd all sentiment"
   ]
  },
  {
   "cell_type": "code",
   "execution_count": 5,
   "metadata": {},
   "outputs": [
    {
     "data": {
      "text/html": [
       "<div>\n",
       "<style scoped>\n",
       "    .dataframe tbody tr th:only-of-type {\n",
       "        vertical-align: middle;\n",
       "    }\n",
       "\n",
       "    .dataframe tbody tr th {\n",
       "        vertical-align: top;\n",
       "    }\n",
       "\n",
       "    .dataframe thead th {\n",
       "        text-align: right;\n",
       "    }\n",
       "</style>\n",
       "<table border=\"1\" class=\"dataframe\">\n",
       "  <thead>\n",
       "    <tr style=\"text-align: right;\">\n",
       "      <th></th>\n",
       "      <th>care_p</th>\n",
       "      <th>fairness_p</th>\n",
       "      <th>loyalty_p</th>\n",
       "      <th>authority_p</th>\n",
       "      <th>sanctity_p</th>\n",
       "      <th>care_sent</th>\n",
       "      <th>fairness_sent</th>\n",
       "      <th>loyalty_sent</th>\n",
       "      <th>authority_sent</th>\n",
       "      <th>sanctity_sent</th>\n",
       "      <th>moral_nonmoral_ratio</th>\n",
       "      <th>f_var</th>\n",
       "      <th>sent_var</th>\n",
       "    </tr>\n",
       "  </thead>\n",
       "  <tbody>\n",
       "    <tr>\n",
       "      <th>0</th>\n",
       "      <td>0.135488</td>\n",
       "      <td>0.103978</td>\n",
       "      <td>0.097914</td>\n",
       "      <td>0.104486</td>\n",
       "      <td>0.083446</td>\n",
       "      <td>-0.151964</td>\n",
       "      <td>-0.122982</td>\n",
       "      <td>-0.101907</td>\n",
       "      <td>-0.102609</td>\n",
       "      <td>-0.110386</td>\n",
       "      <td>2.417722</td>\n",
       "      <td>0.000361</td>\n",
       "      <td>0.000433</td>\n",
       "    </tr>\n",
       "    <tr>\n",
       "      <th>1</th>\n",
       "      <td>0.112714</td>\n",
       "      <td>0.087392</td>\n",
       "      <td>0.090776</td>\n",
       "      <td>0.098351</td>\n",
       "      <td>0.069435</td>\n",
       "      <td>-0.143459</td>\n",
       "      <td>-0.061835</td>\n",
       "      <td>-0.046722</td>\n",
       "      <td>-0.064888</td>\n",
       "      <td>-0.088798</td>\n",
       "      <td>1.669903</td>\n",
       "      <td>0.000250</td>\n",
       "      <td>0.001441</td>\n",
       "    </tr>\n",
       "    <tr>\n",
       "      <th>2</th>\n",
       "      <td>0.114769</td>\n",
       "      <td>0.103932</td>\n",
       "      <td>0.094078</td>\n",
       "      <td>0.096782</td>\n",
       "      <td>0.089199</td>\n",
       "      <td>-0.157342</td>\n",
       "      <td>-0.132494</td>\n",
       "      <td>-0.074078</td>\n",
       "      <td>-0.091602</td>\n",
       "      <td>-0.098686</td>\n",
       "      <td>0.791411</td>\n",
       "      <td>0.000099</td>\n",
       "      <td>0.001125</td>\n",
       "    </tr>\n",
       "    <tr>\n",
       "      <th>3</th>\n",
       "      <td>0.090146</td>\n",
       "      <td>0.085675</td>\n",
       "      <td>0.086087</td>\n",
       "      <td>0.092897</td>\n",
       "      <td>0.070704</td>\n",
       "      <td>-0.069739</td>\n",
       "      <td>-0.013825</td>\n",
       "      <td>0.019261</td>\n",
       "      <td>-0.030559</td>\n",
       "      <td>-0.051676</td>\n",
       "      <td>1.051948</td>\n",
       "      <td>0.000074</td>\n",
       "      <td>0.001184</td>\n",
       "    </tr>\n",
       "    <tr>\n",
       "      <th>4</th>\n",
       "      <td>0.093715</td>\n",
       "      <td>0.088627</td>\n",
       "      <td>0.094254</td>\n",
       "      <td>0.094601</td>\n",
       "      <td>0.070870</td>\n",
       "      <td>-0.109248</td>\n",
       "      <td>-0.057367</td>\n",
       "      <td>-0.013941</td>\n",
       "      <td>-0.037166</td>\n",
       "      <td>-0.086024</td>\n",
       "      <td>1.464481</td>\n",
       "      <td>0.000102</td>\n",
       "      <td>0.001437</td>\n",
       "    </tr>\n",
       "  </tbody>\n",
       "</table>\n",
       "</div>"
      ],
      "text/plain": [
       "     care_p  fairness_p  loyalty_p  authority_p  sanctity_p  care_sent  \\\n",
       "0  0.135488    0.103978   0.097914     0.104486    0.083446  -0.151964   \n",
       "1  0.112714    0.087392   0.090776     0.098351    0.069435  -0.143459   \n",
       "2  0.114769    0.103932   0.094078     0.096782    0.089199  -0.157342   \n",
       "3  0.090146    0.085675   0.086087     0.092897    0.070704  -0.069739   \n",
       "4  0.093715    0.088627   0.094254     0.094601    0.070870  -0.109248   \n",
       "\n",
       "   fairness_sent  loyalty_sent  authority_sent  sanctity_sent  \\\n",
       "0      -0.122982     -0.101907       -0.102609      -0.110386   \n",
       "1      -0.061835     -0.046722       -0.064888      -0.088798   \n",
       "2      -0.132494     -0.074078       -0.091602      -0.098686   \n",
       "3      -0.013825      0.019261       -0.030559      -0.051676   \n",
       "4      -0.057367     -0.013941       -0.037166      -0.086024   \n",
       "\n",
       "   moral_nonmoral_ratio     f_var  sent_var  \n",
       "0              2.417722  0.000361  0.000433  \n",
       "1              1.669903  0.000250  0.001441  \n",
       "2              0.791411  0.000099  0.001125  \n",
       "3              1.051948  0.000074  0.001184  \n",
       "4              1.464481  0.000102  0.001437  "
      ]
     },
     "execution_count": 5,
     "metadata": {},
     "output_type": "execute_result"
    }
   ],
   "source": [
    "# Inspect output \n",
    "all_sent = pd.read_csv('all-sent.csv')\n",
    "all_sent.head()"
   ]
  },
  {
   "cell_type": "markdown",
   "metadata": {},
   "source": [
    "As the above dataframe illustrates, each document is assigned 5 foundation probabilities that  \n",
    "denote the average probabilty of each document belonging to one of the five moral foundations and  \n",
    "5 sentiment scores that describe the average sentiment of detected moral words for that foundation.  \n",
    "\n",
    "In addition, eMFDscore always returns the detected moral-to-nonmoral word ratio(`moral_nonmoral_ratio`),  \n",
    "along with the variance across the foundation scores (`f_var`) as well as the variance across the sentiment scores (`sent_var`). "
   ]
  },
  {
   "cell_type": "markdown",
   "metadata": {},
   "source": [
    "***"
   ]
  },
  {
   "cell_type": "markdown",
   "metadata": {},
   "source": [
    "#### 2. Assign Single Probability per Word and Return Sentiment Scores "
   ]
  },
  {
   "cell_type": "markdown",
   "metadata": {},
   "source": [
    "##### Using Python "
   ]
  },
  {
   "cell_type": "code",
   "execution_count": 6,
   "metadata": {},
   "outputs": [
    {
     "name": "stderr",
     "output_type": "stream",
     "text": [
      "Processed: 500 100% |❤❤❤❤❤❤❤❤❤❤❤❤❤❤❤❤❤❤❤❤| Elapsed Time: 0:00:41 Time:  0:00:41\n"
     ]
    }
   ],
   "source": [
    "from emfdscore.scoring import score_docs \n",
    "\n",
    "num_docs = len(template_input)\n",
    "\n",
    "DICT_TYPE = 'emfd'\n",
    "PROB_MAP = 'single'\n",
    "SCORE_METHOD = 'bow'\n",
    "OUT_METRICS = 'sentiment'\n",
    "OUT_CSV_PATH = 'single-sent.csv'\n",
    "\n",
    "df = score_docs(template_input,DICT_TYPE,PROB_MAP,SCORE_METHOD,OUT_METRICS,num_docs)\n",
    "df.to_csv(OUT_CSV_PATH, index=False)"
   ]
  },
  {
   "cell_type": "markdown",
   "metadata": {},
   "source": [
    "##### Using the Command Line"
   ]
  },
  {
   "cell_type": "code",
   "execution_count": 7,
   "metadata": {},
   "outputs": [
    {
     "name": "stdout",
     "output_type": "stream",
     "text": [
      "Running eMFDscore\n",
      "Total number of input texts to be scored: 500\n",
      "Scoring completed.\n"
     ]
    },
    {
     "name": "stderr",
     "output_type": "stream",
     "text": [
      "Processed: 500 100% |❤❤❤❤❤❤❤❤❤❤❤❤❤❤❤❤❤❤❤❤| Elapsed Time: 0:00:37 Time:  0:00:37\n"
     ]
    }
   ],
   "source": [
    "%%bash\n",
    "emfdscore emfdscore/template_input.csv single-sent.csv bow emfd single sentiment"
   ]
  },
  {
   "cell_type": "code",
   "execution_count": 8,
   "metadata": {},
   "outputs": [
    {
     "data": {
      "text/html": [
       "<div>\n",
       "<style scoped>\n",
       "    .dataframe tbody tr th:only-of-type {\n",
       "        vertical-align: middle;\n",
       "    }\n",
       "\n",
       "    .dataframe tbody tr th {\n",
       "        vertical-align: top;\n",
       "    }\n",
       "\n",
       "    .dataframe thead th {\n",
       "        text-align: right;\n",
       "    }\n",
       "</style>\n",
       "<table border=\"1\" class=\"dataframe\">\n",
       "  <thead>\n",
       "    <tr style=\"text-align: right;\">\n",
       "      <th></th>\n",
       "      <th>care_p</th>\n",
       "      <th>fairness_p</th>\n",
       "      <th>loyalty_p</th>\n",
       "      <th>authority_p</th>\n",
       "      <th>sanctity_p</th>\n",
       "      <th>care_sent</th>\n",
       "      <th>fairness_sent</th>\n",
       "      <th>loyalty_sent</th>\n",
       "      <th>authority_sent</th>\n",
       "      <th>sanctity_sent</th>\n",
       "      <th>moral_nonmoral_ratio</th>\n",
       "      <th>f_var</th>\n",
       "      <th>sent_var</th>\n",
       "    </tr>\n",
       "  </thead>\n",
       "  <tbody>\n",
       "    <tr>\n",
       "      <th>0</th>\n",
       "      <td>0.077193</td>\n",
       "      <td>0.027206</td>\n",
       "      <td>0.021363</td>\n",
       "      <td>0.031303</td>\n",
       "      <td>0.002395</td>\n",
       "      <td>-0.083485</td>\n",
       "      <td>-0.009629</td>\n",
       "      <td>0.001919</td>\n",
       "      <td>-0.018307</td>\n",
       "      <td>-0.000161</td>\n",
       "      <td>2.417722</td>\n",
       "      <td>0.000764</td>\n",
       "      <td>0.001249</td>\n",
       "    </tr>\n",
       "    <tr>\n",
       "      <th>1</th>\n",
       "      <td>0.064650</td>\n",
       "      <td>0.016021</td>\n",
       "      <td>0.029611</td>\n",
       "      <td>0.028144</td>\n",
       "      <td>0.002409</td>\n",
       "      <td>-0.083103</td>\n",
       "      <td>-0.002864</td>\n",
       "      <td>-0.010275</td>\n",
       "      <td>-0.015872</td>\n",
       "      <td>-0.001872</td>\n",
       "      <td>1.669903</td>\n",
       "      <td>0.000536</td>\n",
       "      <td>0.001169</td>\n",
       "    </tr>\n",
       "    <tr>\n",
       "      <th>2</th>\n",
       "      <td>0.056653</td>\n",
       "      <td>0.034186</td>\n",
       "      <td>0.025006</td>\n",
       "      <td>0.021561</td>\n",
       "      <td>0.016780</td>\n",
       "      <td>-0.093639</td>\n",
       "      <td>-0.013310</td>\n",
       "      <td>-0.001213</td>\n",
       "      <td>-0.012562</td>\n",
       "      <td>-0.017463</td>\n",
       "      <td>0.791411</td>\n",
       "      <td>0.000249</td>\n",
       "      <td>0.001398</td>\n",
       "    </tr>\n",
       "    <tr>\n",
       "      <th>3</th>\n",
       "      <td>0.024518</td>\n",
       "      <td>0.025494</td>\n",
       "      <td>0.021833</td>\n",
       "      <td>0.041092</td>\n",
       "      <td>0.012537</td>\n",
       "      <td>-0.032878</td>\n",
       "      <td>0.001872</td>\n",
       "      <td>0.004439</td>\n",
       "      <td>0.000244</td>\n",
       "      <td>-0.005171</td>\n",
       "      <td>1.051948</td>\n",
       "      <td>0.000106</td>\n",
       "      <td>0.000233</td>\n",
       "    </tr>\n",
       "    <tr>\n",
       "      <th>4</th>\n",
       "      <td>0.035749</td>\n",
       "      <td>0.028048</td>\n",
       "      <td>0.028456</td>\n",
       "      <td>0.036979</td>\n",
       "      <td>0.006093</td>\n",
       "      <td>-0.032270</td>\n",
       "      <td>-0.018531</td>\n",
       "      <td>0.003611</td>\n",
       "      <td>-0.003783</td>\n",
       "      <td>-0.002514</td>\n",
       "      <td>1.464481</td>\n",
       "      <td>0.000154</td>\n",
       "      <td>0.000212</td>\n",
       "    </tr>\n",
       "  </tbody>\n",
       "</table>\n",
       "</div>"
      ],
      "text/plain": [
       "     care_p  fairness_p  loyalty_p  authority_p  sanctity_p  care_sent  \\\n",
       "0  0.077193    0.027206   0.021363     0.031303    0.002395  -0.083485   \n",
       "1  0.064650    0.016021   0.029611     0.028144    0.002409  -0.083103   \n",
       "2  0.056653    0.034186   0.025006     0.021561    0.016780  -0.093639   \n",
       "3  0.024518    0.025494   0.021833     0.041092    0.012537  -0.032878   \n",
       "4  0.035749    0.028048   0.028456     0.036979    0.006093  -0.032270   \n",
       "\n",
       "   fairness_sent  loyalty_sent  authority_sent  sanctity_sent  \\\n",
       "0      -0.009629      0.001919       -0.018307      -0.000161   \n",
       "1      -0.002864     -0.010275       -0.015872      -0.001872   \n",
       "2      -0.013310     -0.001213       -0.012562      -0.017463   \n",
       "3       0.001872      0.004439        0.000244      -0.005171   \n",
       "4      -0.018531      0.003611       -0.003783      -0.002514   \n",
       "\n",
       "   moral_nonmoral_ratio     f_var  sent_var  \n",
       "0              2.417722  0.000764  0.001249  \n",
       "1              1.669903  0.000536  0.001169  \n",
       "2              0.791411  0.000249  0.001398  \n",
       "3              1.051948  0.000106  0.000233  \n",
       "4              1.464481  0.000154  0.000212  "
      ]
     },
     "execution_count": 8,
     "metadata": {},
     "output_type": "execute_result"
    }
   ],
   "source": [
    "# Inspect output \n",
    "single_sent = pd.read_csv('single-sent.csv')\n",
    "single_sent.head()"
   ]
  },
  {
   "cell_type": "markdown",
   "metadata": {},
   "source": [
    "Here, the returned output is the same as in option (1) above, although every word was assigned  \n",
    "only one probability score when scoring the document. "
   ]
  },
  {
   "cell_type": "markdown",
   "metadata": {},
   "source": [
    "***"
   ]
  },
  {
   "cell_type": "markdown",
   "metadata": {},
   "source": [
    "#### 3. Use All Probabilities per Word and Return Vice-Virtue Scores"
   ]
  },
  {
   "cell_type": "markdown",
   "metadata": {},
   "source": [
    "##### Using Python"
   ]
  },
  {
   "cell_type": "code",
   "execution_count": 9,
   "metadata": {},
   "outputs": [
    {
     "name": "stderr",
     "output_type": "stream",
     "text": [
      "Processed: 500 100% |❤❤❤❤❤❤❤❤❤❤❤❤❤❤❤❤❤❤❤❤| Elapsed Time: 0:00:38 Time:  0:00:38\n"
     ]
    }
   ],
   "source": [
    "from emfdscore.scoring import score_docs \n",
    "\n",
    "num_docs = len(template_input)\n",
    "\n",
    "DICT_TYPE = 'emfd'\n",
    "PROB_MAP = 'all'\n",
    "SCORE_METHOD = 'bow'\n",
    "OUT_METRICS = 'vice-virtue'\n",
    "OUT_CSV_PATH = 'all-vv.csv'\n",
    "\n",
    "df = score_docs(template_input,DICT_TYPE,PROB_MAP,SCORE_METHOD,OUT_METRICS,num_docs)\n",
    "df.to_csv(OUT_CSV_PATH, index=False)"
   ]
  },
  {
   "cell_type": "markdown",
   "metadata": {},
   "source": [
    "##### Using the Command Line"
   ]
  },
  {
   "cell_type": "code",
   "execution_count": 10,
   "metadata": {},
   "outputs": [
    {
     "name": "stdout",
     "output_type": "stream",
     "text": [
      "Running eMFDscore\n",
      "Total number of input texts to be scored: 500\n",
      "Scoring completed.\n"
     ]
    },
    {
     "name": "stderr",
     "output_type": "stream",
     "text": [
      "Processed: 500 100% |❤❤❤❤❤❤❤❤❤❤❤❤❤❤❤❤❤❤❤❤| Elapsed Time: 0:00:37 Time:  0:00:37\n"
     ]
    }
   ],
   "source": [
    "%%bash\n",
    "emfdscore emfdscore/template_input.csv all-vv.csv bow emfd all vice-virtue"
   ]
  },
  {
   "cell_type": "code",
   "execution_count": 11,
   "metadata": {},
   "outputs": [
    {
     "data": {
      "text/html": [
       "<div>\n",
       "<style scoped>\n",
       "    .dataframe tbody tr th:only-of-type {\n",
       "        vertical-align: middle;\n",
       "    }\n",
       "\n",
       "    .dataframe tbody tr th {\n",
       "        vertical-align: top;\n",
       "    }\n",
       "\n",
       "    .dataframe thead th {\n",
       "        text-align: right;\n",
       "    }\n",
       "</style>\n",
       "<table border=\"1\" class=\"dataframe\">\n",
       "  <thead>\n",
       "    <tr style=\"text-align: right;\">\n",
       "      <th></th>\n",
       "      <th>care.virtue</th>\n",
       "      <th>fairness.virtue</th>\n",
       "      <th>loyalty.virtue</th>\n",
       "      <th>authority.virtue</th>\n",
       "      <th>sanctity.virtue</th>\n",
       "      <th>care.vice</th>\n",
       "      <th>fairness.vice</th>\n",
       "      <th>loyalty.vice</th>\n",
       "      <th>authority.vice</th>\n",
       "      <th>sanctity.vice</th>\n",
       "      <th>moral_nonmoral_ratio</th>\n",
       "      <th>f_var</th>\n",
       "    </tr>\n",
       "  </thead>\n",
       "  <tbody>\n",
       "    <tr>\n",
       "      <th>0</th>\n",
       "      <td>0.021779</td>\n",
       "      <td>0.021534</td>\n",
       "      <td>0.034007</td>\n",
       "      <td>0.022967</td>\n",
       "      <td>0.019689</td>\n",
       "      <td>0.112803</td>\n",
       "      <td>0.082147</td>\n",
       "      <td>0.063907</td>\n",
       "      <td>0.080426</td>\n",
       "      <td>0.062221</td>\n",
       "      <td>2.417722</td>\n",
       "      <td>0.001079</td>\n",
       "    </tr>\n",
       "    <tr>\n",
       "      <th>1</th>\n",
       "      <td>0.019605</td>\n",
       "      <td>0.029767</td>\n",
       "      <td>0.035892</td>\n",
       "      <td>0.029407</td>\n",
       "      <td>0.027932</td>\n",
       "      <td>0.092908</td>\n",
       "      <td>0.056936</td>\n",
       "      <td>0.053830</td>\n",
       "      <td>0.067442</td>\n",
       "      <td>0.039905</td>\n",
       "      <td>1.669903</td>\n",
       "      <td>0.000504</td>\n",
       "    </tr>\n",
       "    <tr>\n",
       "      <th>2</th>\n",
       "      <td>0.020196</td>\n",
       "      <td>0.028297</td>\n",
       "      <td>0.030178</td>\n",
       "      <td>0.031877</td>\n",
       "      <td>0.025163</td>\n",
       "      <td>0.093601</td>\n",
       "      <td>0.075635</td>\n",
       "      <td>0.063162</td>\n",
       "      <td>0.063838</td>\n",
       "      <td>0.063394</td>\n",
       "      <td>0.791411</td>\n",
       "      <td>0.000644</td>\n",
       "    </tr>\n",
       "    <tr>\n",
       "      <th>3</th>\n",
       "      <td>0.023391</td>\n",
       "      <td>0.037495</td>\n",
       "      <td>0.040412</td>\n",
       "      <td>0.034631</td>\n",
       "      <td>0.028299</td>\n",
       "      <td>0.066477</td>\n",
       "      <td>0.047443</td>\n",
       "      <td>0.045462</td>\n",
       "      <td>0.058114</td>\n",
       "      <td>0.041576</td>\n",
       "      <td>1.051948</td>\n",
       "      <td>0.000168</td>\n",
       "    </tr>\n",
       "    <tr>\n",
       "      <th>4</th>\n",
       "      <td>0.021151</td>\n",
       "      <td>0.033509</td>\n",
       "      <td>0.043392</td>\n",
       "      <td>0.046873</td>\n",
       "      <td>0.022972</td>\n",
       "      <td>0.072061</td>\n",
       "      <td>0.055008</td>\n",
       "      <td>0.050768</td>\n",
       "      <td>0.046851</td>\n",
       "      <td>0.047825</td>\n",
       "      <td>1.464481</td>\n",
       "      <td>0.000229</td>\n",
       "    </tr>\n",
       "  </tbody>\n",
       "</table>\n",
       "</div>"
      ],
      "text/plain": [
       "   care.virtue  fairness.virtue  loyalty.virtue  authority.virtue  \\\n",
       "0     0.021779         0.021534        0.034007          0.022967   \n",
       "1     0.019605         0.029767        0.035892          0.029407   \n",
       "2     0.020196         0.028297        0.030178          0.031877   \n",
       "3     0.023391         0.037495        0.040412          0.034631   \n",
       "4     0.021151         0.033509        0.043392          0.046873   \n",
       "\n",
       "   sanctity.virtue  care.vice  fairness.vice  loyalty.vice  authority.vice  \\\n",
       "0         0.019689   0.112803       0.082147      0.063907        0.080426   \n",
       "1         0.027932   0.092908       0.056936      0.053830        0.067442   \n",
       "2         0.025163   0.093601       0.075635      0.063162        0.063838   \n",
       "3         0.028299   0.066477       0.047443      0.045462        0.058114   \n",
       "4         0.022972   0.072061       0.055008      0.050768        0.046851   \n",
       "\n",
       "   sanctity.vice  moral_nonmoral_ratio     f_var  \n",
       "0       0.062221              2.417722  0.001079  \n",
       "1       0.039905              1.669903  0.000504  \n",
       "2       0.063394              0.791411  0.000644  \n",
       "3       0.041576              1.051948  0.000168  \n",
       "4       0.047825              1.464481  0.000229  "
      ]
     },
     "execution_count": 11,
     "metadata": {},
     "output_type": "execute_result"
    }
   ],
   "source": [
    "# Inspect output \n",
    "all_vv = pd.read_csv('all-vv.csv')\n",
    "all_vv.head()"
   ]
  },
  {
   "cell_type": "markdown",
   "metadata": {},
   "source": [
    "As this output illustrates, each document is assigned 10 foundation scores that indicate the degree to which  \n",
    "each document reflects either a `virtue` or a `vice` foundation. In this option, every word in the eMFD is assigned  \n",
    "five probability scores when scoring the document. \n"
   ]
  },
  {
   "cell_type": "markdown",
   "metadata": {},
   "source": [
    "***"
   ]
  },
  {
   "cell_type": "markdown",
   "metadata": {},
   "source": [
    "#### 4. Assign Single Probability per Word and Return Vice-Virtue Scores"
   ]
  },
  {
   "cell_type": "markdown",
   "metadata": {},
   "source": [
    "##### Using Python"
   ]
  },
  {
   "cell_type": "code",
   "execution_count": 12,
   "metadata": {},
   "outputs": [
    {
     "name": "stderr",
     "output_type": "stream",
     "text": [
      "Processed: 500 100% |❤❤❤❤❤❤❤❤❤❤❤❤❤❤❤❤❤❤❤❤| Elapsed Time: 0:00:39 Time:  0:00:39\n"
     ]
    }
   ],
   "source": [
    "from emfdscore.scoring import score_docs \n",
    "\n",
    "num_docs = len(template_input)\n",
    "\n",
    "DICT_TYPE = 'emfd'\n",
    "PROB_MAP = 'single'\n",
    "SCORE_METHOD = 'bow'\n",
    "OUT_METRICS = 'vice-virtue'\n",
    "OUT_CSV_PATH = 'single-vv.csv'\n",
    "\n",
    "df = score_docs(template_input,DICT_TYPE,PROB_MAP,SCORE_METHOD,OUT_METRICS,num_docs)\n",
    "df.to_csv(OUT_CSV_PATH, index=False)"
   ]
  },
  {
   "cell_type": "markdown",
   "metadata": {},
   "source": [
    "##### Using the Command Line"
   ]
  },
  {
   "cell_type": "code",
   "execution_count": 13,
   "metadata": {},
   "outputs": [
    {
     "name": "stdout",
     "output_type": "stream",
     "text": [
      "Running eMFDscore\n",
      "Total number of input texts to be scored: 500\n",
      "Scoring completed.\n"
     ]
    },
    {
     "name": "stderr",
     "output_type": "stream",
     "text": [
      "Processed: 500 100% |❤❤❤❤❤❤❤❤❤❤❤❤❤❤❤❤❤❤❤❤| Elapsed Time: 0:00:37 Time:  0:00:37\n"
     ]
    }
   ],
   "source": [
    "%%bash\n",
    "emfdscore emfdscore/template_input.csv single-vv.csv bow emfd single vice-virtue"
   ]
  },
  {
   "cell_type": "code",
   "execution_count": 14,
   "metadata": {},
   "outputs": [
    {
     "data": {
      "text/html": [
       "<div>\n",
       "<style scoped>\n",
       "    .dataframe tbody tr th:only-of-type {\n",
       "        vertical-align: middle;\n",
       "    }\n",
       "\n",
       "    .dataframe tbody tr th {\n",
       "        vertical-align: top;\n",
       "    }\n",
       "\n",
       "    .dataframe thead th {\n",
       "        text-align: right;\n",
       "    }\n",
       "</style>\n",
       "<table border=\"1\" class=\"dataframe\">\n",
       "  <thead>\n",
       "    <tr style=\"text-align: right;\">\n",
       "      <th></th>\n",
       "      <th>care.virtue</th>\n",
       "      <th>fairness.virtue</th>\n",
       "      <th>loyalty.virtue</th>\n",
       "      <th>authority.virtue</th>\n",
       "      <th>sanctity.virtue</th>\n",
       "      <th>care.vice</th>\n",
       "      <th>fairness.vice</th>\n",
       "      <th>loyalty.vice</th>\n",
       "      <th>authority.vice</th>\n",
       "      <th>sanctity.vice</th>\n",
       "      <th>moral_nonmoral_ratio</th>\n",
       "      <th>f_var</th>\n",
       "    </tr>\n",
       "  </thead>\n",
       "  <tbody>\n",
       "    <tr>\n",
       "      <th>0</th>\n",
       "      <td>0.010051</td>\n",
       "      <td>0.007087</td>\n",
       "      <td>0.012290</td>\n",
       "      <td>0.006542</td>\n",
       "      <td>0.000785</td>\n",
       "      <td>0.067142</td>\n",
       "      <td>0.020119</td>\n",
       "      <td>0.009073</td>\n",
       "      <td>0.024761</td>\n",
       "      <td>0.001609</td>\n",
       "      <td>2.417722</td>\n",
       "      <td>0.000379</td>\n",
       "    </tr>\n",
       "    <tr>\n",
       "      <th>1</th>\n",
       "      <td>0.005495</td>\n",
       "      <td>0.006633</td>\n",
       "      <td>0.007176</td>\n",
       "      <td>0.006936</td>\n",
       "      <td>0.000807</td>\n",
       "      <td>0.059155</td>\n",
       "      <td>0.009388</td>\n",
       "      <td>0.022435</td>\n",
       "      <td>0.021208</td>\n",
       "      <td>0.001602</td>\n",
       "      <td>1.669903</td>\n",
       "      <td>0.000304</td>\n",
       "    </tr>\n",
       "    <tr>\n",
       "      <th>2</th>\n",
       "      <td>0.002963</td>\n",
       "      <td>0.011010</td>\n",
       "      <td>0.009599</td>\n",
       "      <td>0.005253</td>\n",
       "      <td>0.001987</td>\n",
       "      <td>0.053690</td>\n",
       "      <td>0.023176</td>\n",
       "      <td>0.015406</td>\n",
       "      <td>0.016309</td>\n",
       "      <td>0.014793</td>\n",
       "      <td>0.791411</td>\n",
       "      <td>0.000224</td>\n",
       "    </tr>\n",
       "    <tr>\n",
       "      <th>3</th>\n",
       "      <td>0.003055</td>\n",
       "      <td>0.013070</td>\n",
       "      <td>0.010188</td>\n",
       "      <td>0.013894</td>\n",
       "      <td>0.002241</td>\n",
       "      <td>0.021463</td>\n",
       "      <td>0.012423</td>\n",
       "      <td>0.011644</td>\n",
       "      <td>0.027198</td>\n",
       "      <td>0.010296</td>\n",
       "      <td>1.051948</td>\n",
       "      <td>0.000056</td>\n",
       "    </tr>\n",
       "    <tr>\n",
       "      <th>4</th>\n",
       "      <td>0.008476</td>\n",
       "      <td>0.009681</td>\n",
       "      <td>0.012314</td>\n",
       "      <td>0.022428</td>\n",
       "      <td>0.002606</td>\n",
       "      <td>0.027273</td>\n",
       "      <td>0.018368</td>\n",
       "      <td>0.016142</td>\n",
       "      <td>0.014551</td>\n",
       "      <td>0.003487</td>\n",
       "      <td>1.464481</td>\n",
       "      <td>0.000062</td>\n",
       "    </tr>\n",
       "  </tbody>\n",
       "</table>\n",
       "</div>"
      ],
      "text/plain": [
       "   care.virtue  fairness.virtue  loyalty.virtue  authority.virtue  \\\n",
       "0     0.010051         0.007087        0.012290          0.006542   \n",
       "1     0.005495         0.006633        0.007176          0.006936   \n",
       "2     0.002963         0.011010        0.009599          0.005253   \n",
       "3     0.003055         0.013070        0.010188          0.013894   \n",
       "4     0.008476         0.009681        0.012314          0.022428   \n",
       "\n",
       "   sanctity.virtue  care.vice  fairness.vice  loyalty.vice  authority.vice  \\\n",
       "0         0.000785   0.067142       0.020119      0.009073        0.024761   \n",
       "1         0.000807   0.059155       0.009388      0.022435        0.021208   \n",
       "2         0.001987   0.053690       0.023176      0.015406        0.016309   \n",
       "3         0.002241   0.021463       0.012423      0.011644        0.027198   \n",
       "4         0.002606   0.027273       0.018368      0.016142        0.014551   \n",
       "\n",
       "   sanctity.vice  moral_nonmoral_ratio     f_var  \n",
       "0       0.001609              2.417722  0.000379  \n",
       "1       0.001602              1.669903  0.000304  \n",
       "2       0.014793              0.791411  0.000224  \n",
       "3       0.010296              1.051948  0.000056  \n",
       "4       0.003487              1.464481  0.000062  "
      ]
     },
     "execution_count": 14,
     "metadata": {},
     "output_type": "execute_result"
    }
   ],
   "source": [
    "# Inspect output \n",
    "single_vv = pd.read_csv('single-vv.csv')\n",
    "single_vv.head()"
   ]
  },
  {
   "cell_type": "markdown",
   "metadata": {},
   "source": [
    "This output is similar to option (3), although in this approach, every word in the eMFD was assigned only  \n",
    "one score according to the foundation with the highest probability. "
   ]
  },
  {
   "cell_type": "markdown",
   "metadata": {},
   "source": [
    "***"
   ]
  },
  {
   "cell_type": "markdown",
   "metadata": {},
   "source": [
    "#### Scoring Documents with the MFD2"
   ]
  },
  {
   "cell_type": "markdown",
   "metadata": {},
   "source": [
    "##### Using Python"
   ]
  },
  {
   "cell_type": "code",
   "execution_count": 15,
   "metadata": {},
   "outputs": [
    {
     "name": "stderr",
     "output_type": "stream",
     "text": [
      "Processed: 500 100% |❤❤❤❤❤❤❤❤❤❤❤❤❤❤❤❤❤❤❤❤| Elapsed Time: 0:00:40 Time:  0:00:40\n"
     ]
    }
   ],
   "source": [
    "from emfdscore.scoring import score_docs \n",
    "\n",
    "num_docs = len(template_input)\n",
    "\n",
    "DICT_TYPE = 'mfd2'\n",
    "PROB_MAP = ''\n",
    "SCORE_METHOD = 'bow'\n",
    "OUT_METRICS = ''\n",
    "OUT_CSV_PATH = 'mfd2.csv'\n",
    "\n",
    "df = score_docs(template_input,DICT_TYPE,PROB_MAP,SCORE_METHOD,OUT_METRICS,num_docs)\n",
    "df.to_csv(OUT_CSV_PATH, index=False)"
   ]
  },
  {
   "cell_type": "markdown",
   "metadata": {},
   "source": [
    "##### Using the Command Line"
   ]
  },
  {
   "cell_type": "code",
   "execution_count": 16,
   "metadata": {},
   "outputs": [
    {
     "name": "stdout",
     "output_type": "stream",
     "text": [
      "Running eMFDscore\n",
      "Total number of input texts to be scored: 500\n",
      "Scoring completed.\n"
     ]
    },
    {
     "name": "stderr",
     "output_type": "stream",
     "text": [
      "Processed: 500 100% |❤❤❤❤❤❤❤❤❤❤❤❤❤❤❤❤❤❤❤❤| Elapsed Time: 0:00:38 Time:  0:00:38\n"
     ]
    }
   ],
   "source": [
    "%%bash\n",
    "emfdscore emfdscore/template_input.csv mfd2.csv bow mfd2"
   ]
  },
  {
   "cell_type": "code",
   "execution_count": 17,
   "metadata": {},
   "outputs": [
    {
     "data": {
      "text/html": [
       "<div>\n",
       "<style scoped>\n",
       "    .dataframe tbody tr th:only-of-type {\n",
       "        vertical-align: middle;\n",
       "    }\n",
       "\n",
       "    .dataframe tbody tr th {\n",
       "        vertical-align: top;\n",
       "    }\n",
       "\n",
       "    .dataframe thead th {\n",
       "        text-align: right;\n",
       "    }\n",
       "</style>\n",
       "<table border=\"1\" class=\"dataframe\">\n",
       "  <thead>\n",
       "    <tr style=\"text-align: right;\">\n",
       "      <th></th>\n",
       "      <th>care.virtue</th>\n",
       "      <th>care.vice</th>\n",
       "      <th>authority.virtue</th>\n",
       "      <th>fairness.vice</th>\n",
       "      <th>fairness.virtue</th>\n",
       "      <th>loyalty.vice</th>\n",
       "      <th>loyalty.virtue</th>\n",
       "      <th>sanctity.virtue</th>\n",
       "      <th>authority.vice</th>\n",
       "      <th>sanctity.vice</th>\n",
       "      <th>moral_nonmoral_ratio</th>\n",
       "      <th>f_var</th>\n",
       "    </tr>\n",
       "  </thead>\n",
       "  <tbody>\n",
       "    <tr>\n",
       "      <th>0</th>\n",
       "      <td>0.142857</td>\n",
       "      <td>0.642857</td>\n",
       "      <td>0.071429</td>\n",
       "      <td>0.00</td>\n",
       "      <td>0.000000</td>\n",
       "      <td>0.0</td>\n",
       "      <td>0.071429</td>\n",
       "      <td>0.071429</td>\n",
       "      <td>0.000000</td>\n",
       "      <td>0.0</td>\n",
       "      <td>0.054688</td>\n",
       "      <td>0.038776</td>\n",
       "    </tr>\n",
       "    <tr>\n",
       "      <th>1</th>\n",
       "      <td>0.000000</td>\n",
       "      <td>0.272727</td>\n",
       "      <td>0.454545</td>\n",
       "      <td>0.00</td>\n",
       "      <td>0.000000</td>\n",
       "      <td>0.0</td>\n",
       "      <td>0.272727</td>\n",
       "      <td>0.000000</td>\n",
       "      <td>0.000000</td>\n",
       "      <td>0.0</td>\n",
       "      <td>0.041667</td>\n",
       "      <td>0.028375</td>\n",
       "    </tr>\n",
       "    <tr>\n",
       "      <th>2</th>\n",
       "      <td>0.050000</td>\n",
       "      <td>0.300000</td>\n",
       "      <td>0.100000</td>\n",
       "      <td>0.05</td>\n",
       "      <td>0.100000</td>\n",
       "      <td>0.0</td>\n",
       "      <td>0.200000</td>\n",
       "      <td>0.000000</td>\n",
       "      <td>0.000000</td>\n",
       "      <td>0.2</td>\n",
       "      <td>0.073529</td>\n",
       "      <td>0.010556</td>\n",
       "    </tr>\n",
       "    <tr>\n",
       "      <th>3</th>\n",
       "      <td>0.000000</td>\n",
       "      <td>0.000000</td>\n",
       "      <td>0.333333</td>\n",
       "      <td>0.00</td>\n",
       "      <td>0.000000</td>\n",
       "      <td>0.0</td>\n",
       "      <td>0.444444</td>\n",
       "      <td>0.000000</td>\n",
       "      <td>0.222222</td>\n",
       "      <td>0.0</td>\n",
       "      <td>0.029316</td>\n",
       "      <td>0.028669</td>\n",
       "    </tr>\n",
       "    <tr>\n",
       "      <th>4</th>\n",
       "      <td>0.000000</td>\n",
       "      <td>0.068966</td>\n",
       "      <td>0.517241</td>\n",
       "      <td>0.00</td>\n",
       "      <td>0.034483</td>\n",
       "      <td>0.0</td>\n",
       "      <td>0.379310</td>\n",
       "      <td>0.000000</td>\n",
       "      <td>0.000000</td>\n",
       "      <td>0.0</td>\n",
       "      <td>0.068720</td>\n",
       "      <td>0.035262</td>\n",
       "    </tr>\n",
       "  </tbody>\n",
       "</table>\n",
       "</div>"
      ],
      "text/plain": [
       "   care.virtue  care.vice  authority.virtue  fairness.vice  fairness.virtue  \\\n",
       "0     0.142857   0.642857          0.071429           0.00         0.000000   \n",
       "1     0.000000   0.272727          0.454545           0.00         0.000000   \n",
       "2     0.050000   0.300000          0.100000           0.05         0.100000   \n",
       "3     0.000000   0.000000          0.333333           0.00         0.000000   \n",
       "4     0.000000   0.068966          0.517241           0.00         0.034483   \n",
       "\n",
       "   loyalty.vice  loyalty.virtue  sanctity.virtue  authority.vice  \\\n",
       "0           0.0        0.071429         0.071429        0.000000   \n",
       "1           0.0        0.272727         0.000000        0.000000   \n",
       "2           0.0        0.200000         0.000000        0.000000   \n",
       "3           0.0        0.444444         0.000000        0.222222   \n",
       "4           0.0        0.379310         0.000000        0.000000   \n",
       "\n",
       "   sanctity.vice  moral_nonmoral_ratio     f_var  \n",
       "0            0.0              0.054688  0.038776  \n",
       "1            0.0              0.041667  0.028375  \n",
       "2            0.2              0.073529  0.010556  \n",
       "3            0.0              0.029316  0.028669  \n",
       "4            0.0              0.068720  0.035262  "
      ]
     },
     "execution_count": 17,
     "metadata": {},
     "output_type": "execute_result"
    }
   ],
   "source": [
    "# Inspect output \n",
    "mfd2 = pd.read_csv('mfd2.csv')\n",
    "mfd2.head()"
   ]
  },
  {
   "cell_type": "markdown",
   "metadata": {},
   "source": [
    "As can be seen, the output for the MFD2 is similar to scoring documents with the eMFD  \n",
    "when using the `vice-virtue` output-metric flag. "
   ]
  },
  {
   "cell_type": "markdown",
   "metadata": {},
   "source": [
    "***"
   ]
  },
  {
   "cell_type": "markdown",
   "metadata": {},
   "source": [
    "#### Scoring Documents with the MFD"
   ]
  },
  {
   "cell_type": "markdown",
   "metadata": {},
   "source": [
    "##### Using Python"
   ]
  },
  {
   "cell_type": "code",
   "execution_count": 18,
   "metadata": {},
   "outputs": [
    {
     "name": "stderr",
     "output_type": "stream",
     "text": [
      "Processed: 500 100% |❤❤❤❤❤❤❤❤❤❤❤❤❤❤❤❤❤❤❤❤| Elapsed Time: 0:01:08 Time:  0:01:08\n"
     ]
    }
   ],
   "source": [
    "from emfdscore.scoring import score_docs \n",
    "\n",
    "num_docs = len(template_input)\n",
    "\n",
    "DICT_TYPE = 'mfd'\n",
    "PROB_MAP = ''\n",
    "SCORE_METHOD = 'bow'\n",
    "OUT_METRICS = ''\n",
    "OUT_CSV_PATH = 'mfd.csv'\n",
    "\n",
    "df = score_docs(template_input,DICT_TYPE,PROB_MAP,SCORE_METHOD,OUT_METRICS,num_docs)\n",
    "df.to_csv(OUT_CSV_PATH, index=False)"
   ]
  },
  {
   "cell_type": "markdown",
   "metadata": {},
   "source": [
    "##### Using the Command Line"
   ]
  },
  {
   "cell_type": "code",
   "execution_count": 19,
   "metadata": {},
   "outputs": [
    {
     "name": "stdout",
     "output_type": "stream",
     "text": [
      "Running eMFDscore\n",
      "Total number of input texts to be scored: 500\n",
      "Scoring completed.\n"
     ]
    },
    {
     "name": "stderr",
     "output_type": "stream",
     "text": [
      "Processed: 500 100% |❤❤❤❤❤❤❤❤❤❤❤❤❤❤❤❤❤❤❤❤| Elapsed Time: 0:01:06 Time:  0:01:06\n"
     ]
    }
   ],
   "source": [
    "%%bash\n",
    "emfdscore emfdscore/template_input.csv mfd.csv bow mfd"
   ]
  },
  {
   "cell_type": "code",
   "execution_count": 20,
   "metadata": {},
   "outputs": [
    {
     "data": {
      "text/html": [
       "<div>\n",
       "<style scoped>\n",
       "    .dataframe tbody tr th:only-of-type {\n",
       "        vertical-align: middle;\n",
       "    }\n",
       "\n",
       "    .dataframe tbody tr th {\n",
       "        vertical-align: top;\n",
       "    }\n",
       "\n",
       "    .dataframe thead th {\n",
       "        text-align: right;\n",
       "    }\n",
       "</style>\n",
       "<table border=\"1\" class=\"dataframe\">\n",
       "  <thead>\n",
       "    <tr style=\"text-align: right;\">\n",
       "      <th></th>\n",
       "      <th>care.virtue</th>\n",
       "      <th>fairness.virtue</th>\n",
       "      <th>loyalty.virtue</th>\n",
       "      <th>authority.virtue</th>\n",
       "      <th>sanctity.virtue</th>\n",
       "      <th>care.vice</th>\n",
       "      <th>fairness.vice</th>\n",
       "      <th>loyalty.vice</th>\n",
       "      <th>authority.vice</th>\n",
       "      <th>sanctity.vice</th>\n",
       "      <th>moral</th>\n",
       "      <th>moral_nonmoral_ratio</th>\n",
       "      <th>f_var</th>\n",
       "    </tr>\n",
       "  </thead>\n",
       "  <tbody>\n",
       "    <tr>\n",
       "      <th>0</th>\n",
       "      <td>0.166667</td>\n",
       "      <td>0.083333</td>\n",
       "      <td>0.000</td>\n",
       "      <td>0.000</td>\n",
       "      <td>0.0</td>\n",
       "      <td>0.583333</td>\n",
       "      <td>0.00</td>\n",
       "      <td>0.083333</td>\n",
       "      <td>0.000000</td>\n",
       "      <td>0.000</td>\n",
       "      <td>0.083333</td>\n",
       "      <td>0.046512</td>\n",
       "      <td>0.033102</td>\n",
       "    </tr>\n",
       "    <tr>\n",
       "      <th>1</th>\n",
       "      <td>0.125000</td>\n",
       "      <td>0.000000</td>\n",
       "      <td>0.250</td>\n",
       "      <td>0.500</td>\n",
       "      <td>0.0</td>\n",
       "      <td>0.125000</td>\n",
       "      <td>0.00</td>\n",
       "      <td>0.000000</td>\n",
       "      <td>0.000000</td>\n",
       "      <td>0.000</td>\n",
       "      <td>0.000000</td>\n",
       "      <td>0.029963</td>\n",
       "      <td>0.027083</td>\n",
       "    </tr>\n",
       "    <tr>\n",
       "      <th>2</th>\n",
       "      <td>0.000000</td>\n",
       "      <td>0.125000</td>\n",
       "      <td>0.125</td>\n",
       "      <td>0.125</td>\n",
       "      <td>0.0</td>\n",
       "      <td>0.500000</td>\n",
       "      <td>0.00</td>\n",
       "      <td>0.000000</td>\n",
       "      <td>0.000000</td>\n",
       "      <td>0.125</td>\n",
       "      <td>0.000000</td>\n",
       "      <td>0.028169</td>\n",
       "      <td>0.023611</td>\n",
       "    </tr>\n",
       "    <tr>\n",
       "      <th>3</th>\n",
       "      <td>0.000000</td>\n",
       "      <td>0.000000</td>\n",
       "      <td>0.500</td>\n",
       "      <td>0.250</td>\n",
       "      <td>0.0</td>\n",
       "      <td>0.083333</td>\n",
       "      <td>0.00</td>\n",
       "      <td>0.000000</td>\n",
       "      <td>0.083333</td>\n",
       "      <td>0.000</td>\n",
       "      <td>0.083333</td>\n",
       "      <td>0.039474</td>\n",
       "      <td>0.026929</td>\n",
       "    </tr>\n",
       "    <tr>\n",
       "      <th>4</th>\n",
       "      <td>0.160000</td>\n",
       "      <td>0.000000</td>\n",
       "      <td>0.360</td>\n",
       "      <td>0.240</td>\n",
       "      <td>0.0</td>\n",
       "      <td>0.120000</td>\n",
       "      <td>0.04</td>\n",
       "      <td>0.000000</td>\n",
       "      <td>0.040000</td>\n",
       "      <td>0.000</td>\n",
       "      <td>0.080000</td>\n",
       "      <td>0.058685</td>\n",
       "      <td>0.015360</td>\n",
       "    </tr>\n",
       "  </tbody>\n",
       "</table>\n",
       "</div>"
      ],
      "text/plain": [
       "   care.virtue  fairness.virtue  loyalty.virtue  authority.virtue  \\\n",
       "0     0.166667         0.083333           0.000             0.000   \n",
       "1     0.125000         0.000000           0.250             0.500   \n",
       "2     0.000000         0.125000           0.125             0.125   \n",
       "3     0.000000         0.000000           0.500             0.250   \n",
       "4     0.160000         0.000000           0.360             0.240   \n",
       "\n",
       "   sanctity.virtue  care.vice  fairness.vice  loyalty.vice  authority.vice  \\\n",
       "0              0.0   0.583333           0.00      0.083333        0.000000   \n",
       "1              0.0   0.125000           0.00      0.000000        0.000000   \n",
       "2              0.0   0.500000           0.00      0.000000        0.000000   \n",
       "3              0.0   0.083333           0.00      0.000000        0.083333   \n",
       "4              0.0   0.120000           0.04      0.000000        0.040000   \n",
       "\n",
       "   sanctity.vice     moral  moral_nonmoral_ratio     f_var  \n",
       "0          0.000  0.083333              0.046512  0.033102  \n",
       "1          0.000  0.000000              0.029963  0.027083  \n",
       "2          0.125  0.000000              0.028169  0.023611  \n",
       "3          0.000  0.083333              0.039474  0.026929  \n",
       "4          0.000  0.080000              0.058685  0.015360  "
      ]
     },
     "execution_count": 20,
     "metadata": {},
     "output_type": "execute_result"
    }
   ],
   "source": [
    "# Inspect output \n",
    "mfd = pd.read_csv('mfd.csv')\n",
    "mfd.head()"
   ]
  },
  {
   "cell_type": "markdown",
   "metadata": {},
   "source": [
    "Likewise, the output for the MFD is in the same format as for the MFD2.0, except that  \n",
    "the MFD also has a category `moral` under which general moral words are grouped."
   ]
  },
  {
   "cell_type": "markdown",
   "metadata": {},
   "source": [
    "***"
   ]
  },
  {
   "cell_type": "markdown",
   "metadata": {},
   "source": [
    "### Questions or Concerns?"
   ]
  },
  {
   "cell_type": "markdown",
   "metadata": {},
   "source": [
    "For any questions or concerns, please open an [issue](https://github.com/medianeuroscience/emfdscore/issues) on the Github repository.  "
   ]
  }
 ],
 "metadata": {
  "kernelspec": {
   "display_name": "Python 3",
   "language": "python",
   "name": "python3"
  },
  "language_info": {
   "codemirror_mode": {
    "name": "ipython",
    "version": 3
   },
   "file_extension": ".py",
   "mimetype": "text/x-python",
   "name": "python",
   "nbconvert_exporter": "python",
   "pygments_lexer": "ipython3",
   "version": "3.7.10"
  }
 },
 "nbformat": 4,
 "nbformat_minor": 4
}
