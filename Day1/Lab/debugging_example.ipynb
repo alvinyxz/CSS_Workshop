{
 "cells": [
  {
   "cell_type": "code",
   "execution_count": null,
   "id": "7d06bc0a-721e-42f5-8340-761cf46d1089",
   "metadata": {},
   "outputs": [],
   "source": [
    "# Debugging Example in Python\n",
    "# This script contains some common mistakes\n",
    "# Use ChatGPT to help identify and fix them\n",
    "# Remember, you can attach various information to ChatGPT:\n",
    "# The file (Day1.csv), your code, the error message, etc\n",
    "# You can even send the entire script to ChatGPT to fix"
   ]
  },
  {
   "cell_type": "code",
   "execution_count": null,
   "id": "f7eefe96-3fd3-4ddc-b0eb-9061222e66b6",
   "metadata": {},
   "outputs": [],
   "source": [
    "import pandas as pd\n",
    "\n",
    "data = pd.read_csv(\"Day1.csv\")"
   ]
  },
  {
   "cell_type": "code",
   "execution_count": null,
   "id": "06cfd137-4ca9-4e2b-8a6c-a8e5e7b7793b",
   "metadata": {},
   "outputs": [],
   "source": [
    "print(data[\"favorits\"].mean())"
   ]
  },
  {
   "cell_type": "code",
   "execution_count": null,
   "id": "3e7f5ef9-3e54-4226-b094-691fbb6fad5a",
   "metadata": {},
   "outputs": [],
   "source": [
    "print(data[favorites])"
   ]
  },
  {
   "cell_type": "code",
   "execution_count": null,
   "id": "e4e764a5-8209-4778-952f-35a3649aaf45",
   "metadata": {},
   "outputs": [],
   "source": [
    "print(data[\"Party\"].corr(data[\"affiliation\"]))\n",
    "# think about if this correlation could ever be calculated and if it is meaningful"
   ]
  },
  {
   "cell_type": "code",
   "execution_count": null,
   "id": "1437495e-ad33-4993-b39c-f3ee9ac401c4",
   "metadata": {},
   "outputs": [],
   "source": [
    "print(data[data[\"favorites\"] > \"100\"])"
   ]
  },
  {
   "cell_type": "code",
   "execution_count": null,
   "id": "9d9a883f-94a4-4bf1-bd82-3a3a98b511b2",
   "metadata": {},
   "outputs": [],
   "source": [
    "print(Data.head())"
   ]
  },
  {
   "cell_type": "code",
   "execution_count": null,
   "id": "2a091c33-14d1-4fcd-b20a-95553edc0f0d",
   "metadata": {},
   "outputs": [],
   "source": [
    "import matplotlib.pyplot as plt\n",
    "plt.scatter(data[\"favorites\"] data[\"retweets\"])\n",
    "plt.show()"
   ]
  }
 ],
 "metadata": {
  "kernelspec": {
   "display_name": "base",
   "language": "python",
   "name": "python3"
  },
  "language_info": {
   "codemirror_mode": {
    "name": "ipython",
    "version": 3
   },
   "file_extension": ".py",
   "mimetype": "text/x-python",
   "name": "python",
   "nbconvert_exporter": "python",
   "pygments_lexer": "ipython3",
   "version": "3.11.5"
  }
 },
 "nbformat": 4,
 "nbformat_minor": 5
}
